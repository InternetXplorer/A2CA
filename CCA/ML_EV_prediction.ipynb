{
 "cells": [
  {
   "cell_type": "code",
   "execution_count": 131,
   "metadata": {},
   "outputs": [],
   "source": [
    "import pandas as pd\n",
    "import numpy as np\n",
    "import matplotlib.pyplot as plt\n",
    "\n",
    "import tensorflow as tf\n",
    "from tensorflow import keras\n",
    "from sklearn.preprocessing import StandardScaler\n",
    "from tensorflow.keras.utils import to_categorical\n",
    "from sklearn.utils import shuffle\n",
    "from keras import models, layers, regularizers\n",
    "\n",
    "from sklearn.model_selection import train_test_split\n",
    "from sklearn import preprocessing\n",
    "from sklearn.metrics import mean_squared_error"
   ]
  },
  {
   "cell_type": "code",
   "execution_count": 132,
   "metadata": {},
   "outputs": [],
   "source": [
    "path = \"../Bloomberg_data_processing/\"\n",
    "filename = \"preprocessed_russell_3k_data_14-03-22.csv\"\n",
    "\n",
    "data = pd.read_csv(path + filename)"
   ]
  },
  {
   "cell_type": "code",
   "execution_count": 133,
   "metadata": {},
   "outputs": [
    {
     "data": {
      "text/html": [
       "<div>\n",
       "<style scoped>\n",
       "    .dataframe tbody tr th:only-of-type {\n",
       "        vertical-align: middle;\n",
       "    }\n",
       "\n",
       "    .dataframe tbody tr th {\n",
       "        vertical-align: top;\n",
       "    }\n",
       "\n",
       "    .dataframe thead th {\n",
       "        text-align: right;\n",
       "    }\n",
       "</style>\n",
       "<table border=\"1\" class=\"dataframe\">\n",
       "  <thead>\n",
       "    <tr style=\"text-align: right;\">\n",
       "      <th></th>\n",
       "      <th>Ticker</th>\n",
       "      <th>Nom</th>\n",
       "      <th>SUB_IND_GICS</th>\n",
       "      <th>IND_GICS</th>\n",
       "      <th>REGION_NAME</th>\n",
       "      <th>CUR_MKT_CAP</th>\n",
       "      <th>CURR_ENTP_VAL</th>\n",
       "      <th>NET_INCOME_FIRM</th>\n",
       "      <th>SALES_REV_TURN</th>\n",
       "      <th>NET_REV</th>\n",
       "      <th>...</th>\n",
       "      <th>CURRENT_EV_TO_T12M_EBIT</th>\n",
       "      <th>CURRENT_EV_TO_T12M_EBITDA</th>\n",
       "      <th>PX_TO_SALES_RATIO</th>\n",
       "      <th>TRAIL_12M_NET_SALES</th>\n",
       "      <th>CURRENT_EV_TO_12M_SALES</th>\n",
       "      <th>PE_RATIO</th>\n",
       "      <th>NUM_OF_EMPLOYEES</th>\n",
       "      <th>SUSTAIN_GROWTH_RT</th>\n",
       "      <th>PROF_MARGIN</th>\n",
       "      <th>Unnamed: 23</th>\n",
       "    </tr>\n",
       "  </thead>\n",
       "  <tbody>\n",
       "    <tr>\n",
       "      <th>0</th>\n",
       "      <td>AA</td>\n",
       "      <td>Alcoa Corp</td>\n",
       "      <td>Aluminum</td>\n",
       "      <td>Materials</td>\n",
       "      <td>United States</td>\n",
       "      <td>1.369201e+10</td>\n",
       "      <td>15267.809120</td>\n",
       "      <td>521.702252</td>\n",
       "      <td>12152.000000</td>\n",
       "      <td>NaN</td>\n",
       "      <td>...</td>\n",
       "      <td>15.982783</td>\n",
       "      <td>9.071782</td>\n",
       "      <td>1.128767</td>\n",
       "      <td>12152.000000</td>\n",
       "      <td>1.256403</td>\n",
       "      <td>12.379874</td>\n",
       "      <td>12200.0</td>\n",
       "      <td>NaN</td>\n",
       "      <td>3.530283</td>\n",
       "      <td>NaN</td>\n",
       "    </tr>\n",
       "    <tr>\n",
       "      <th>1</th>\n",
       "      <td>INO</td>\n",
       "      <td>Inovio Pharmaceuticals Inc</td>\n",
       "      <td>Biotechnology</td>\n",
       "      <td>Health Care</td>\n",
       "      <td>United States</td>\n",
       "      <td>6.880814e+08</td>\n",
       "      <td>319.789847</td>\n",
       "      <td>NaN</td>\n",
       "      <td>1.774758</td>\n",
       "      <td>NaN</td>\n",
       "      <td>...</td>\n",
       "      <td>NaN</td>\n",
       "      <td>NaN</td>\n",
       "      <td>374.061876</td>\n",
       "      <td>1.774758</td>\n",
       "      <td>180.187861</td>\n",
       "      <td>NaN</td>\n",
       "      <td>317.0</td>\n",
       "      <td>NaN</td>\n",
       "      <td>-17109.865680</td>\n",
       "      <td>NaN</td>\n",
       "    </tr>\n",
       "    <tr>\n",
       "      <th>2</th>\n",
       "      <td>AXP</td>\n",
       "      <td>American Express Co</td>\n",
       "      <td>Consumer Finance</td>\n",
       "      <td>Financials</td>\n",
       "      <td>United States</td>\n",
       "      <td>1.317860e+11</td>\n",
       "      <td>150676.059200</td>\n",
       "      <td>NaN</td>\n",
       "      <td>43663.000000</td>\n",
       "      <td>42380.0</td>\n",
       "      <td>...</td>\n",
       "      <td>14.096366</td>\n",
       "      <td>11.024809</td>\n",
       "      <td>3.132584</td>\n",
       "      <td>43663.000000</td>\n",
       "      <td>3.450887</td>\n",
       "      <td>17.372373</td>\n",
       "      <td>64000.0</td>\n",
       "      <td>28.287234</td>\n",
       "      <td>18.459565</td>\n",
       "      <td>NaN</td>\n",
       "    </tr>\n",
       "    <tr>\n",
       "      <th>3</th>\n",
       "      <td>VZ</td>\n",
       "      <td>Verizon Communications Inc</td>\n",
       "      <td>Integrated Telecommunication Services</td>\n",
       "      <td>Communication Services</td>\n",
       "      <td>United States</td>\n",
       "      <td>2.208480e+11</td>\n",
       "      <td>397266.502900</td>\n",
       "      <td>24744.256630</td>\n",
       "      <td>133613.000000</td>\n",
       "      <td>NaN</td>\n",
       "      <td>...</td>\n",
       "      <td>11.965686</td>\n",
       "      <td>7.396647</td>\n",
       "      <td>1.633210</td>\n",
       "      <td>133613.000000</td>\n",
       "      <td>2.973262</td>\n",
       "      <td>9.715623</td>\n",
       "      <td>118400.0</td>\n",
       "      <td>12.442155</td>\n",
       "      <td>16.514112</td>\n",
       "      <td>NaN</td>\n",
       "    </tr>\n",
       "    <tr>\n",
       "      <th>4</th>\n",
       "      <td>SPWH</td>\n",
       "      <td>Sportsman's Warehouse Holdings Inc</td>\n",
       "      <td>Specialty Stores</td>\n",
       "      <td>Consumer Discretionary</td>\n",
       "      <td>United States</td>\n",
       "      <td>4.945274e+08</td>\n",
       "      <td>820.834420</td>\n",
       "      <td>94.017727</td>\n",
       "      <td>1451.767000</td>\n",
       "      <td>NaN</td>\n",
       "      <td>...</td>\n",
       "      <td>7.683198</td>\n",
       "      <td>3.680921</td>\n",
       "      <td>0.322762</td>\n",
       "      <td>1527.979000</td>\n",
       "      <td>0.537203</td>\n",
       "      <td>5.769245</td>\n",
       "      <td>7000.0</td>\n",
       "      <td>37.138918</td>\n",
       "      <td>6.294398</td>\n",
       "      <td>NaN</td>\n",
       "    </tr>\n",
       "  </tbody>\n",
       "</table>\n",
       "<p>5 rows × 24 columns</p>\n",
       "</div>"
      ],
      "text/plain": [
       "  Ticker                                 Nom  \\\n",
       "0     AA                          Alcoa Corp   \n",
       "1    INO          Inovio Pharmaceuticals Inc   \n",
       "2    AXP                 American Express Co   \n",
       "3     VZ          Verizon Communications Inc   \n",
       "4   SPWH  Sportsman's Warehouse Holdings Inc   \n",
       "\n",
       "                            SUB_IND_GICS                IND_GICS  \\\n",
       "0                               Aluminum               Materials   \n",
       "1                          Biotechnology             Health Care   \n",
       "2                       Consumer Finance              Financials   \n",
       "3  Integrated Telecommunication Services  Communication Services   \n",
       "4                       Specialty Stores  Consumer Discretionary   \n",
       "\n",
       "     REGION_NAME   CUR_MKT_CAP  CURR_ENTP_VAL  NET_INCOME_FIRM  \\\n",
       "0  United States  1.369201e+10   15267.809120       521.702252   \n",
       "1  United States  6.880814e+08     319.789847              NaN   \n",
       "2  United States  1.317860e+11  150676.059200              NaN   \n",
       "3  United States  2.208480e+11  397266.502900     24744.256630   \n",
       "4  United States  4.945274e+08     820.834420        94.017727   \n",
       "\n",
       "   SALES_REV_TURN  NET_REV  ...  CURRENT_EV_TO_T12M_EBIT  \\\n",
       "0    12152.000000      NaN  ...                15.982783   \n",
       "1        1.774758      NaN  ...                      NaN   \n",
       "2    43663.000000  42380.0  ...                14.096366   \n",
       "3   133613.000000      NaN  ...                11.965686   \n",
       "4     1451.767000      NaN  ...                 7.683198   \n",
       "\n",
       "   CURRENT_EV_TO_T12M_EBITDA  PX_TO_SALES_RATIO  TRAIL_12M_NET_SALES  \\\n",
       "0                   9.071782           1.128767         12152.000000   \n",
       "1                        NaN         374.061876             1.774758   \n",
       "2                  11.024809           3.132584         43663.000000   \n",
       "3                   7.396647           1.633210        133613.000000   \n",
       "4                   3.680921           0.322762          1527.979000   \n",
       "\n",
       "   CURRENT_EV_TO_12M_SALES   PE_RATIO  NUM_OF_EMPLOYEES  SUSTAIN_GROWTH_RT  \\\n",
       "0                 1.256403  12.379874           12200.0                NaN   \n",
       "1               180.187861        NaN             317.0                NaN   \n",
       "2                 3.450887  17.372373           64000.0          28.287234   \n",
       "3                 2.973262   9.715623          118400.0          12.442155   \n",
       "4                 0.537203   5.769245            7000.0          37.138918   \n",
       "\n",
       "    PROF_MARGIN  Unnamed: 23  \n",
       "0      3.530283          NaN  \n",
       "1 -17109.865680          NaN  \n",
       "2     18.459565          NaN  \n",
       "3     16.514112          NaN  \n",
       "4      6.294398          NaN  \n",
       "\n",
       "[5 rows x 24 columns]"
      ]
     },
     "execution_count": 133,
     "metadata": {},
     "output_type": "execute_result"
    }
   ],
   "source": [
    "data.head(5)"
   ]
  },
  {
   "cell_type": "code",
   "execution_count": 59,
   "metadata": {},
   "outputs": [],
   "source": [
    "# le = preprocessing.LabelEncoder()\n",
    "# data[\"IND_GICS\"] = le.fit_transform(data[\"IND_GICS\"])\n",
    "\n",
    "# le = preprocessing.LabelEncoder()\n",
    "# data[\"SUB_IND_GICS\"] = le.fit_transform(data[\"SUB_IND_GICS\"])"
   ]
  },
  {
   "cell_type": "code",
   "execution_count": 134,
   "metadata": {},
   "outputs": [
    {
     "data": {
      "text/plain": [
       "Ticker                        object\n",
       "Nom                           object\n",
       "SUB_IND_GICS                  object\n",
       "IND_GICS                      object\n",
       "REGION_NAME                   object\n",
       "CUR_MKT_CAP                  float64\n",
       "CURR_ENTP_VAL                float64\n",
       "NET_INCOME_FIRM              float64\n",
       "SALES_REV_TURN               float64\n",
       "NET_REV                      float64\n",
       "GROSS_PROFIT                 float64\n",
       "EBIT                         float64\n",
       "EBITDA                       float64\n",
       "NET_DEBT                     float64\n",
       "CURRENT_EV_TO_T12M_EBIT      float64\n",
       "CURRENT_EV_TO_T12M_EBITDA    float64\n",
       "PX_TO_SALES_RATIO            float64\n",
       "TRAIL_12M_NET_SALES          float64\n",
       "CURRENT_EV_TO_12M_SALES      float64\n",
       "PE_RATIO                     float64\n",
       "NUM_OF_EMPLOYEES             float64\n",
       "SUSTAIN_GROWTH_RT            float64\n",
       "PROF_MARGIN                  float64\n",
       "Unnamed: 23                  float64\n",
       "dtype: object"
      ]
     },
     "execution_count": 134,
     "metadata": {},
     "output_type": "execute_result"
    }
   ],
   "source": [
    "data.dtypes"
   ]
  },
  {
   "cell_type": "code",
   "execution_count": 136,
   "metadata": {},
   "outputs": [],
   "source": [
    "data = data.drop(columns=[\"Ticker\", \"Nom\", \"Unnamed: 23\", \"CURRENT_EV_TO_T12M_EBIT\", \"CURRENT_EV_TO_T12M_EBITDA\", 'CURRENT_EV_TO_12M_SALES'])\n",
    "data = data.dropna(subset=['CURR_ENTP_VAL'])"
   ]
  },
  {
   "cell_type": "code",
   "execution_count": 137,
   "metadata": {},
   "outputs": [],
   "source": [
    "one_hot1 = pd.get_dummies(data[\"IND_GICS\"])\n",
    "data = data.drop(\"IND_GICS\", axis=1)\n",
    "\n",
    "one_hot2 = pd.get_dummies(data[\"SUB_IND_GICS\"])\n",
    "data = data.drop(\"SUB_IND_GICS\", axis=1)\n",
    "\n",
    "one_hot3 = pd.get_dummies(data[\"REGION_NAME\"])\n",
    "data = data.drop(\"REGION_NAME\", axis=1)\n",
    "\n",
    "columns_to_scale = data.columns.values.tolist()\n",
    "\n",
    "data = data.join(one_hot1)\n",
    "data = data.join(one_hot2)\n",
    "data = data.join(one_hot3)"
   ]
  },
  {
   "cell_type": "code",
   "execution_count": 138,
   "metadata": {},
   "outputs": [
    {
     "data": {
      "text/html": [
       "<div>\n",
       "<style scoped>\n",
       "    .dataframe tbody tr th:only-of-type {\n",
       "        vertical-align: middle;\n",
       "    }\n",
       "\n",
       "    .dataframe tbody tr th {\n",
       "        vertical-align: top;\n",
       "    }\n",
       "\n",
       "    .dataframe thead th {\n",
       "        text-align: right;\n",
       "    }\n",
       "</style>\n",
       "<table border=\"1\" class=\"dataframe\">\n",
       "  <thead>\n",
       "    <tr style=\"text-align: right;\">\n",
       "      <th></th>\n",
       "      <th>CUR_MKT_CAP</th>\n",
       "      <th>CURR_ENTP_VAL</th>\n",
       "      <th>NET_INCOME_FIRM</th>\n",
       "      <th>SALES_REV_TURN</th>\n",
       "      <th>NET_REV</th>\n",
       "      <th>GROSS_PROFIT</th>\n",
       "      <th>EBIT</th>\n",
       "      <th>EBITDA</th>\n",
       "      <th>NET_DEBT</th>\n",
       "      <th>PX_TO_SALES_RATIO</th>\n",
       "      <th>...</th>\n",
       "      <th>Panama</th>\n",
       "      <th>Peru</th>\n",
       "      <th>Puerto Rico</th>\n",
       "      <th>Singapore</th>\n",
       "      <th>Sweden</th>\n",
       "      <th>Switzerland</th>\n",
       "      <th>Thailand</th>\n",
       "      <th>United Kingdom</th>\n",
       "      <th>United States</th>\n",
       "      <th>Uruguay</th>\n",
       "    </tr>\n",
       "  </thead>\n",
       "  <tbody>\n",
       "    <tr>\n",
       "      <th>0</th>\n",
       "      <td>1.369201e+10</td>\n",
       "      <td>15267.809120</td>\n",
       "      <td>521.702252</td>\n",
       "      <td>12152.000000</td>\n",
       "      <td>NaN</td>\n",
       "      <td>2999.000</td>\n",
       "      <td>949.000000</td>\n",
       "      <td>1683.000000</td>\n",
       "      <td>12.000000</td>\n",
       "      <td>1.128767</td>\n",
       "      <td>...</td>\n",
       "      <td>0</td>\n",
       "      <td>0</td>\n",
       "      <td>0</td>\n",
       "      <td>0</td>\n",
       "      <td>0</td>\n",
       "      <td>0</td>\n",
       "      <td>0</td>\n",
       "      <td>0</td>\n",
       "      <td>1</td>\n",
       "      <td>0</td>\n",
       "    </tr>\n",
       "    <tr>\n",
       "      <th>1</th>\n",
       "      <td>6.880814e+08</td>\n",
       "      <td>319.789847</td>\n",
       "      <td>NaN</td>\n",
       "      <td>1.774758</td>\n",
       "      <td>NaN</td>\n",
       "      <td>NaN</td>\n",
       "      <td>-301.217919</td>\n",
       "      <td>-294.257408</td>\n",
       "      <td>-368.291556</td>\n",
       "      <td>374.061876</td>\n",
       "      <td>...</td>\n",
       "      <td>0</td>\n",
       "      <td>0</td>\n",
       "      <td>0</td>\n",
       "      <td>0</td>\n",
       "      <td>0</td>\n",
       "      <td>0</td>\n",
       "      <td>0</td>\n",
       "      <td>0</td>\n",
       "      <td>1</td>\n",
       "      <td>0</td>\n",
       "    </tr>\n",
       "    <tr>\n",
       "      <th>2</th>\n",
       "      <td>1.317860e+11</td>\n",
       "      <td>150676.059200</td>\n",
       "      <td>NaN</td>\n",
       "      <td>43663.000000</td>\n",
       "      <td>42380.0</td>\n",
       "      <td>NaN</td>\n",
       "      <td>11972.000000</td>\n",
       "      <td>13667.000000</td>\n",
       "      <td>18890.000000</td>\n",
       "      <td>3.132584</td>\n",
       "      <td>...</td>\n",
       "      <td>0</td>\n",
       "      <td>0</td>\n",
       "      <td>0</td>\n",
       "      <td>0</td>\n",
       "      <td>0</td>\n",
       "      <td>0</td>\n",
       "      <td>0</td>\n",
       "      <td>0</td>\n",
       "      <td>1</td>\n",
       "      <td>0</td>\n",
       "    </tr>\n",
       "    <tr>\n",
       "      <th>3</th>\n",
       "      <td>2.208480e+11</td>\n",
       "      <td>397266.502900</td>\n",
       "      <td>24744.256630</td>\n",
       "      <td>133613.000000</td>\n",
       "      <td>NaN</td>\n",
       "      <td>77312.000</td>\n",
       "      <td>32448.000000</td>\n",
       "      <td>53709.000000</td>\n",
       "      <td>175009.000000</td>\n",
       "      <td>1.633210</td>\n",
       "      <td>...</td>\n",
       "      <td>0</td>\n",
       "      <td>0</td>\n",
       "      <td>0</td>\n",
       "      <td>0</td>\n",
       "      <td>0</td>\n",
       "      <td>0</td>\n",
       "      <td>0</td>\n",
       "      <td>0</td>\n",
       "      <td>1</td>\n",
       "      <td>0</td>\n",
       "    </tr>\n",
       "    <tr>\n",
       "      <th>4</th>\n",
       "      <td>4.945274e+08</td>\n",
       "      <td>820.834420</td>\n",
       "      <td>94.017727</td>\n",
       "      <td>1451.767000</td>\n",
       "      <td>NaN</td>\n",
       "      <td>476.454</td>\n",
       "      <td>122.748000</td>\n",
       "      <td>212.589000</td>\n",
       "      <td>198.785000</td>\n",
       "      <td>0.322762</td>\n",
       "      <td>...</td>\n",
       "      <td>0</td>\n",
       "      <td>0</td>\n",
       "      <td>0</td>\n",
       "      <td>0</td>\n",
       "      <td>0</td>\n",
       "      <td>0</td>\n",
       "      <td>0</td>\n",
       "      <td>0</td>\n",
       "      <td>1</td>\n",
       "      <td>0</td>\n",
       "    </tr>\n",
       "  </tbody>\n",
       "</table>\n",
       "<p>5 rows × 205 columns</p>\n",
       "</div>"
      ],
      "text/plain": [
       "    CUR_MKT_CAP  CURR_ENTP_VAL  NET_INCOME_FIRM  SALES_REV_TURN  NET_REV  \\\n",
       "0  1.369201e+10   15267.809120       521.702252    12152.000000      NaN   \n",
       "1  6.880814e+08     319.789847              NaN        1.774758      NaN   \n",
       "2  1.317860e+11  150676.059200              NaN    43663.000000  42380.0   \n",
       "3  2.208480e+11  397266.502900     24744.256630   133613.000000      NaN   \n",
       "4  4.945274e+08     820.834420        94.017727     1451.767000      NaN   \n",
       "\n",
       "   GROSS_PROFIT          EBIT        EBITDA       NET_DEBT  PX_TO_SALES_RATIO  \\\n",
       "0      2999.000    949.000000   1683.000000      12.000000           1.128767   \n",
       "1           NaN   -301.217919   -294.257408    -368.291556         374.061876   \n",
       "2           NaN  11972.000000  13667.000000   18890.000000           3.132584   \n",
       "3     77312.000  32448.000000  53709.000000  175009.000000           1.633210   \n",
       "4       476.454    122.748000    212.589000     198.785000           0.322762   \n",
       "\n",
       "   ...  Panama  Peru  Puerto Rico  Singapore  Sweden  Switzerland  Thailand  \\\n",
       "0  ...       0     0            0          0       0            0         0   \n",
       "1  ...       0     0            0          0       0            0         0   \n",
       "2  ...       0     0            0          0       0            0         0   \n",
       "3  ...       0     0            0          0       0            0         0   \n",
       "4  ...       0     0            0          0       0            0         0   \n",
       "\n",
       "   United Kingdom  United States  Uruguay  \n",
       "0               0              1        0  \n",
       "1               0              1        0  \n",
       "2               0              1        0  \n",
       "3               0              1        0  \n",
       "4               0              1        0  \n",
       "\n",
       "[5 rows x 205 columns]"
      ]
     },
     "execution_count": 138,
     "metadata": {},
     "output_type": "execute_result"
    }
   ],
   "source": [
    "data.head(5)"
   ]
  },
  {
   "cell_type": "code",
   "execution_count": 139,
   "metadata": {},
   "outputs": [],
   "source": [
    "X = data.drop(columns= [\"CURR_ENTP_VAL\"])\n",
    "y = data[\"CURR_ENTP_VAL\"]"
   ]
  },
  {
   "cell_type": "code",
   "execution_count": 140,
   "metadata": {},
   "outputs": [],
   "source": [
    "train_X, test_X, train_y, test_y = train_test_split(X, y, train_size=0.7, random_state=1)"
   ]
  },
  {
   "cell_type": "code",
   "execution_count": 141,
   "metadata": {},
   "outputs": [],
   "source": [
    "scaler = StandardScaler()\n",
    "columns_to_scale.remove(\"CURR_ENTP_VAL\")\n",
    "train_X[columns_to_scale] = scaler.fit_transform(train_X[columns_to_scale])\n",
    "test_X[columns_to_scale] = scaler.transform(test_X[columns_to_scale])"
   ]
  },
  {
   "cell_type": "code",
   "execution_count": 142,
   "metadata": {},
   "outputs": [
    {
     "data": {
      "text/html": [
       "<div>\n",
       "<style scoped>\n",
       "    .dataframe tbody tr th:only-of-type {\n",
       "        vertical-align: middle;\n",
       "    }\n",
       "\n",
       "    .dataframe tbody tr th {\n",
       "        vertical-align: top;\n",
       "    }\n",
       "\n",
       "    .dataframe thead th {\n",
       "        text-align: right;\n",
       "    }\n",
       "</style>\n",
       "<table border=\"1\" class=\"dataframe\">\n",
       "  <thead>\n",
       "    <tr style=\"text-align: right;\">\n",
       "      <th></th>\n",
       "      <th>CUR_MKT_CAP</th>\n",
       "      <th>NET_INCOME_FIRM</th>\n",
       "      <th>SALES_REV_TURN</th>\n",
       "      <th>NET_REV</th>\n",
       "      <th>GROSS_PROFIT</th>\n",
       "      <th>EBIT</th>\n",
       "      <th>EBITDA</th>\n",
       "      <th>NET_DEBT</th>\n",
       "      <th>PX_TO_SALES_RATIO</th>\n",
       "      <th>TRAIL_12M_NET_SALES</th>\n",
       "      <th>...</th>\n",
       "      <th>Panama</th>\n",
       "      <th>Peru</th>\n",
       "      <th>Puerto Rico</th>\n",
       "      <th>Singapore</th>\n",
       "      <th>Sweden</th>\n",
       "      <th>Switzerland</th>\n",
       "      <th>Thailand</th>\n",
       "      <th>United Kingdom</th>\n",
       "      <th>United States</th>\n",
       "      <th>Uruguay</th>\n",
       "    </tr>\n",
       "  </thead>\n",
       "  <tbody>\n",
       "    <tr>\n",
       "      <th>count</th>\n",
       "      <td>1.962000e+03</td>\n",
       "      <td>8.710000e+02</td>\n",
       "      <td>1.943000e+03</td>\n",
       "      <td>6.900000e+01</td>\n",
       "      <td>1.534000e+03</td>\n",
       "      <td>1.907000e+03</td>\n",
       "      <td>1.885000e+03</td>\n",
       "      <td>1.957000e+03</td>\n",
       "      <td>1.817000e+03</td>\n",
       "      <td>1.910000e+03</td>\n",
       "      <td>...</td>\n",
       "      <td>1962.000000</td>\n",
       "      <td>1962.000000</td>\n",
       "      <td>1962.0</td>\n",
       "      <td>1962.000000</td>\n",
       "      <td>1962.000000</td>\n",
       "      <td>1962.000000</td>\n",
       "      <td>1962.000000</td>\n",
       "      <td>1962.000000</td>\n",
       "      <td>1962.000000</td>\n",
       "      <td>1962.0</td>\n",
       "    </tr>\n",
       "    <tr>\n",
       "      <th>mean</th>\n",
       "      <td>-1.086457e-17</td>\n",
       "      <td>1.937473e-17</td>\n",
       "      <td>-1.097081e-17</td>\n",
       "      <td>3.861645e-17</td>\n",
       "      <td>-8.105931e-18</td>\n",
       "      <td>-1.397239e-17</td>\n",
       "      <td>1.884729e-18</td>\n",
       "      <td>5.446163e-18</td>\n",
       "      <td>9.776317e-18</td>\n",
       "      <td>2.046065e-17</td>\n",
       "      <td>...</td>\n",
       "      <td>0.000510</td>\n",
       "      <td>0.000510</td>\n",
       "      <td>0.0</td>\n",
       "      <td>0.000510</td>\n",
       "      <td>0.000510</td>\n",
       "      <td>0.001529</td>\n",
       "      <td>0.000510</td>\n",
       "      <td>0.005097</td>\n",
       "      <td>0.968400</td>\n",
       "      <td>0.0</td>\n",
       "    </tr>\n",
       "    <tr>\n",
       "      <th>std</th>\n",
       "      <td>1.000255e+00</td>\n",
       "      <td>1.000575e+00</td>\n",
       "      <td>1.000257e+00</td>\n",
       "      <td>1.007326e+00</td>\n",
       "      <td>1.000326e+00</td>\n",
       "      <td>1.000262e+00</td>\n",
       "      <td>1.000265e+00</td>\n",
       "      <td>1.000256e+00</td>\n",
       "      <td>1.000275e+00</td>\n",
       "      <td>1.000262e+00</td>\n",
       "      <td>...</td>\n",
       "      <td>0.022576</td>\n",
       "      <td>0.022576</td>\n",
       "      <td>0.0</td>\n",
       "      <td>0.022576</td>\n",
       "      <td>0.022576</td>\n",
       "      <td>0.039083</td>\n",
       "      <td>0.022576</td>\n",
       "      <td>0.071228</td>\n",
       "      <td>0.174978</td>\n",
       "      <td>0.0</td>\n",
       "    </tr>\n",
       "    <tr>\n",
       "      <th>min</th>\n",
       "      <td>-1.913119e-01</td>\n",
       "      <td>-7.294713e-01</td>\n",
       "      <td>-2.519526e-01</td>\n",
       "      <td>-4.568806e-01</td>\n",
       "      <td>-3.335202e-01</td>\n",
       "      <td>-1.691683e+00</td>\n",
       "      <td>-9.867668e-01</td>\n",
       "      <td>-3.041067e+01</td>\n",
       "      <td>-4.690763e-02</td>\n",
       "      <td>-2.552224e-01</td>\n",
       "      <td>...</td>\n",
       "      <td>0.000000</td>\n",
       "      <td>0.000000</td>\n",
       "      <td>0.0</td>\n",
       "      <td>0.000000</td>\n",
       "      <td>0.000000</td>\n",
       "      <td>0.000000</td>\n",
       "      <td>0.000000</td>\n",
       "      <td>0.000000</td>\n",
       "      <td>0.000000</td>\n",
       "      <td>0.0</td>\n",
       "    </tr>\n",
       "    <tr>\n",
       "      <th>25%</th>\n",
       "      <td>-1.833938e-01</td>\n",
       "      <td>-2.566835e-01</td>\n",
       "      <td>-2.397583e-01</td>\n",
       "      <td>-4.036352e-01</td>\n",
       "      <td>-2.357496e-01</td>\n",
       "      <td>-1.994811e-01</td>\n",
       "      <td>-2.249277e-01</td>\n",
       "      <td>-1.623629e-01</td>\n",
       "      <td>-4.546404e-02</td>\n",
       "      <td>-2.427133e-01</td>\n",
       "      <td>...</td>\n",
       "      <td>0.000000</td>\n",
       "      <td>0.000000</td>\n",
       "      <td>0.0</td>\n",
       "      <td>0.000000</td>\n",
       "      <td>0.000000</td>\n",
       "      <td>0.000000</td>\n",
       "      <td>0.000000</td>\n",
       "      <td>0.000000</td>\n",
       "      <td>1.000000</td>\n",
       "      <td>0.0</td>\n",
       "    </tr>\n",
       "    <tr>\n",
       "      <th>50%</th>\n",
       "      <td>-1.649739e-01</td>\n",
       "      <td>-2.214594e-01</td>\n",
       "      <td>-2.084343e-01</td>\n",
       "      <td>-3.299391e-01</td>\n",
       "      <td>-2.051633e-01</td>\n",
       "      <td>-1.760272e-01</td>\n",
       "      <td>-1.959263e-01</td>\n",
       "      <td>-1.377849e-01</td>\n",
       "      <td>-4.355683e-02</td>\n",
       "      <td>-2.112708e-01</td>\n",
       "      <td>...</td>\n",
       "      <td>0.000000</td>\n",
       "      <td>0.000000</td>\n",
       "      <td>0.0</td>\n",
       "      <td>0.000000</td>\n",
       "      <td>0.000000</td>\n",
       "      <td>0.000000</td>\n",
       "      <td>0.000000</td>\n",
       "      <td>0.000000</td>\n",
       "      <td>1.000000</td>\n",
       "      <td>0.0</td>\n",
       "    </tr>\n",
       "    <tr>\n",
       "      <th>75%</th>\n",
       "      <td>-1.056166e-01</td>\n",
       "      <td>-1.018159e-01</td>\n",
       "      <td>-1.053118e-01</td>\n",
       "      <td>-1.461972e-01</td>\n",
       "      <td>-1.065697e-01</td>\n",
       "      <td>-9.492406e-02</td>\n",
       "      <td>-1.030904e-01</td>\n",
       "      <td>-2.086488e-02</td>\n",
       "      <td>-3.878162e-02</td>\n",
       "      <td>-1.060307e-01</td>\n",
       "      <td>...</td>\n",
       "      <td>0.000000</td>\n",
       "      <td>0.000000</td>\n",
       "      <td>0.0</td>\n",
       "      <td>0.000000</td>\n",
       "      <td>0.000000</td>\n",
       "      <td>0.000000</td>\n",
       "      <td>0.000000</td>\n",
       "      <td>0.000000</td>\n",
       "      <td>1.000000</td>\n",
       "      <td>0.0</td>\n",
       "    </tr>\n",
       "    <tr>\n",
       "      <th>max</th>\n",
       "      <td>2.350957e+01</td>\n",
       "      <td>1.512802e+01</td>\n",
       "      <td>2.091242e+01</td>\n",
       "      <td>6.248205e+00</td>\n",
       "      <td>1.745531e+01</td>\n",
       "      <td>2.407539e+01</td>\n",
       "      <td>2.057067e+01</td>\n",
       "      <td>1.324652e+01</td>\n",
       "      <td>4.121209e+01</td>\n",
       "      <td>2.058628e+01</td>\n",
       "      <td>...</td>\n",
       "      <td>1.000000</td>\n",
       "      <td>1.000000</td>\n",
       "      <td>0.0</td>\n",
       "      <td>1.000000</td>\n",
       "      <td>1.000000</td>\n",
       "      <td>1.000000</td>\n",
       "      <td>1.000000</td>\n",
       "      <td>1.000000</td>\n",
       "      <td>1.000000</td>\n",
       "      <td>0.0</td>\n",
       "    </tr>\n",
       "  </tbody>\n",
       "</table>\n",
       "<p>8 rows × 204 columns</p>\n",
       "</div>"
      ],
      "text/plain": [
       "        CUR_MKT_CAP  NET_INCOME_FIRM  SALES_REV_TURN       NET_REV  \\\n",
       "count  1.962000e+03     8.710000e+02    1.943000e+03  6.900000e+01   \n",
       "mean  -1.086457e-17     1.937473e-17   -1.097081e-17  3.861645e-17   \n",
       "std    1.000255e+00     1.000575e+00    1.000257e+00  1.007326e+00   \n",
       "min   -1.913119e-01    -7.294713e-01   -2.519526e-01 -4.568806e-01   \n",
       "25%   -1.833938e-01    -2.566835e-01   -2.397583e-01 -4.036352e-01   \n",
       "50%   -1.649739e-01    -2.214594e-01   -2.084343e-01 -3.299391e-01   \n",
       "75%   -1.056166e-01    -1.018159e-01   -1.053118e-01 -1.461972e-01   \n",
       "max    2.350957e+01     1.512802e+01    2.091242e+01  6.248205e+00   \n",
       "\n",
       "       GROSS_PROFIT          EBIT        EBITDA      NET_DEBT  \\\n",
       "count  1.534000e+03  1.907000e+03  1.885000e+03  1.957000e+03   \n",
       "mean  -8.105931e-18 -1.397239e-17  1.884729e-18  5.446163e-18   \n",
       "std    1.000326e+00  1.000262e+00  1.000265e+00  1.000256e+00   \n",
       "min   -3.335202e-01 -1.691683e+00 -9.867668e-01 -3.041067e+01   \n",
       "25%   -2.357496e-01 -1.994811e-01 -2.249277e-01 -1.623629e-01   \n",
       "50%   -2.051633e-01 -1.760272e-01 -1.959263e-01 -1.377849e-01   \n",
       "75%   -1.065697e-01 -9.492406e-02 -1.030904e-01 -2.086488e-02   \n",
       "max    1.745531e+01  2.407539e+01  2.057067e+01  1.324652e+01   \n",
       "\n",
       "       PX_TO_SALES_RATIO  TRAIL_12M_NET_SALES  ...       Panama         Peru  \\\n",
       "count       1.817000e+03         1.910000e+03  ...  1962.000000  1962.000000   \n",
       "mean        9.776317e-18         2.046065e-17  ...     0.000510     0.000510   \n",
       "std         1.000275e+00         1.000262e+00  ...     0.022576     0.022576   \n",
       "min        -4.690763e-02        -2.552224e-01  ...     0.000000     0.000000   \n",
       "25%        -4.546404e-02        -2.427133e-01  ...     0.000000     0.000000   \n",
       "50%        -4.355683e-02        -2.112708e-01  ...     0.000000     0.000000   \n",
       "75%        -3.878162e-02        -1.060307e-01  ...     0.000000     0.000000   \n",
       "max         4.121209e+01         2.058628e+01  ...     1.000000     1.000000   \n",
       "\n",
       "       Puerto Rico    Singapore       Sweden  Switzerland     Thailand  \\\n",
       "count       1962.0  1962.000000  1962.000000  1962.000000  1962.000000   \n",
       "mean           0.0     0.000510     0.000510     0.001529     0.000510   \n",
       "std            0.0     0.022576     0.022576     0.039083     0.022576   \n",
       "min            0.0     0.000000     0.000000     0.000000     0.000000   \n",
       "25%            0.0     0.000000     0.000000     0.000000     0.000000   \n",
       "50%            0.0     0.000000     0.000000     0.000000     0.000000   \n",
       "75%            0.0     0.000000     0.000000     0.000000     0.000000   \n",
       "max            0.0     1.000000     1.000000     1.000000     1.000000   \n",
       "\n",
       "       United Kingdom  United States  Uruguay  \n",
       "count     1962.000000    1962.000000   1962.0  \n",
       "mean         0.005097       0.968400      0.0  \n",
       "std          0.071228       0.174978      0.0  \n",
       "min          0.000000       0.000000      0.0  \n",
       "25%          0.000000       1.000000      0.0  \n",
       "50%          0.000000       1.000000      0.0  \n",
       "75%          0.000000       1.000000      0.0  \n",
       "max          1.000000       1.000000      0.0  \n",
       "\n",
       "[8 rows x 204 columns]"
      ]
     },
     "execution_count": 142,
     "metadata": {},
     "output_type": "execute_result"
    }
   ],
   "source": [
    "train_X.describe()"
   ]
  },
  {
   "cell_type": "code",
   "execution_count": 143,
   "metadata": {},
   "outputs": [],
   "source": [
    "scaler_y = StandardScaler()\n",
    "train_y = pd.DataFrame(train_y)\n",
    "test_y = pd.DataFrame(test_y)\n",
    "train_y = scaler_y.fit_transform(train_y)\n",
    "test_y = scaler_y.transform(test_y)"
   ]
  },
  {
   "cell_type": "code",
   "execution_count": 144,
   "metadata": {},
   "outputs": [
    {
     "name": "stdout",
     "output_type": "stream",
     "text": [
      "train_X NaN values:\n",
      "CUR_MKT_CAP           0\n",
      "NET_INCOME_FIRM    1091\n",
      "SALES_REV_TURN       19\n",
      "NET_REV            1893\n",
      "GROSS_PROFIT        428\n",
      "                   ... \n",
      "Switzerland           0\n",
      "Thailand              0\n",
      "United Kingdom        0\n",
      "United States         0\n",
      "Uruguay               0\n",
      "Length: 204, dtype: int64\n",
      "\n",
      "test_X NaN values:\n",
      "CUR_MKT_CAP          0\n",
      "NET_INCOME_FIRM    482\n",
      "SALES_REV_TURN       9\n",
      "NET_REV            810\n",
      "GROSS_PROFIT       176\n",
      "                  ... \n",
      "Switzerland          0\n",
      "Thailand             0\n",
      "United Kingdom       0\n",
      "United States        0\n",
      "Uruguay              0\n",
      "Length: 204, dtype: int64\n"
     ]
    }
   ],
   "source": [
    "print(\"train_X NaN values:\")\n",
    "print(train_X.isnull().sum())\n",
    "\n",
    "print(\"\\ntest_X NaN values:\")\n",
    "print(test_X.isnull().sum())"
   ]
  },
  {
   "cell_type": "code",
   "execution_count": 145,
   "metadata": {},
   "outputs": [],
   "source": [
    "train_X = train_X.fillna(0)\n",
    "test_X = test_X.fillna(0)"
   ]
  },
  {
   "cell_type": "code",
   "execution_count": 146,
   "metadata": {},
   "outputs": [
    {
     "name": "stdout",
     "output_type": "stream",
     "text": [
      "train_X NaN values:\n",
      "CUR_MKT_CAP        0\n",
      "NET_INCOME_FIRM    0\n",
      "SALES_REV_TURN     0\n",
      "NET_REV            0\n",
      "GROSS_PROFIT       0\n",
      "                  ..\n",
      "Switzerland        0\n",
      "Thailand           0\n",
      "United Kingdom     0\n",
      "United States      0\n",
      "Uruguay            0\n",
      "Length: 204, dtype: int64\n",
      "\n",
      "test_X NaN values:\n",
      "CUR_MKT_CAP        0\n",
      "NET_INCOME_FIRM    0\n",
      "SALES_REV_TURN     0\n",
      "NET_REV            0\n",
      "GROSS_PROFIT       0\n",
      "                  ..\n",
      "Switzerland        0\n",
      "Thailand           0\n",
      "United Kingdom     0\n",
      "United States      0\n",
      "Uruguay            0\n",
      "Length: 204, dtype: int64\n"
     ]
    }
   ],
   "source": [
    "print(\"train_X NaN values:\")\n",
    "print(train_X.isnull().sum())\n",
    "\n",
    "print(\"\\ntest_X NaN values:\")\n",
    "print(test_X.isnull().sum())"
   ]
  },
  {
   "cell_type": "code",
   "execution_count": 147,
   "metadata": {},
   "outputs": [],
   "source": [
    "train_X = train_X.values\n",
    "test_X = test_X.values"
   ]
  },
  {
   "cell_type": "markdown",
   "metadata": {},
   "source": [
    "### Model"
   ]
  },
  {
   "cell_type": "code",
   "execution_count": 148,
   "metadata": {},
   "outputs": [],
   "source": [
    "linear_reg = models.Sequential()\n",
    "\n",
    "linear_reg.add(layers.Dense(1))"
   ]
  },
  {
   "cell_type": "code",
   "execution_count": 149,
   "metadata": {},
   "outputs": [],
   "source": [
    "linear_reg.compile(loss=\"mse\", optimizer=\"adam\", metrics=[\"mse\", \"mae\"])"
   ]
  },
  {
   "cell_type": "code",
   "execution_count": 150,
   "metadata": {},
   "outputs": [],
   "source": [
    "# history1 = linear_reg.fit(train_X, train_y, epochs=200, verbose=0, validation_data=(test_X, test_y))\n",
    "history1 = linear_reg.fit(train_X, train_y, epochs=200, verbose=0, validation_split=0.2)"
   ]
  },
  {
   "cell_type": "code",
   "execution_count": 151,
   "metadata": {},
   "outputs": [
    {
     "data": {
      "image/png": "[encoded data removed]",
      "text/plain": [
       "<Figure size 432x288 with 1 Axes>"
      ]
     },
     "metadata": {
      "needs_background": "light"
     },
     "output_type": "display_data"
    }
   ],
   "source": [
    "metric = \"mse\"\n",
    "epochs = range(1, (len(history1.history[metric]) + 1))\n",
    "\n",
    "plt.plot(epochs, history1.history[metric], label=\"train\", color=\"r\")\n",
    "plt.plot(epochs, history1.history[f\"val_{metric}\"], label=\"val\", color=\"b\")\n",
    "plt.title(f\"val {metric} over the epochs\", pad=-50)\n",
    "plt.legend()\n",
    "plt.grid()\n",
    "plt.show()"
   ]
  },
  {
   "cell_type": "code",
   "execution_count": 77,
   "metadata": {},
   "outputs": [],
   "source": [
    "test_results={}\n",
    "test_results['linear_model'] = linear_reg.evaluate(test_X, test_y, verbose=0)[0]"
   ]
  },
  {
   "cell_type": "code",
   "execution_count": 78,
   "metadata": {},
   "outputs": [],
   "source": [
    "# model.compile(loss=\"mean_square_error\", optimizer=\"adam\", metrics=[\"mse\"])"
   ]
  },
  {
   "cell_type": "code",
   "execution_count": 79,
   "metadata": {},
   "outputs": [
    {
     "data": {
      "text/plain": [
       "{'linear_model': 0.007679871283471584}"
      ]
     },
     "execution_count": 79,
     "metadata": {},
     "output_type": "execute_result"
    }
   ],
   "source": [
    "test_results"
   ]
  },
  {
   "cell_type": "code",
   "execution_count": 80,
   "metadata": {},
   "outputs": [
    {
     "name": "stdout",
     "output_type": "stream",
     "text": [
      "['loss', 'mse', 'mae']\n"
     ]
    }
   ],
   "source": [
    "print(linear_reg.metrics_names)"
   ]
  },
  {
   "cell_type": "code",
   "execution_count": 81,
   "metadata": {},
   "outputs": [
    {
     "data": {
      "text/html": [
       "<div>\n",
       "<style scoped>\n",
       "    .dataframe tbody tr th:only-of-type {\n",
       "        vertical-align: middle;\n",
       "    }\n",
       "\n",
       "    .dataframe tbody tr th {\n",
       "        vertical-align: top;\n",
       "    }\n",
       "\n",
       "    .dataframe thead th {\n",
       "        text-align: right;\n",
       "    }\n",
       "</style>\n",
       "<table border=\"1\" class=\"dataframe\">\n",
       "  <thead>\n",
       "    <tr style=\"text-align: right;\">\n",
       "      <th></th>\n",
       "      <th>linear_model</th>\n",
       "    </tr>\n",
       "  </thead>\n",
       "  <tbody>\n",
       "    <tr>\n",
       "      <th>Mean square error [MPG]</th>\n",
       "      <td>0.00768</td>\n",
       "    </tr>\n",
       "  </tbody>\n",
       "</table>\n",
       "</div>"
      ],
      "text/plain": [
       "                         linear_model\n",
       "Mean square error [MPG]       0.00768"
      ]
     },
     "execution_count": 81,
     "metadata": {},
     "output_type": "execute_result"
    }
   ],
   "source": [
    "pd.DataFrame(test_results, index=['Mean square error [MPG]'])"
   ]
  },
  {
   "cell_type": "code",
   "execution_count": 82,
   "metadata": {},
   "outputs": [],
   "source": [
    "test_prediction = linear_reg.predict(test_X)\n",
    "descaled_test_pred = scaler_y.inverse_transform(test_prediction)"
   ]
  },
  {
   "cell_type": "code",
   "execution_count": 83,
   "metadata": {},
   "outputs": [],
   "source": [
    "descaled_y = scaler_y.inverse_transform(test_y)"
   ]
  },
  {
   "cell_type": "code",
   "execution_count": 86,
   "metadata": {},
   "outputs": [],
   "source": [
    "def mean(ev):\n",
    "    mean = 0\n",
    "    for i in range(len(ev)):\n",
    "        mean +=ev[i]\n",
    "    return mean/len(ev)"
   ]
  },
  {
   "cell_type": "code",
   "execution_count": 87,
   "metadata": {},
   "outputs": [
    {
     "name": "stdout",
     "output_type": "stream",
     "text": [
      "[17172.83817377]\n"
     ]
    }
   ],
   "source": [
    "print(mean(descaled_y))"
   ]
  },
  {
   "cell_type": "code",
   "execution_count": 88,
   "metadata": {},
   "outputs": [],
   "source": [
    "def mse(y, pred_y):\n",
    "    sum = 0\n",
    "    for i in range(len(y)):\n",
    "        sum += (y[i] - pred_y[i])**2\n",
    "    return sum/len(y)\n",
    "\n",
    "def mae(y, pred_y):\n",
    "    sum = 0\n",
    "    for i in range(len(y)):\n",
    "        sum += abs(y[i] - pred_y[i])\n",
    "    return sum/len(y)"
   ]
  },
  {
   "cell_type": "code",
   "execution_count": 89,
   "metadata": {},
   "outputs": [],
   "source": [
    "mse_test_pred = mse(test_y, test_prediction)\n",
    "descaled_mse_test_pred = mse(descaled_y, descaled_test_pred)\n",
    "mae_test_pred = mae(test_y, test_prediction)\n",
    "descaled_mae_test_pred = mae(descaled_y, descaled_test_pred)"
   ]
  },
  {
   "cell_type": "code",
   "execution_count": 90,
   "metadata": {},
   "outputs": [
    {
     "name": "stdout",
     "output_type": "stream",
     "text": [
      "[0.00767988]\n",
      "[58632856.11019869]\n",
      "[0.01448702]\n",
      "[1265.82127555]\n"
     ]
    }
   ],
   "source": [
    "print(mse_test_pred)\n",
    "print(descaled_mse_test_pred)\n",
    "\n",
    "print(mae_test_pred)\n",
    "print(descaled_mae_test_pred)"
   ]
  },
  {
   "cell_type": "code",
   "execution_count": 101,
   "metadata": {},
   "outputs": [
    {
     "data": {
      "image/png": "[encoded data removed]",
      "text/plain": [
       "<Figure size 432x288 with 1 Axes>"
      ]
     },
     "metadata": {
      "needs_background": "light"
     },
     "output_type": "display_data"
    }
   ],
   "source": [
    "plt.scatter(descaled_y, descaled_test_pred)\n",
    "plt.axis([-10000, 0.3e6, -30000, 0.3e6])\n",
    "plt.grid()"
   ]
  },
  {
   "cell_type": "markdown",
   "metadata": {},
   "source": [
    "model 2"
   ]
  },
  {
   "cell_type": "code",
   "execution_count": 125,
   "metadata": {},
   "outputs": [],
   "source": [
    "model = models.Sequential()\n",
    "\n",
    "model.add(layers.Dense(20, activation=\"relu\", input_shape=(207,)))\n",
    "model.add(layers.Dense(20, activation=\"relu\"))\n",
    "model.add(layers.Dense(1))"
   ]
  },
  {
   "cell_type": "code",
   "execution_count": 126,
   "metadata": {},
   "outputs": [],
   "source": [
    "model.compile(loss=\"mse\", optimizer=\"adam\", metrics=[\"mse\", \"mae\"])"
   ]
  },
  {
   "cell_type": "code",
   "execution_count": 127,
   "metadata": {},
   "outputs": [],
   "source": [
    "history2 = model.fit(train_X, train_y, epochs=200, verbose=0, validation_split=0.2, batch_size=16)"
   ]
  },
  {
   "cell_type": "code",
   "execution_count": 128,
   "metadata": {},
   "outputs": [
    {
     "data": {
      "image/png": "[encoded data removed]",
      "text/plain": [
       "<Figure size 432x288 with 1 Axes>"
      ]
     },
     "metadata": {
      "needs_background": "light"
     },
     "output_type": "display_data"
    }
   ],
   "source": [
    "metric = \"mse\"\n",
    "epochs = range(1, (len(history2.history[metric]) + 1))\n",
    "\n",
    "plt.plot(epochs, history2.history[metric], label=\"train\", color=\"r\")\n",
    "plt.plot(epochs, history2.history[f\"val_{metric}\"], label=\"val\", color=\"b\")\n",
    "plt.title(f\"val {metric} over the epochs\", pad=-50)\n",
    "plt.legend()\n",
    "plt.grid()\n",
    "plt.show()"
   ]
  },
  {
   "cell_type": "code",
   "execution_count": 129,
   "metadata": {},
   "outputs": [],
   "source": [
    "test_results['DL_model'] = model.evaluate(test_X, test_y, verbose=0)[0]"
   ]
  },
  {
   "cell_type": "code",
   "execution_count": 130,
   "metadata": {},
   "outputs": [
    {
     "data": {
      "text/plain": [
       "{'linear_model': 0.007679871283471584, 'DL_model': 0.014027216471731663}"
      ]
     },
     "execution_count": 130,
     "metadata": {},
     "output_type": "execute_result"
    }
   ],
   "source": [
    "test_results"
   ]
  },
  {
   "cell_type": "code",
   "execution_count": null,
   "metadata": {},
   "outputs": [],
   "source": [
    "test_prediction = model.predict(test_X)\n",
    "descaled_test_pred = scaler_y.inverse_transform(test_prediction)"
   ]
  },
  {
   "cell_type": "code",
   "execution_count": null,
   "metadata": {},
   "outputs": [],
   "source": [
    "descaled_y = scaler_y.inverse_transform(test_y)"
   ]
  },
  {
   "cell_type": "code",
   "execution_count": null,
   "metadata": {},
   "outputs": [],
   "source": [
    "print(mean(descaled_y))"
   ]
  },
  {
   "cell_type": "code",
   "execution_count": null,
   "metadata": {},
   "outputs": [],
   "source": [
    "mse_test_pred = mse(test_y, test_prediction)\n",
    "descaled_mse_test_pred = mse(descaled_y, descaled_test_pred)\n",
    "mae_test_pred = mae(test_y, test_prediction)\n",
    "descaled_mae_test_pred = mae(descaled_y, descaled_test_pred)"
   ]
  },
  {
   "cell_type": "code",
   "execution_count": null,
   "metadata": {},
   "outputs": [],
   "source": [
    "print(mse_test_pred)\n",
    "print(descaled_mse_test_pred)\n",
    "\n",
    "print(mae_test_pred)\n",
    "print(descaled_mae_test_pred)"
   ]
  },
  {
   "cell_type": "code",
   "execution_count": null,
   "metadata": {},
   "outputs": [],
   "source": [
    "plt.scatter(descaled_y, descaled_test_pred)\n",
    "plt.axis([-10000, 0.3e6, -30000, 0.3e6])\n",
    "plt.grid()"
   ]
  }
 ],
 "metadata": {
  "interpreter": {
   "hash": "8bbed11fe0bbdc53fcde639253b3c75e80b85d7a88fc0724e2d070c9a5d9b10b"
  },
  "kernelspec": {
   "display_name": "Python 3.9.6 64-bit",
   "language": "python",
   "name": "python3"
  },
  "language_info": {
   "codemirror_mode": {
    "name": "ipython",
    "version": 3
   },
   "file_extension": ".py",
   "mimetype": "text/x-python",
   "name": "python",
   "nbconvert_exporter": "python",
   "pygments_lexer": "ipython3",
   "version": "3.9.6"
  },
  "orig_nbformat": 4
 },
 "nbformat": 4,
 "nbformat_minor": 2
}
