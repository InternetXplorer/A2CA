{
 "cells": [
  {
   "cell_type": "markdown",
   "metadata": {},
   "source": [
    "### Imports"
   ]
  },
  {
   "cell_type": "code",
   "execution_count": 100,
   "metadata": {},
   "outputs": [],
   "source": [
    "import pandas as pd\n",
    "import numpy as np"
   ]
  },
  {
   "cell_type": "markdown",
   "metadata": {},
   "source": [
    "### Data loading"
   ]
  },
  {
   "cell_type": "code",
   "execution_count": 101,
   "metadata": {},
   "outputs": [],
   "source": [
    "path = \"../Bloomberg_data_processing/\"\n",
    "filename = \"preprocessed_sp500_final_data_01-02-22.csv\"\n",
    "\n",
    "data = pd.read_csv(path + filename)"
   ]
  },
  {
   "cell_type": "code",
   "execution_count": 102,
   "metadata": {},
   "outputs": [
    {
     "data": {
      "text/html": [
       "<div>\n",
       "<style scoped>\n",
       "    .dataframe tbody tr th:only-of-type {\n",
       "        vertical-align: middle;\n",
       "    }\n",
       "\n",
       "    .dataframe tbody tr th {\n",
       "        vertical-align: top;\n",
       "    }\n",
       "\n",
       "    .dataframe thead th {\n",
       "        text-align: right;\n",
       "    }\n",
       "</style>\n",
       "<table border=\"1\" class=\"dataframe\">\n",
       "  <thead>\n",
       "    <tr style=\"text-align: right;\">\n",
       "      <th></th>\n",
       "      <th>Ticker</th>\n",
       "      <th>Security</th>\n",
       "      <th>GICS Sector</th>\n",
       "      <th>GICS Sub-Industry</th>\n",
       "      <th>CUR_MKT_CAP</th>\n",
       "      <th>CURR_ENTP_VAL</th>\n",
       "      <th>NET_INCOME_FIRM</th>\n",
       "      <th>SALES_REV_TURN</th>\n",
       "      <th>NET_REV</th>\n",
       "      <th>GROSS_PROFIT</th>\n",
       "      <th>EBIT</th>\n",
       "      <th>EBITDA</th>\n",
       "      <th>NET_DEBT</th>\n",
       "      <th>CURRENT_EV_TO_T12M_EBIT</th>\n",
       "      <th>CURRENT_EV_TO_T12M_EBITDA</th>\n",
       "      <th>PX_TO_SALES_RATIO</th>\n",
       "      <th>TRAIL_12M_NET_SALES</th>\n",
       "      <th>CURRENT_EV_TO_12M_SALES</th>\n",
       "      <th>PE_RATIO</th>\n",
       "    </tr>\n",
       "  </thead>\n",
       "  <tbody>\n",
       "    <tr>\n",
       "      <th>0</th>\n",
       "      <td>MMM</td>\n",
       "      <td>3M</td>\n",
       "      <td>Industrials</td>\n",
       "      <td>Industrial Conglomerates</td>\n",
       "      <td>9.566949e+10</td>\n",
       "      <td>108530.49040</td>\n",
       "      <td>5809.107585</td>\n",
       "      <td>35355.0</td>\n",
       "      <td>NaN</td>\n",
       "      <td>16560.0</td>\n",
       "      <td>7369.0</td>\n",
       "      <td>9420.0</td>\n",
       "      <td>12861.0</td>\n",
       "      <td>14.686868</td>\n",
       "      <td>NaN</td>\n",
       "      <td>2.718985</td>\n",
       "      <td>35355.0</td>\n",
       "      <td>3.069735</td>\n",
       "      <td>16.427379</td>\n",
       "    </tr>\n",
       "    <tr>\n",
       "      <th>1</th>\n",
       "      <td>AOS</td>\n",
       "      <td>A. O. Smith</td>\n",
       "      <td>Industrials</td>\n",
       "      <td>Building Products</td>\n",
       "      <td>1.216317e+10</td>\n",
       "      <td>11750.76783</td>\n",
       "      <td>490.448034</td>\n",
       "      <td>3538.9</td>\n",
       "      <td>NaN</td>\n",
       "      <td>1310.9</td>\n",
       "      <td>609.5</td>\n",
       "      <td>687.4</td>\n",
       "      <td>-412.4</td>\n",
       "      <td>19.226403</td>\n",
       "      <td>17.094512</td>\n",
       "      <td>3.459942</td>\n",
       "      <td>3538.9</td>\n",
       "      <td>3.320458</td>\n",
       "      <td>25.857856</td>\n",
       "    </tr>\n",
       "  </tbody>\n",
       "</table>\n",
       "</div>"
      ],
      "text/plain": [
       "  Ticker     Security  GICS Sector         GICS Sub-Industry   CUR_MKT_CAP  \\\n",
       "0    MMM           3M  Industrials  Industrial Conglomerates  9.566949e+10   \n",
       "1    AOS  A. O. Smith  Industrials         Building Products  1.216317e+10   \n",
       "\n",
       "   CURR_ENTP_VAL  NET_INCOME_FIRM  SALES_REV_TURN  NET_REV  GROSS_PROFIT  \\\n",
       "0   108530.49040      5809.107585         35355.0      NaN       16560.0   \n",
       "1    11750.76783       490.448034          3538.9      NaN        1310.9   \n",
       "\n",
       "     EBIT  EBITDA  NET_DEBT  CURRENT_EV_TO_T12M_EBIT  \\\n",
       "0  7369.0  9420.0   12861.0                14.686868   \n",
       "1   609.5   687.4    -412.4                19.226403   \n",
       "\n",
       "   CURRENT_EV_TO_T12M_EBITDA  PX_TO_SALES_RATIO  TRAIL_12M_NET_SALES  \\\n",
       "0                        NaN           2.718985              35355.0   \n",
       "1                  17.094512           3.459942               3538.9   \n",
       "\n",
       "   CURRENT_EV_TO_12M_SALES   PE_RATIO  \n",
       "0                 3.069735  16.427379  \n",
       "1                 3.320458  25.857856  "
      ]
     },
     "execution_count": 102,
     "metadata": {},
     "output_type": "execute_result"
    }
   ],
   "source": [
    "data.head(2)"
   ]
  },
  {
   "cell_type": "markdown",
   "metadata": {},
   "source": [
    "### GICS sectors & sub-industry data exploration"
   ]
  },
  {
   "cell_type": "code",
   "execution_count": 103,
   "metadata": {},
   "outputs": [
    {
     "data": {
      "text/plain": [
       "11"
      ]
     },
     "execution_count": 103,
     "metadata": {},
     "output_type": "execute_result"
    }
   ],
   "source": [
    "data['GICS Sector'].nunique()"
   ]
  },
  {
   "cell_type": "code",
   "execution_count": 104,
   "metadata": {},
   "outputs": [
    {
     "data": {
      "text/plain": [
       "GICS Sector\n",
       "Communication Services    27\n",
       "Consumer Discretionary    60\n",
       "Consumer Staples          32\n",
       "Energy                    21\n",
       "Financials                67\n",
       "Health Care               64\n",
       "Industrials               73\n",
       "Information Technology    75\n",
       "Materials                 28\n",
       "Real Estate               29\n",
       "Utilities                 29\n",
       "Name: GICS Sector, dtype: int64"
      ]
     },
     "execution_count": 104,
     "metadata": {},
     "output_type": "execute_result"
    }
   ],
   "source": [
    "data.groupby(['GICS Sector'])[\"GICS Sector\"].count()"
   ]
  },
  {
   "cell_type": "code",
   "execution_count": 105,
   "metadata": {},
   "outputs": [
    {
     "data": {
      "text/plain": [
       "124"
      ]
     },
     "execution_count": 105,
     "metadata": {},
     "output_type": "execute_result"
    }
   ],
   "source": [
    "data[\"GICS Sub-Industry\"].nunique()"
   ]
  },
  {
   "cell_type": "code",
   "execution_count": 106,
   "metadata": {},
   "outputs": [
    {
     "data": {
      "text/plain": [
       "count                       505\n",
       "unique                      124\n",
       "top       Health Care Equipment\n",
       "freq                         19\n",
       "Name: GICS Sub-Industry, dtype: object"
      ]
     },
     "execution_count": 106,
     "metadata": {},
     "output_type": "execute_result"
    }
   ],
   "source": [
    "data[\"GICS Sub-Industry\"].describe()"
   ]
  },
  {
   "cell_type": "code",
   "execution_count": 107,
   "metadata": {},
   "outputs": [
    {
     "data": {
      "text/html": [
       "<div>\n",
       "<style scoped>\n",
       "    .dataframe tbody tr th:only-of-type {\n",
       "        vertical-align: middle;\n",
       "    }\n",
       "\n",
       "    .dataframe tbody tr th {\n",
       "        vertical-align: top;\n",
       "    }\n",
       "\n",
       "    .dataframe thead th {\n",
       "        text-align: right;\n",
       "    }\n",
       "</style>\n",
       "<table border=\"1\" class=\"dataframe\">\n",
       "  <thead>\n",
       "    <tr style=\"text-align: right;\">\n",
       "      <th></th>\n",
       "      <th></th>\n",
       "      <th>GICS Sub-Industry</th>\n",
       "    </tr>\n",
       "    <tr>\n",
       "      <th>GICS Sector</th>\n",
       "      <th>GICS Sub-Industry</th>\n",
       "      <th></th>\n",
       "    </tr>\n",
       "  </thead>\n",
       "  <tbody>\n",
       "    <tr>\n",
       "      <th rowspan=\"10\" valign=\"top\">Communication Services</th>\n",
       "      <th>Advertising</th>\n",
       "      <td>2</td>\n",
       "    </tr>\n",
       "    <tr>\n",
       "      <th>Alternative Carriers</th>\n",
       "      <td>1</td>\n",
       "    </tr>\n",
       "    <tr>\n",
       "      <th>Broadcasting</th>\n",
       "      <td>2</td>\n",
       "    </tr>\n",
       "    <tr>\n",
       "      <th>Cable &amp; Satellite</th>\n",
       "      <td>3</td>\n",
       "    </tr>\n",
       "    <tr>\n",
       "      <th>Integrated Telecommunication Services</th>\n",
       "      <td>2</td>\n",
       "    </tr>\n",
       "    <tr>\n",
       "      <th>Interactive Home Entertainment</th>\n",
       "      <td>3</td>\n",
       "    </tr>\n",
       "    <tr>\n",
       "      <th>Interactive Media &amp; Services</th>\n",
       "      <td>5</td>\n",
       "    </tr>\n",
       "    <tr>\n",
       "      <th>Movies &amp; Entertainment</th>\n",
       "      <td>6</td>\n",
       "    </tr>\n",
       "    <tr>\n",
       "      <th>Publishing</th>\n",
       "      <td>2</td>\n",
       "    </tr>\n",
       "    <tr>\n",
       "      <th>Wireless Telecommunication Services</th>\n",
       "      <td>1</td>\n",
       "    </tr>\n",
       "    <tr>\n",
       "      <th rowspan=\"5\" valign=\"top\">Consumer Discretionary</th>\n",
       "      <th>Apparel Retail</th>\n",
       "      <td>2</td>\n",
       "    </tr>\n",
       "    <tr>\n",
       "      <th>Apparel, Accessories &amp; Luxury Goods</th>\n",
       "      <td>7</td>\n",
       "    </tr>\n",
       "    <tr>\n",
       "      <th>Auto Parts &amp; Equipment</th>\n",
       "      <td>2</td>\n",
       "    </tr>\n",
       "    <tr>\n",
       "      <th>Automobile Manufacturers</th>\n",
       "      <td>3</td>\n",
       "    </tr>\n",
       "    <tr>\n",
       "      <th>Automotive Retail</th>\n",
       "      <td>1</td>\n",
       "    </tr>\n",
       "  </tbody>\n",
       "</table>\n",
       "</div>"
      ],
      "text/plain": [
       "                                                              GICS Sub-Industry\n",
       "GICS Sector            GICS Sub-Industry                                       \n",
       "Communication Services Advertising                                            2\n",
       "                       Alternative Carriers                                   1\n",
       "                       Broadcasting                                           2\n",
       "                       Cable & Satellite                                      3\n",
       "                       Integrated Telecommunication Services                  2\n",
       "                       Interactive Home Entertainment                         3\n",
       "                       Interactive Media & Services                           5\n",
       "                       Movies & Entertainment                                 6\n",
       "                       Publishing                                             2\n",
       "                       Wireless Telecommunication Services                    1\n",
       "Consumer Discretionary Apparel Retail                                         2\n",
       "                       Apparel, Accessories & Luxury Goods                    7\n",
       "                       Auto Parts & Equipment                                 2\n",
       "                       Automobile Manufacturers                               3\n",
       "                       Automotive Retail                                      1"
      ]
     },
     "execution_count": 107,
     "metadata": {},
     "output_type": "execute_result"
    }
   ],
   "source": [
    "pd.DataFrame(data.groupby(['GICS Sector', 'GICS Sub-Industry'])[\"GICS Sub-Industry\"].count()).head(15)"
   ]
  },
  {
   "cell_type": "markdown",
   "metadata": {},
   "source": [
    "### Companies similarity ranking"
   ]
  },
  {
   "cell_type": "markdown",
   "metadata": {},
   "source": [
    "Similarity will be determined based on sector, sub-industry, geography, and market cap (in this order of importance)."
   ]
  },
  {
   "cell_type": "code",
   "execution_count": 108,
   "metadata": {},
   "outputs": [],
   "source": [
    "# API à tester pour récupérer le nom du pays à partir de la 'Headquarters location' :\n",
    "# https://apilayer.com/marketplace/description/geo-api#pricing"
   ]
  },
  {
   "cell_type": "code",
   "execution_count": 109,
   "metadata": {},
   "outputs": [
    {
     "data": {
      "text/html": [
       "<div>\n",
       "<style scoped>\n",
       "    .dataframe tbody tr th:only-of-type {\n",
       "        vertical-align: middle;\n",
       "    }\n",
       "\n",
       "    .dataframe tbody tr th {\n",
       "        vertical-align: top;\n",
       "    }\n",
       "\n",
       "    .dataframe thead th {\n",
       "        text-align: right;\n",
       "    }\n",
       "</style>\n",
       "<table border=\"1\" class=\"dataframe\">\n",
       "  <thead>\n",
       "    <tr style=\"text-align: right;\">\n",
       "      <th></th>\n",
       "      <th>Ticker</th>\n",
       "      <th>GICS Sector</th>\n",
       "      <th>GICS Sub-Industry</th>\n",
       "      <th>CUR_MKT_CAP</th>\n",
       "    </tr>\n",
       "  </thead>\n",
       "  <tbody>\n",
       "    <tr>\n",
       "      <th>0</th>\n",
       "      <td>MMM</td>\n",
       "      <td>Industrials</td>\n",
       "      <td>Industrial Conglomerates</td>\n",
       "      <td>9.566949e+10</td>\n",
       "    </tr>\n",
       "    <tr>\n",
       "      <th>1</th>\n",
       "      <td>AOS</td>\n",
       "      <td>Industrials</td>\n",
       "      <td>Building Products</td>\n",
       "      <td>1.216317e+10</td>\n",
       "    </tr>\n",
       "    <tr>\n",
       "      <th>2</th>\n",
       "      <td>ABT</td>\n",
       "      <td>Health Care</td>\n",
       "      <td>Health Care Equipment</td>\n",
       "      <td>2.253860e+11</td>\n",
       "    </tr>\n",
       "    <tr>\n",
       "      <th>3</th>\n",
       "      <td>ABBV</td>\n",
       "      <td>Health Care</td>\n",
       "      <td>Pharmaceuticals</td>\n",
       "      <td>2.420050e+11</td>\n",
       "    </tr>\n",
       "    <tr>\n",
       "      <th>4</th>\n",
       "      <td>ABMD</td>\n",
       "      <td>Health Care</td>\n",
       "      <td>Health Care Equipment</td>\n",
       "      <td>1.346134e+10</td>\n",
       "    </tr>\n",
       "  </tbody>\n",
       "</table>\n",
       "</div>"
      ],
      "text/plain": [
       "  Ticker  GICS Sector         GICS Sub-Industry   CUR_MKT_CAP\n",
       "0    MMM  Industrials  Industrial Conglomerates  9.566949e+10\n",
       "1    AOS  Industrials         Building Products  1.216317e+10\n",
       "2    ABT  Health Care     Health Care Equipment  2.253860e+11\n",
       "3   ABBV  Health Care           Pharmaceuticals  2.420050e+11\n",
       "4   ABMD  Health Care     Health Care Equipment  1.346134e+10"
      ]
     },
     "execution_count": 109,
     "metadata": {},
     "output_type": "execute_result"
    }
   ],
   "source": [
    "# dataset with only usefull columns\n",
    "companies_relevant_info = data[[\"Ticker\", \"GICS Sector\", \"GICS Sub-Industry\", \"CUR_MKT_CAP\"]].copy()\n",
    "companies_relevant_info.head()"
   ]
  },
  {
   "cell_type": "code",
   "execution_count": 110,
   "metadata": {},
   "outputs": [
    {
     "data": {
      "text/html": [
       "<div>\n",
       "<style scoped>\n",
       "    .dataframe tbody tr th:only-of-type {\n",
       "        vertical-align: middle;\n",
       "    }\n",
       "\n",
       "    .dataframe tbody tr th {\n",
       "        vertical-align: top;\n",
       "    }\n",
       "\n",
       "    .dataframe thead th {\n",
       "        text-align: right;\n",
       "    }\n",
       "</style>\n",
       "<table border=\"1\" class=\"dataframe\">\n",
       "  <thead>\n",
       "    <tr style=\"text-align: right;\">\n",
       "      <th></th>\n",
       "      <th>CUR_MKT_CAP</th>\n",
       "    </tr>\n",
       "  </thead>\n",
       "  <tbody>\n",
       "    <tr>\n",
       "      <th>count</th>\n",
       "      <td>502.000000</td>\n",
       "    </tr>\n",
       "    <tr>\n",
       "      <th>mean</th>\n",
       "      <td>0.288228</td>\n",
       "    </tr>\n",
       "    <tr>\n",
       "      <th>std</th>\n",
       "      <td>0.169697</td>\n",
       "    </tr>\n",
       "    <tr>\n",
       "      <th>min</th>\n",
       "      <td>0.000000</td>\n",
       "    </tr>\n",
       "    <tr>\n",
       "      <th>25%</th>\n",
       "      <td>0.168170</td>\n",
       "    </tr>\n",
       "    <tr>\n",
       "      <th>50%</th>\n",
       "      <td>0.261567</td>\n",
       "    </tr>\n",
       "    <tr>\n",
       "      <th>75%</th>\n",
       "      <td>0.376664</td>\n",
       "    </tr>\n",
       "    <tr>\n",
       "      <th>max</th>\n",
       "      <td>1.000000</td>\n",
       "    </tr>\n",
       "  </tbody>\n",
       "</table>\n",
       "</div>"
      ],
      "text/plain": [
       "       CUR_MKT_CAP\n",
       "count   502.000000\n",
       "mean      0.288228\n",
       "std       0.169697\n",
       "min       0.000000\n",
       "25%       0.168170\n",
       "50%       0.261567\n",
       "75%       0.376664\n",
       "max       1.000000"
      ]
     },
     "execution_count": 110,
     "metadata": {},
     "output_type": "execute_result"
    }
   ],
   "source": [
    "companies_relevant_info[\"CUR_MKT_CAP\"] = np.log(companies_relevant_info[\"CUR_MKT_CAP\"])\n",
    "companies_relevant_info[\"CUR_MKT_CAP\"] = companies_relevant_info[\"CUR_MKT_CAP\"] - companies_relevant_info[\"CUR_MKT_CAP\"].min()\n",
    "companies_relevant_info[\"CUR_MKT_CAP\"] = companies_relevant_info[\"CUR_MKT_CAP\"] / companies_relevant_info[\"CUR_MKT_CAP\"].max()\n",
    "companies_relevant_info.describe()"
   ]
  },
  {
   "cell_type": "code",
   "execution_count": 111,
   "metadata": {},
   "outputs": [
    {
     "name": "stdout",
     "output_type": "stream",
     "text": [
      "Number of missing values per column :\n",
      "\n",
      "Ticker               0\n",
      "GICS Sector          0\n",
      "GICS Sub-Industry    0\n",
      "CUR_MKT_CAP          3\n",
      "dtype: int64\n"
     ]
    }
   ],
   "source": [
    "print(\"Number of missing values per column :\\n\")\n",
    "print(companies_relevant_info.isnull().sum())"
   ]
  },
  {
   "cell_type": "code",
   "execution_count": 112,
   "metadata": {},
   "outputs": [
    {
     "data": {
      "text/plain": [
       "Ticker                                    MMM\n",
       "GICS Sector                       Industrials\n",
       "GICS Sub-Industry    Industrial Conglomerates\n",
       "CUR_MKT_CAP                          0.439908\n",
       "Name: 0, dtype: object"
      ]
     },
     "execution_count": 112,
     "metadata": {},
     "output_type": "execute_result"
    }
   ],
   "source": [
    "# getting the studied company's data\n",
    "studied_comp_ticker = \"MMM\"\n",
    "studied_comp_data = companies_relevant_info.loc[companies_relevant_info[\"Ticker\"] == studied_comp_ticker].iloc[0]\n",
    "studied_comp_data"
   ]
  },
  {
   "cell_type": "code",
   "execution_count": 113,
   "metadata": {},
   "outputs": [
    {
     "data": {
      "text/html": [
       "<div>\n",
       "<style scoped>\n",
       "    .dataframe tbody tr th:only-of-type {\n",
       "        vertical-align: middle;\n",
       "    }\n",
       "\n",
       "    .dataframe tbody tr th {\n",
       "        vertical-align: top;\n",
       "    }\n",
       "\n",
       "    .dataframe thead th {\n",
       "        text-align: right;\n",
       "    }\n",
       "</style>\n",
       "<table border=\"1\" class=\"dataframe\">\n",
       "  <thead>\n",
       "    <tr style=\"text-align: right;\">\n",
       "      <th></th>\n",
       "      <th>similarity_score</th>\n",
       "    </tr>\n",
       "    <tr>\n",
       "      <th>Ticker</th>\n",
       "      <th></th>\n",
       "    </tr>\n",
       "  </thead>\n",
       "  <tbody>\n",
       "    <tr>\n",
       "      <th>MMM</th>\n",
       "      <td>0.000000</td>\n",
       "    </tr>\n",
       "    <tr>\n",
       "      <th>AOS</th>\n",
       "      <td>1.340261</td>\n",
       "    </tr>\n",
       "    <tr>\n",
       "      <th>ABT</th>\n",
       "      <td>10.141371</td>\n",
       "    </tr>\n",
       "    <tr>\n",
       "      <th>ABBV</th>\n",
       "      <td>10.153108</td>\n",
       "    </tr>\n",
       "    <tr>\n",
       "      <th>ABMD</th>\n",
       "      <td>10.323531</td>\n",
       "    </tr>\n",
       "    <tr>\n",
       "      <th>...</th>\n",
       "      <td>...</td>\n",
       "    </tr>\n",
       "    <tr>\n",
       "      <th>YUM</th>\n",
       "      <td>10.158106</td>\n",
       "    </tr>\n",
       "    <tr>\n",
       "      <th>ZBRA</th>\n",
       "      <td>10.207438</td>\n",
       "    </tr>\n",
       "    <tr>\n",
       "      <th>ZBH</th>\n",
       "      <td>10.216847</td>\n",
       "    </tr>\n",
       "    <tr>\n",
       "      <th>ZION</th>\n",
       "      <td>10.367961</td>\n",
       "    </tr>\n",
       "    <tr>\n",
       "      <th>ZTS</th>\n",
       "      <td>10.001984</td>\n",
       "    </tr>\n",
       "  </tbody>\n",
       "</table>\n",
       "<p>505 rows × 1 columns</p>\n",
       "</div>"
      ],
      "text/plain": [
       "        similarity_score\n",
       "Ticker                  \n",
       "MMM             0.000000\n",
       "AOS             1.340261\n",
       "ABT            10.141371\n",
       "ABBV           10.153108\n",
       "ABMD           10.323531\n",
       "...                  ...\n",
       "YUM            10.158106\n",
       "ZBRA           10.207438\n",
       "ZBH            10.216847\n",
       "ZION           10.367961\n",
       "ZTS            10.001984\n",
       "\n",
       "[505 rows x 1 columns]"
      ]
     },
     "execution_count": 113,
     "metadata": {},
     "output_type": "execute_result"
    }
   ],
   "source": [
    "# computing distance between the studied company and every other company\n",
    "# similarity_scores = []\n",
    "similarity_scores = pd.DataFrame(index=companies_relevant_info[\"Ticker\"].copy())\n",
    "similarity_scores[\"similarity_score\"] = 0.0\n",
    "\n",
    "for index, row in companies_relevant_info.iterrows():\n",
    "    similarity_score = 0 # lowest = most similar\n",
    "    if(row[\"GICS Sector\"] != studied_comp_data[\"GICS Sector\"]):\n",
    "        similarity_score += 10 # biggest penalty, sector is most important thing the companies need to have in common\n",
    "    elif(row[\"GICS Sub-Industry\"] != studied_comp_data[\"GICS Sub-Industry\"]):\n",
    "        similarity_score += 1\n",
    "    similarity_score += abs(row[\"CUR_MKT_CAP\"] - studied_comp_data[\"CUR_MKT_CAP\"])\n",
    "    \n",
    "    # todo : make geopgraphy be taken into account in the scoring\n",
    "    # and if one info is missing (market cap mostly) either leave as NaN (will be considered lowest similarity and that company will never be used) or, if we want to use that company nevertheless, give penalty of either max or average difference for that info (for example max diff for mk cap is 1 and avg is 0.288228)\n",
    "\n",
    "    similarity_scores[\"similarity_score\"][row[\"Ticker\"]] = similarity_score\n",
    "\n",
    "similarity_scores\n",
    "    \n"
   ]
  },
  {
   "cell_type": "code",
   "execution_count": 116,
   "metadata": {},
   "outputs": [
    {
     "data": {
      "text/plain": [
       "Ticker\n",
       "MMM    0.000000\n",
       "GE     0.013380\n",
       "HON    0.063717\n",
       "ROP    0.120398\n",
       "LMT    1.016871\n",
       "CAT    1.021569\n",
       "DE     1.031796\n",
       "BA     1.032838\n",
       "CSX    1.038190\n",
       "ITW    1.043663\n",
       "RTX    1.056806\n",
       "NSC    1.062950\n",
       "FDX    1.063397\n",
       "ETN    1.068528\n",
       "WM     1.069101\n",
       "Name: similarity_score, dtype: float64"
      ]
     },
     "execution_count": 116,
     "metadata": {},
     "output_type": "execute_result"
    }
   ],
   "source": [
    "sorted_similarity_scores = similarity_scores[\"similarity_score\"].sort_values()\n",
    "sorted_similarity_scores.head(15)"
   ]
  }
 ],
 "metadata": {
  "interpreter": {
   "hash": "8bbed11fe0bbdc53fcde639253b3c75e80b85d7a88fc0724e2d070c9a5d9b10b"
  },
  "kernelspec": {
   "display_name": "Python 3.9.6 64-bit",
   "language": "python",
   "name": "python3"
  },
  "language_info": {
   "codemirror_mode": {
    "name": "ipython",
    "version": 3
   },
   "file_extension": ".py",
   "mimetype": "text/x-python",
   "name": "python",
   "nbconvert_exporter": "python",
   "pygments_lexer": "ipython3",
   "version": "3.9.6"
  },
  "orig_nbformat": 4
 },
 "nbformat": 4,
 "nbformat_minor": 2
}
