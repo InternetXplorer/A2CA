{
 "cells": [
  {
   "cell_type": "markdown",
   "metadata": {},
   "source": [
    "### Imports"
   ]
  },
  {
   "cell_type": "code",
   "execution_count": 37,
   "metadata": {},
   "outputs": [],
   "source": [
    "import os\n",
    "import sys\n",
    "import pandas as pd\n",
    "import numpy as np\n",
    "import matplotlib.pyplot as plt\n",
    "from data_preparation import get_financial_data\n",
    "from data_preparation import compute_ratios\n",
    "\n",
    "\n",
    "os.chdir(sys.path[0])"
   ]
  },
  {
   "cell_type": "markdown",
   "metadata": {},
   "source": [
    "Data loading"
   ]
  },
  {
   "cell_type": "code",
   "execution_count": 38,
   "metadata": {},
   "outputs": [],
   "source": [
    "path = \"../Bloomberg_data_processing/\"\n",
    "filename = \"preprocessed_russell_3k_data_14-03-22.csv\"\n",
    "\n",
    "data = pd.read_csv(path + filename)\n",
    "\n",
    "companies = data[[\"Ticker\", \"IND_GICS\", \"SUB_IND_GICS\", \"REGION_NAME\"]].copy()"
   ]
  },
  {
   "cell_type": "code",
   "execution_count": 39,
   "metadata": {},
   "outputs": [
    {
     "data": {
      "text/plain": [
       "count              3037\n",
       "unique              153\n",
       "top       Biotechnology\n",
       "freq                316\n",
       "Name: SUB_IND_GICS, dtype: object"
      ]
     },
     "execution_count": 39,
     "metadata": {},
     "output_type": "execute_result"
    }
   ],
   "source": [
    "companies[\"SUB_IND_GICS\"].describe()"
   ]
  },
  {
   "cell_type": "code",
   "execution_count": 40,
   "metadata": {},
   "outputs": [
    {
     "name": "stdout",
     "output_type": "stream",
     "text": [
      "Number of companies in biotech : 316\n",
      "Number of companies in biotech and in the us : 311\n"
     ]
    }
   ],
   "source": [
    "#remove non biotech and non us companies\n",
    "companies = companies.loc[companies[\"SUB_IND_GICS\"] == \"Biotechnology\"]\n",
    "print(f\"Number of companies in biotech : {len(companies)}\")\n",
    "companies = companies.loc[companies[\"REGION_NAME\"] == \"United States\"]\n",
    "print(f\"Number of companies in biotech and in the us : {len(companies)}\")"
   ]
  },
  {
   "cell_type": "code",
   "execution_count": 41,
   "metadata": {},
   "outputs": [],
   "source": [
    "companies_data = get_financial_data(companies[\"Ticker\"].values.tolist())"
   ]
  },
  {
   "cell_type": "code",
   "execution_count": 42,
   "metadata": {},
   "outputs": [
    {
     "name": "stdout",
     "output_type": "stream",
     "text": [
      "Number of missing values per column :\n",
      "\n",
      "Ticker             0\n",
      "CUR_MKT_CAP        0\n",
      "CURR_ENTP_VAL      0\n",
      "EBIT               2\n",
      "EBITDA            11\n",
      "GROSS_PROFIT     122\n",
      "PE_RATIO         281\n",
      "dtype: int64\n"
     ]
    }
   ],
   "source": [
    "print(\"Number of missing values per column :\\n\")\n",
    "print(companies_data.isnull().sum())"
   ]
  },
  {
   "cell_type": "code",
   "execution_count": 43,
   "metadata": {},
   "outputs": [
    {
     "data": {
      "text/html": [
       "<div>\n",
       "<style scoped>\n",
       "    .dataframe tbody tr th:only-of-type {\n",
       "        vertical-align: middle;\n",
       "    }\n",
       "\n",
       "    .dataframe tbody tr th {\n",
       "        vertical-align: top;\n",
       "    }\n",
       "\n",
       "    .dataframe thead th {\n",
       "        text-align: right;\n",
       "    }\n",
       "</style>\n",
       "<table border=\"1\" class=\"dataframe\">\n",
       "  <thead>\n",
       "    <tr style=\"text-align: right;\">\n",
       "      <th></th>\n",
       "      <th>Ticker</th>\n",
       "      <th>CUR_MKT_CAP</th>\n",
       "      <th>CURR_ENTP_VAL</th>\n",
       "      <th>EBIT</th>\n",
       "      <th>EBITDA</th>\n",
       "      <th>GROSS_PROFIT</th>\n",
       "      <th>PE_RATIO</th>\n",
       "    </tr>\n",
       "  </thead>\n",
       "  <tbody>\n",
       "    <tr>\n",
       "      <th>1</th>\n",
       "      <td>INO</td>\n",
       "      <td>688081403.4</td>\n",
       "      <td>319.789847</td>\n",
       "      <td>-301.217919</td>\n",
       "      <td>-294.257408</td>\n",
       "      <td>NaN</td>\n",
       "      <td>NaN</td>\n",
       "    </tr>\n",
       "    <tr>\n",
       "      <th>27</th>\n",
       "      <td>BCEL</td>\n",
       "      <td>112898803.0</td>\n",
       "      <td>-4.130197</td>\n",
       "      <td>-110.303000</td>\n",
       "      <td>-105.753000</td>\n",
       "      <td>0.0</td>\n",
       "      <td>NaN</td>\n",
       "    </tr>\n",
       "    <tr>\n",
       "      <th>29</th>\n",
       "      <td>IMUX</td>\n",
       "      <td>287720572.0</td>\n",
       "      <td>201.898572</td>\n",
       "      <td>-91.665000</td>\n",
       "      <td>-91.077000</td>\n",
       "      <td>0.0</td>\n",
       "      <td>NaN</td>\n",
       "    </tr>\n",
       "    <tr>\n",
       "      <th>32</th>\n",
       "      <td>AKRO</td>\n",
       "      <td>483528632.4</td>\n",
       "      <td>296.581632</td>\n",
       "      <td>-100.886000</td>\n",
       "      <td>-100.521000</td>\n",
       "      <td>0.0</td>\n",
       "      <td>NaN</td>\n",
       "    </tr>\n",
       "    <tr>\n",
       "      <th>57</th>\n",
       "      <td>PSTX</td>\n",
       "      <td>228921650.3</td>\n",
       "      <td>83.794650</td>\n",
       "      <td>-141.411000</td>\n",
       "      <td>-136.859000</td>\n",
       "      <td>NaN</td>\n",
       "      <td>NaN</td>\n",
       "    </tr>\n",
       "  </tbody>\n",
       "</table>\n",
       "</div>"
      ],
      "text/plain": [
       "   Ticker  CUR_MKT_CAP  CURR_ENTP_VAL        EBIT      EBITDA  GROSS_PROFIT  \\\n",
       "1     INO  688081403.4     319.789847 -301.217919 -294.257408           NaN   \n",
       "27   BCEL  112898803.0      -4.130197 -110.303000 -105.753000           0.0   \n",
       "29   IMUX  287720572.0     201.898572  -91.665000  -91.077000           0.0   \n",
       "32   AKRO  483528632.4     296.581632 -100.886000 -100.521000           0.0   \n",
       "57   PSTX  228921650.3      83.794650 -141.411000 -136.859000           NaN   \n",
       "\n",
       "    PE_RATIO  \n",
       "1        NaN  \n",
       "27       NaN  \n",
       "29       NaN  \n",
       "32       NaN  \n",
       "57       NaN  "
      ]
     },
     "execution_count": 43,
     "metadata": {},
     "output_type": "execute_result"
    }
   ],
   "source": [
    "companies_data.head(5)"
   ]
  },
  {
   "cell_type": "code",
   "execution_count": 44,
   "metadata": {},
   "outputs": [
    {
     "data": {
      "text/html": [
       "<div>\n",
       "<style scoped>\n",
       "    .dataframe tbody tr th:only-of-type {\n",
       "        vertical-align: middle;\n",
       "    }\n",
       "\n",
       "    .dataframe tbody tr th {\n",
       "        vertical-align: top;\n",
       "    }\n",
       "\n",
       "    .dataframe thead th {\n",
       "        text-align: right;\n",
       "    }\n",
       "</style>\n",
       "<table border=\"1\" class=\"dataframe\">\n",
       "  <thead>\n",
       "    <tr style=\"text-align: right;\">\n",
       "      <th></th>\n",
       "      <th>CUR_MKT_CAP</th>\n",
       "      <th>CURR_ENTP_VAL</th>\n",
       "      <th>EBIT</th>\n",
       "      <th>EBITDA</th>\n",
       "      <th>GROSS_PROFIT</th>\n",
       "      <th>PE_RATIO</th>\n",
       "    </tr>\n",
       "  </thead>\n",
       "  <tbody>\n",
       "    <tr>\n",
       "      <th>count</th>\n",
       "      <td>3.110000e+02</td>\n",
       "      <td>311.000000</td>\n",
       "      <td>309.000000</td>\n",
       "      <td>300.000000</td>\n",
       "      <td>189.000000</td>\n",
       "      <td>30.000000</td>\n",
       "    </tr>\n",
       "    <tr>\n",
       "      <th>mean</th>\n",
       "      <td>3.485259e+09</td>\n",
       "      <td>3532.343622</td>\n",
       "      <td>96.945584</td>\n",
       "      <td>167.071034</td>\n",
       "      <td>804.387912</td>\n",
       "      <td>94.413820</td>\n",
       "    </tr>\n",
       "    <tr>\n",
       "      <th>std</th>\n",
       "      <td>1.862734e+10</td>\n",
       "      <td>22421.311222</td>\n",
       "      <td>1572.940294</td>\n",
       "      <td>2071.797487</td>\n",
       "      <td>3846.235457</td>\n",
       "      <td>371.659191</td>\n",
       "    </tr>\n",
       "    <tr>\n",
       "      <th>min</th>\n",
       "      <td>1.947602e+07</td>\n",
       "      <td>-278.104945</td>\n",
       "      <td>-1686.576000</td>\n",
       "      <td>-1636.888000</td>\n",
       "      <td>-35.195000</td>\n",
       "      <td>3.588179</td>\n",
       "    </tr>\n",
       "    <tr>\n",
       "      <th>25%</th>\n",
       "      <td>1.853649e+08</td>\n",
       "      <td>61.688070</td>\n",
       "      <td>-150.025000</td>\n",
       "      <td>-140.682250</td>\n",
       "      <td>0.000000</td>\n",
       "      <td>9.669121</td>\n",
       "    </tr>\n",
       "    <tr>\n",
       "      <th>50%</th>\n",
       "      <td>4.673576e+08</td>\n",
       "      <td>276.224399</td>\n",
       "      <td>-74.186000</td>\n",
       "      <td>-68.931000</td>\n",
       "      <td>1.274000</td>\n",
       "      <td>18.543635</td>\n",
       "    </tr>\n",
       "    <tr>\n",
       "      <th>75%</th>\n",
       "      <td>1.242737e+09</td>\n",
       "      <td>887.895769</td>\n",
       "      <td>-33.886069</td>\n",
       "      <td>-32.070500</td>\n",
       "      <td>149.906000</td>\n",
       "      <td>28.691158</td>\n",
       "    </tr>\n",
       "    <tr>\n",
       "      <th>max</th>\n",
       "      <td>2.696820e+11</td>\n",
       "      <td>337454.896300</td>\n",
       "      <td>17924.000000</td>\n",
       "      <td>26671.000000</td>\n",
       "      <td>38751.000000</td>\n",
       "      <td>2056.238251</td>\n",
       "    </tr>\n",
       "  </tbody>\n",
       "</table>\n",
       "</div>"
      ],
      "text/plain": [
       "        CUR_MKT_CAP  CURR_ENTP_VAL          EBIT        EBITDA  GROSS_PROFIT  \\\n",
       "count  3.110000e+02     311.000000    309.000000    300.000000    189.000000   \n",
       "mean   3.485259e+09    3532.343622     96.945584    167.071034    804.387912   \n",
       "std    1.862734e+10   22421.311222   1572.940294   2071.797487   3846.235457   \n",
       "min    1.947602e+07    -278.104945  -1686.576000  -1636.888000    -35.195000   \n",
       "25%    1.853649e+08      61.688070   -150.025000   -140.682250      0.000000   \n",
       "50%    4.673576e+08     276.224399    -74.186000    -68.931000      1.274000   \n",
       "75%    1.242737e+09     887.895769    -33.886069    -32.070500    149.906000   \n",
       "max    2.696820e+11  337454.896300  17924.000000  26671.000000  38751.000000   \n",
       "\n",
       "          PE_RATIO  \n",
       "count    30.000000  \n",
       "mean     94.413820  \n",
       "std     371.659191  \n",
       "min       3.588179  \n",
       "25%       9.669121  \n",
       "50%      18.543635  \n",
       "75%      28.691158  \n",
       "max    2056.238251  "
      ]
     },
     "execution_count": 44,
     "metadata": {},
     "output_type": "execute_result"
    }
   ],
   "source": [
    "companies_data.describe()"
   ]
  },
  {
   "cell_type": "code",
   "execution_count": 45,
   "metadata": {},
   "outputs": [],
   "source": [
    "companies_data = compute_ratios(companies_data)\n",
    "companies_data = companies_data.set_index(\"Ticker\")"
   ]
  },
  {
   "cell_type": "code",
   "execution_count": 46,
   "metadata": {},
   "outputs": [
    {
     "data": {
      "text/html": [
       "<div>\n",
       "<style scoped>\n",
       "    .dataframe tbody tr th:only-of-type {\n",
       "        vertical-align: middle;\n",
       "    }\n",
       "\n",
       "    .dataframe tbody tr th {\n",
       "        vertical-align: top;\n",
       "    }\n",
       "\n",
       "    .dataframe thead th {\n",
       "        text-align: right;\n",
       "    }\n",
       "</style>\n",
       "<table border=\"1\" class=\"dataframe\">\n",
       "  <thead>\n",
       "    <tr style=\"text-align: right;\">\n",
       "      <th></th>\n",
       "      <th>CUR_MKT_CAP</th>\n",
       "      <th>CURR_ENTP_VAL</th>\n",
       "      <th>EBIT</th>\n",
       "      <th>EBITDA</th>\n",
       "      <th>GROSS_PROFIT</th>\n",
       "      <th>PE_RATIO</th>\n",
       "      <th>EV_EBIT_ratio</th>\n",
       "      <th>EV_EBITDA_ratio</th>\n",
       "      <th>EV_GROSS_PROFIT_ratio</th>\n",
       "    </tr>\n",
       "    <tr>\n",
       "      <th>Ticker</th>\n",
       "      <th></th>\n",
       "      <th></th>\n",
       "      <th></th>\n",
       "      <th></th>\n",
       "      <th></th>\n",
       "      <th></th>\n",
       "      <th></th>\n",
       "      <th></th>\n",
       "      <th></th>\n",
       "    </tr>\n",
       "  </thead>\n",
       "  <tbody>\n",
       "    <tr>\n",
       "      <th>INO</th>\n",
       "      <td>688081403.4</td>\n",
       "      <td>319.789847</td>\n",
       "      <td>-301.217919</td>\n",
       "      <td>-294.257408</td>\n",
       "      <td>NaN</td>\n",
       "      <td>NaN</td>\n",
       "      <td>-1.061656</td>\n",
       "      <td>-1.086769</td>\n",
       "      <td>NaN</td>\n",
       "    </tr>\n",
       "    <tr>\n",
       "      <th>BCEL</th>\n",
       "      <td>112898803.0</td>\n",
       "      <td>-4.130197</td>\n",
       "      <td>-110.303000</td>\n",
       "      <td>-105.753000</td>\n",
       "      <td>0.0</td>\n",
       "      <td>NaN</td>\n",
       "      <td>0.037444</td>\n",
       "      <td>0.039055</td>\n",
       "      <td>-inf</td>\n",
       "    </tr>\n",
       "    <tr>\n",
       "      <th>IMUX</th>\n",
       "      <td>287720572.0</td>\n",
       "      <td>201.898572</td>\n",
       "      <td>-91.665000</td>\n",
       "      <td>-91.077000</td>\n",
       "      <td>0.0</td>\n",
       "      <td>NaN</td>\n",
       "      <td>-2.202570</td>\n",
       "      <td>-2.216790</td>\n",
       "      <td>inf</td>\n",
       "    </tr>\n",
       "  </tbody>\n",
       "</table>\n",
       "</div>"
      ],
      "text/plain": [
       "        CUR_MKT_CAP  CURR_ENTP_VAL        EBIT      EBITDA  GROSS_PROFIT  \\\n",
       "Ticker                                                                     \n",
       "INO     688081403.4     319.789847 -301.217919 -294.257408           NaN   \n",
       "BCEL    112898803.0      -4.130197 -110.303000 -105.753000           0.0   \n",
       "IMUX    287720572.0     201.898572  -91.665000  -91.077000           0.0   \n",
       "\n",
       "        PE_RATIO  EV_EBIT_ratio  EV_EBITDA_ratio  EV_GROSS_PROFIT_ratio  \n",
       "Ticker                                                                   \n",
       "INO          NaN      -1.061656        -1.086769                    NaN  \n",
       "BCEL         NaN       0.037444         0.039055                   -inf  \n",
       "IMUX         NaN      -2.202570        -2.216790                    inf  "
      ]
     },
     "execution_count": 46,
     "metadata": {},
     "output_type": "execute_result"
    }
   ],
   "source": [
    "companies_data.head(3)"
   ]
  },
  {
   "cell_type": "code",
   "execution_count": 57,
   "metadata": {},
   "outputs": [
    {
     "data": {
      "image/png": "[encoded data removed]",
      "text/plain": [
       "<Figure size 432x288 with 1 Axes>"
      ]
     },
     "metadata": {
      "needs_background": "light"
     },
     "output_type": "display_data"
    }
   ],
   "source": [
    "#Scatter plot\n",
    "stat = \"EBIT\"\n",
    "ax = companies_data.plot.scatter(stat, \"CURR_ENTP_VAL\", title=f\"Scatter plot of EV and {stat}\")\n",
    "# plt.axis([-500, 200, -400, 5000])\n",
    "plt.grid()\n",
    "# Annotate each data point\n",
    "# for i, txt in enumerate(companies_data.index):\n",
    "#    ax.annotate(txt, (companies_data[stat].iat[i]+0.05, companies_data[\"CURR_ENTP_VAL\"].iat[i]))"
   ]
  },
  {
   "cell_type": "code",
   "execution_count": 58,
   "metadata": {},
   "outputs": [
    {
     "data": {
      "image/png": "[encoded data removed]",
      "text/plain": [
       "<Figure size 432x288 with 1 Axes>"
      ]
     },
     "metadata": {
      "needs_background": "light"
     },
     "output_type": "display_data"
    }
   ],
   "source": [
    "#Scatter plot\n",
    "stat = \"EBIT\"\n",
    "ax = companies_data.plot.scatter(stat, \"CURR_ENTP_VAL\", title=f\"Scatter plot of EV and {stat}\")\n",
    "plt.axis([-500, 200, -400, 5000])\n",
    "plt.grid()\n",
    "# Annotate each data point\n",
    "# for i, txt in enumerate(companies_data.index):\n",
    "#    ax.annotate(txt, (companies_data[stat].iat[i]+0.05, companies_data[\"CURR_ENTP_VAL\"].iat[i]))"
   ]
  },
  {
   "cell_type": "code",
   "execution_count": 61,
   "metadata": {},
   "outputs": [
    {
     "name": "stdout",
     "output_type": "stream",
     "text": [
      "\n",
      "Averages :\n",
      "CUR_MKT_CAP              3.485259e+09\n",
      "CURR_ENTP_VAL            3.532344e+03\n",
      "EBIT                     9.694558e+01\n",
      "EBITDA                   1.670710e+02\n",
      "GROSS_PROFIT             8.043879e+02\n",
      "PE_RATIO                 9.441382e+01\n",
      "EV_EBIT_ratio           -3.038899e+00\n",
      "EV_EBITDA_ratio         -1.771040e-01\n",
      "EV_GROSS_PROFIT_ratio             NaN\n",
      "dtype: float64\n",
      "\n",
      "Medians :\n",
      "CUR_MKT_CAP              4.673576e+08\n",
      "CURR_ENTP_VAL            2.762244e+02\n",
      "EBIT                    -7.418600e+01\n",
      "EBITDA                  -6.893100e+01\n",
      "GROSS_PROFIT             1.274000e+00\n",
      "PE_RATIO                 1.854364e+01\n",
      "EV_EBIT_ratio           -2.034123e+00\n",
      "EV_EBITDA_ratio         -2.199924e+00\n",
      "EV_GROSS_PROFIT_ratio    9.885580e+00\n",
      "dtype: float64\n"
     ]
    }
   ],
   "source": [
    "#calcul des moyennes\n",
    "print(\"\\nAverages :\")\n",
    "averages = companies_data.mean(axis=0)\n",
    "print(averages)\n",
    "print(\"\\nMedians :\")\n",
    "medians = companies_data.median(axis=0)\n",
    "print(medians)"
   ]
  },
  {
   "cell_type": "code",
   "execution_count": null,
   "metadata": {},
   "outputs": [],
   "source": []
  },
  {
   "cell_type": "markdown",
   "metadata": {},
   "source": [
    "## Brouillon - vieux code"
   ]
  },
  {
   "cell_type": "code",
   "execution_count": 48,
   "metadata": {},
   "outputs": [
    {
     "name": "stdout",
     "output_type": "stream",
     "text": [
      "Number of companies in biotech : 316\n",
      "Number of companies in biotech and in the us : 311\n"
     ]
    }
   ],
   "source": [
    "path = \"../Bloomberg_data_processing/\"\n",
    "filename = \"preprocessed_russell_3k_data_14-03-22.csv\"\n",
    "\n",
    "data = pd.read_csv(path + filename)\n",
    "\n",
    "companies_relevant_data = data[[\"Ticker\", \"IND_GICS\", \"SUB_IND_GICS\", \"CUR_MKT_CAP\", \"REGION_NAME\", \"NUM_OF_EMPLOYEES\", \"SUSTAIN_GROWTH_RT\"]].copy()\n",
    "\n",
    "#remove non biotech and non us companies\n",
    "companies_relevant_data = companies_relevant_data.loc[companies_relevant_data[\"SUB_IND_GICS\"] == \"Biotechnology\"]\n",
    "print(f\"Number of companies in biotech : {len(companies_relevant_data)}\")\n",
    "companies_relevant_data = companies_relevant_data.loc[companies_relevant_data[\"REGION_NAME\"] == \"United States\"]\n",
    "print(f\"Number of companies in biotech and in the us : {len(companies_relevant_data)}\")"
   ]
  },
  {
   "cell_type": "markdown",
   "metadata": {},
   "source": [
    "Distribution vizualisation"
   ]
  },
  {
   "cell_type": "code",
   "execution_count": 49,
   "metadata": {},
   "outputs": [],
   "source": [
    "# # sector_subset = companies_relevant_info.loc[companies_relevant_info[\"SUB_IND_GICS\"] == \"Application Software\"]\n",
    "# sector_subset = companies_relevant_data.copy()\n",
    "# print(f\"Number of companies before filtering : {len(sector_subset)}\")\n",
    "# sector_subset = sector_subset.loc[sector_subset[\"CUR_MKT_CAP\"] < 1.5e+9]\n",
    "# print(f\"Number of companies after filtering : {len(sector_subset)}\")\n",
    "# print(sector_subset.describe())\n",
    "# plt.figure(figsize=(15,7))\n",
    "# plt.hist(sector_subset[\"CUR_MKT_CAP\"], bins=30)\n",
    "# plt.title(\"CUR_MKT_CAP distribution\")\n",
    "# plt.grid()"
   ]
  },
  {
   "cell_type": "code",
   "execution_count": 50,
   "metadata": {},
   "outputs": [],
   "source": [
    "# sector_subset = companies_relevant_data.copy()\n",
    "# print(f\"Number of companies before filtering : {len(sector_subset)}\")\n",
    "# sector_subset = sector_subset.loc[sector_subset[\"CUR_MKT_CAP\"] <  1.5e+9]\n",
    "# sector_subset = sector_subset.loc[sector_subset[\"NUM_OF_EMPLOYEES\"] < 700]\n",
    "# print(f\"Number of companies after filtering : {len(sector_subset)}\")\n",
    "# print(sector_subset.describe())\n",
    "# plt.figure(figsize=(15,7))\n",
    "# plt.hist(sector_subset[\"NUM_OF_EMPLOYEES\"], bins=40)\n",
    "# plt.title(\"NUM_OF_EMPLOYEES distribution\")\n",
    "# plt.grid()"
   ]
  },
  {
   "cell_type": "code",
   "execution_count": 51,
   "metadata": {},
   "outputs": [],
   "source": [
    "# sector_subset = companies_relevant_data.copy()\n",
    "# print(f\"Number of companies before filtering : {len(sector_subset)}\")\n",
    "# sector_subset = sector_subset.loc[sector_subset[\"CUR_MKT_CAP\"] <  1.5e+9]\n",
    "# sector_subset = sector_subset.loc[sector_subset[\"NUM_OF_EMPLOYEES\"] < 3000]\n",
    "# # sector_subset = sector_subset.loc[abs(sector_subset[\"SUSTAIN_GROWTH_RT\"]) < 50]\n",
    "# print(f\"Number of companies after filtering : {len(sector_subset)}\")\n",
    "# print(sector_subset.describe())\n",
    "# plt.figure(figsize=(7,4))\n",
    "# plt.hist(sector_subset[\"SUSTAIN_GROWTH_RT\"], bins=40)\n",
    "# plt.title(\"SUSTAIN_GROWTH_RT distribution\")\n",
    "# plt.grid()"
   ]
  },
  {
   "cell_type": "markdown",
   "metadata": {},
   "source": [
    "Comment on sustained growth rate : this data is not often provided"
   ]
  },
  {
   "cell_type": "markdown",
   "metadata": {},
   "source": [
    "Definition of the aimed groud of study's details"
   ]
  },
  {
   "cell_type": "code",
   "execution_count": 52,
   "metadata": {},
   "outputs": [],
   "source": [
    "# aimed_group = dict.fromkeys(companies_relevant_data.columns)\n",
    "# aimed_group[\"IND_GICS\"] = \"Health Care\"\n",
    "# aimed_group[\"SUB_IND_GICS\"] = \"Biotechnology\"\n",
    "# aimed_group[\"REGION_NAME\"] = \"United States\"\n",
    "# aimed_group[\"CUR_MKT_CAP\"] = 0.4e+9\n",
    "# aimed_group[\"NUM_OF_EMPLOYEES\"] = 130"
   ]
  },
  {
   "cell_type": "code",
   "execution_count": 53,
   "metadata": {},
   "outputs": [],
   "source": [
    "# aimed_group_df = pd.DataFrame(columns=companies_relevant_data.columns)\n",
    "# aimed_group_df = aimed_group_df.append(aimed_group, ignore_index=True)\n",
    "# aimed_group_df"
   ]
  },
  {
   "cell_type": "markdown",
   "metadata": {},
   "source": [
    "List of companies ranked by similarity with these targets :"
   ]
  },
  {
   "cell_type": "code",
   "execution_count": null,
   "metadata": {},
   "outputs": [],
   "source": []
  }
 ],
 "metadata": {
  "interpreter": {
   "hash": "07163781c87d2292492dc7833bd1f978937dac3e45b250592baf2d273b3ab11b"
  },
  "kernelspec": {
   "display_name": "Python 3.9.6 ('venv': venv)",
   "language": "python",
   "name": "python3"
  },
  "language_info": {
   "codemirror_mode": {
    "name": "ipython",
    "version": 3
   },
   "file_extension": ".py",
   "mimetype": "text/x-python",
   "name": "python",
   "nbconvert_exporter": "python",
   "pygments_lexer": "ipython3",
   "version": "3.9.6"
  },
  "orig_nbformat": 4
 },
 "nbformat": 4,
 "nbformat_minor": 2
}
