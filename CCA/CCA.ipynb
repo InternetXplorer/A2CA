{
 "cells": [
  {
   "cell_type": "code",
   "execution_count": 18,
   "metadata": {},
   "outputs": [],
   "source": [
    "import os\n",
    "import sys\n",
    "import pandas as pd\n",
    "import numpy as np\n",
    "# import random\n",
    "import matplotlib.pyplot as plt\n",
    "from similar_companies_choice import get_similar_comp_ranking\n",
    "from data_preparation import get_financial_data\n",
    "from data_preparation import compute_ratios\n",
    "from sklearn.linear_model import LinearRegression\n",
    "\n",
    "os.chdir(sys.path[0])"
   ]
  },
  {
   "cell_type": "code",
   "execution_count": 2,
   "metadata": {},
   "outputs": [
    {
     "name": "stdout",
     "output_type": "stream",
     "text": [
      "Number of missing values per column in the dataset:\n",
      "\n",
      "Ticker                   0\n",
      "GICS Sector              0\n",
      "GICS Sub-Industry        0\n",
      "CUR_MKT_CAP              5\n",
      "Headquarters Location    0\n",
      "dtype: int64\n"
     ]
    }
   ],
   "source": [
    "studied_comp_ticker = \"MMM\"\n",
    "similarity_ranking = get_similar_comp_ranking(studied_comp_ticker)"
   ]
  },
  {
   "cell_type": "code",
   "execution_count": 3,
   "metadata": {},
   "outputs": [
    {
     "name": "stdout",
     "output_type": "stream",
     "text": [
      "List of companies ranked similarity of sector/sub-industry, geography, and market cap :\n",
      "Ticker\n",
      "GE       0.613380\n",
      "HON      0.663717\n",
      "ROP      0.720398\n",
      "FAST     1.177523\n",
      "CHRW     1.321802\n",
      "           ...   \n",
      "BRK.B         NaN\n",
      "BF.B          NaN\n",
      "CEG           NaN\n",
      "NDSN          NaN\n",
      "PARA          NaN\n",
      "Name: similarity_score, Length: 505, dtype: float64\n"
     ]
    }
   ],
   "source": [
    "print(\"List of companies ranked similarity of sector/sub-industry, geography, and market cap :\")\n",
    "print(similarity_ranking)"
   ]
  },
  {
   "cell_type": "code",
   "execution_count": 4,
   "metadata": {},
   "outputs": [
    {
     "name": "stdout",
     "output_type": "stream",
     "text": [
      "\n",
      "These 5 companies will be chosen to form the group to compare with, based on similarity :\n",
      "['GE', 'HON', 'ROP', 'FAST', 'CHRW']\n"
     ]
    }
   ],
   "source": [
    "group_size = 5\n",
    "print(f\"\\nThese {group_size} companies will be chosen to form the group to compare with, based on similarity :\")\n",
    "symbols_comp_group = similarity_ranking[:group_size].index.tolist()\n",
    "print(symbols_comp_group)"
   ]
  },
  {
   "cell_type": "code",
   "execution_count": 5,
   "metadata": {},
   "outputs": [
    {
     "name": "stdout",
     "output_type": "stream",
     "text": [
      "    Ticker   CUR_MKT_CAP  CURR_ENTP_VAL      EBIT    EBITDA  GROSS_PROFIT  \\\n",
      "0      MMM  9.566949e+10   108530.49040  7369.000  9420.000      16560.00   \n",
      "81    CHRW  1.360319e+10    15438.86090   673.268   861.446       1169.39   \n",
      "192   FAST  3.261734e+10    33017.93818  1217.400  1388.100       2777.20   \n",
      "212     GE  1.037520e+11    85732.99585  3676.000  6279.000      18017.00   \n",
      "235    HON  1.407690e+11   151172.72990  5696.000  6912.000      10468.00   \n",
      "407    ROP  4.611378e+10    54090.37888  1431.100  2020.400       3543.00   \n",
      "\n",
      "      PE_RATIO  \n",
      "0    16.427379  \n",
      "81   18.163200  \n",
      "192  35.372980  \n",
      "212        NaN  \n",
      "235  27.223161  \n",
      "407  42.184733  \n"
     ]
    }
   ],
   "source": [
    "companies_data = get_financial_data(symbols_comp_group + [studied_comp_ticker])"
   ]
  },
  {
   "cell_type": "code",
   "execution_count": 6,
   "metadata": {},
   "outputs": [
    {
     "data": {
      "text/html": [
       "<div>\n",
       "<style scoped>\n",
       "    .dataframe tbody tr th:only-of-type {\n",
       "        vertical-align: middle;\n",
       "    }\n",
       "\n",
       "    .dataframe tbody tr th {\n",
       "        vertical-align: top;\n",
       "    }\n",
       "\n",
       "    .dataframe thead th {\n",
       "        text-align: right;\n",
       "    }\n",
       "</style>\n",
       "<table border=\"1\" class=\"dataframe\">\n",
       "  <thead>\n",
       "    <tr style=\"text-align: right;\">\n",
       "      <th></th>\n",
       "      <th>Ticker</th>\n",
       "      <th>CUR_MKT_CAP</th>\n",
       "      <th>CURR_ENTP_VAL</th>\n",
       "      <th>EBIT</th>\n",
       "      <th>EBITDA</th>\n",
       "      <th>GROSS_PROFIT</th>\n",
       "      <th>PE_RATIO</th>\n",
       "    </tr>\n",
       "  </thead>\n",
       "  <tbody>\n",
       "    <tr>\n",
       "      <th>0</th>\n",
       "      <td>MMM</td>\n",
       "      <td>9.566949e+10</td>\n",
       "      <td>108530.49040</td>\n",
       "      <td>7369.000</td>\n",
       "      <td>9420.000</td>\n",
       "      <td>16560.00</td>\n",
       "      <td>16.427379</td>\n",
       "    </tr>\n",
       "    <tr>\n",
       "      <th>81</th>\n",
       "      <td>CHRW</td>\n",
       "      <td>1.360319e+10</td>\n",
       "      <td>15438.86090</td>\n",
       "      <td>673.268</td>\n",
       "      <td>861.446</td>\n",
       "      <td>1169.39</td>\n",
       "      <td>18.163200</td>\n",
       "    </tr>\n",
       "    <tr>\n",
       "      <th>192</th>\n",
       "      <td>FAST</td>\n",
       "      <td>3.261734e+10</td>\n",
       "      <td>33017.93818</td>\n",
       "      <td>1217.400</td>\n",
       "      <td>1388.100</td>\n",
       "      <td>2777.20</td>\n",
       "      <td>35.372980</td>\n",
       "    </tr>\n",
       "    <tr>\n",
       "      <th>212</th>\n",
       "      <td>GE</td>\n",
       "      <td>1.037520e+11</td>\n",
       "      <td>85732.99585</td>\n",
       "      <td>3676.000</td>\n",
       "      <td>6279.000</td>\n",
       "      <td>18017.00</td>\n",
       "      <td>NaN</td>\n",
       "    </tr>\n",
       "    <tr>\n",
       "      <th>235</th>\n",
       "      <td>HON</td>\n",
       "      <td>1.407690e+11</td>\n",
       "      <td>151172.72990</td>\n",
       "      <td>5696.000</td>\n",
       "      <td>6912.000</td>\n",
       "      <td>10468.00</td>\n",
       "      <td>27.223161</td>\n",
       "    </tr>\n",
       "    <tr>\n",
       "      <th>407</th>\n",
       "      <td>ROP</td>\n",
       "      <td>4.611378e+10</td>\n",
       "      <td>54090.37888</td>\n",
       "      <td>1431.100</td>\n",
       "      <td>2020.400</td>\n",
       "      <td>3543.00</td>\n",
       "      <td>42.184733</td>\n",
       "    </tr>\n",
       "  </tbody>\n",
       "</table>\n",
       "</div>"
      ],
      "text/plain": [
       "    Ticker   CUR_MKT_CAP  CURR_ENTP_VAL      EBIT    EBITDA  GROSS_PROFIT  \\\n",
       "0      MMM  9.566949e+10   108530.49040  7369.000  9420.000      16560.00   \n",
       "81    CHRW  1.360319e+10    15438.86090   673.268   861.446       1169.39   \n",
       "192   FAST  3.261734e+10    33017.93818  1217.400  1388.100       2777.20   \n",
       "212     GE  1.037520e+11    85732.99585  3676.000  6279.000      18017.00   \n",
       "235    HON  1.407690e+11   151172.72990  5696.000  6912.000      10468.00   \n",
       "407    ROP  4.611378e+10    54090.37888  1431.100  2020.400       3543.00   \n",
       "\n",
       "      PE_RATIO  \n",
       "0    16.427379  \n",
       "81   18.163200  \n",
       "192  35.372980  \n",
       "212        NaN  \n",
       "235  27.223161  \n",
       "407  42.184733  "
      ]
     },
     "execution_count": 6,
     "metadata": {},
     "output_type": "execute_result"
    }
   ],
   "source": [
    "companies_data"
   ]
  },
  {
   "cell_type": "code",
   "execution_count": 7,
   "metadata": {},
   "outputs": [
    {
     "name": "stdout",
     "output_type": "stream",
     "text": [
      "Number of missing values per column :\n",
      "\n",
      "Ticker           0\n",
      "CUR_MKT_CAP      0\n",
      "CURR_ENTP_VAL    0\n",
      "EBIT             0\n",
      "EBITDA           0\n",
      "GROSS_PROFIT     0\n",
      "PE_RATIO         1\n",
      "dtype: int64\n"
     ]
    }
   ],
   "source": [
    "print(\"Number of missing values per column :\\n\")\n",
    "print(companies_data.isnull().sum())"
   ]
  },
  {
   "cell_type": "code",
   "execution_count": 8,
   "metadata": {},
   "outputs": [],
   "source": [
    "# droping rows with NaN\n",
    "# nbr_of_na = companies_data.isna().sum().sum()\n",
    "# if (nbr_of_na > 0):\n",
    "#     print(f\"{nbr_of_na} missing values. Rows with NaN will be dropped.\")\n",
    "#     companies_data = companies_data.dropna(axis='rows')"
   ]
  },
  {
   "cell_type": "code",
   "execution_count": 9,
   "metadata": {},
   "outputs": [],
   "source": [
    "companies_data = compute_ratios(companies_data)"
   ]
  },
  {
   "cell_type": "code",
   "execution_count": 10,
   "metadata": {},
   "outputs": [
    {
     "data": {
      "text/html": [
       "<div>\n",
       "<style scoped>\n",
       "    .dataframe tbody tr th:only-of-type {\n",
       "        vertical-align: middle;\n",
       "    }\n",
       "\n",
       "    .dataframe tbody tr th {\n",
       "        vertical-align: top;\n",
       "    }\n",
       "\n",
       "    .dataframe thead th {\n",
       "        text-align: right;\n",
       "    }\n",
       "</style>\n",
       "<table border=\"1\" class=\"dataframe\">\n",
       "  <thead>\n",
       "    <tr style=\"text-align: right;\">\n",
       "      <th></th>\n",
       "      <th>Ticker</th>\n",
       "      <th>CUR_MKT_CAP</th>\n",
       "      <th>CURR_ENTP_VAL</th>\n",
       "      <th>EBIT</th>\n",
       "      <th>EBITDA</th>\n",
       "      <th>GROSS_PROFIT</th>\n",
       "      <th>PE_RATIO</th>\n",
       "      <th>EV_EBIT_ratio</th>\n",
       "      <th>EV_EBITDA_ratio</th>\n",
       "      <th>EV_gross_profit_ratio</th>\n",
       "    </tr>\n",
       "  </thead>\n",
       "  <tbody>\n",
       "    <tr>\n",
       "      <th>0</th>\n",
       "      <td>MMM</td>\n",
       "      <td>9.566949e+10</td>\n",
       "      <td>108530.49040</td>\n",
       "      <td>7369.000</td>\n",
       "      <td>9420.000</td>\n",
       "      <td>16560.00</td>\n",
       "      <td>16.427379</td>\n",
       "      <td>14.727981</td>\n",
       "      <td>11.521283</td>\n",
       "      <td>6.553774</td>\n",
       "    </tr>\n",
       "    <tr>\n",
       "      <th>81</th>\n",
       "      <td>CHRW</td>\n",
       "      <td>1.360319e+10</td>\n",
       "      <td>15438.86090</td>\n",
       "      <td>673.268</td>\n",
       "      <td>861.446</td>\n",
       "      <td>1169.39</td>\n",
       "      <td>18.163200</td>\n",
       "      <td>22.931226</td>\n",
       "      <td>17.922030</td>\n",
       "      <td>13.202491</td>\n",
       "    </tr>\n",
       "    <tr>\n",
       "      <th>192</th>\n",
       "      <td>FAST</td>\n",
       "      <td>3.261734e+10</td>\n",
       "      <td>33017.93818</td>\n",
       "      <td>1217.400</td>\n",
       "      <td>1388.100</td>\n",
       "      <td>2777.20</td>\n",
       "      <td>35.372980</td>\n",
       "      <td>27.121684</td>\n",
       "      <td>23.786426</td>\n",
       "      <td>11.888931</td>\n",
       "    </tr>\n",
       "    <tr>\n",
       "      <th>212</th>\n",
       "      <td>GE</td>\n",
       "      <td>1.037520e+11</td>\n",
       "      <td>85732.99585</td>\n",
       "      <td>3676.000</td>\n",
       "      <td>6279.000</td>\n",
       "      <td>18017.00</td>\n",
       "      <td>NaN</td>\n",
       "      <td>23.322360</td>\n",
       "      <td>13.653925</td>\n",
       "      <td>4.758450</td>\n",
       "    </tr>\n",
       "    <tr>\n",
       "      <th>235</th>\n",
       "      <td>HON</td>\n",
       "      <td>1.407690e+11</td>\n",
       "      <td>151172.72990</td>\n",
       "      <td>5696.000</td>\n",
       "      <td>6912.000</td>\n",
       "      <td>10468.00</td>\n",
       "      <td>27.223161</td>\n",
       "      <td>26.540156</td>\n",
       "      <td>21.871055</td>\n",
       "      <td>14.441415</td>\n",
       "    </tr>\n",
       "    <tr>\n",
       "      <th>407</th>\n",
       "      <td>ROP</td>\n",
       "      <td>4.611378e+10</td>\n",
       "      <td>54090.37888</td>\n",
       "      <td>1431.100</td>\n",
       "      <td>2020.400</td>\n",
       "      <td>3543.00</td>\n",
       "      <td>42.184733</td>\n",
       "      <td>37.796366</td>\n",
       "      <td>26.772114</td>\n",
       "      <td>15.266830</td>\n",
       "    </tr>\n",
       "  </tbody>\n",
       "</table>\n",
       "</div>"
      ],
      "text/plain": [
       "    Ticker   CUR_MKT_CAP  CURR_ENTP_VAL      EBIT    EBITDA  GROSS_PROFIT  \\\n",
       "0      MMM  9.566949e+10   108530.49040  7369.000  9420.000      16560.00   \n",
       "81    CHRW  1.360319e+10    15438.86090   673.268   861.446       1169.39   \n",
       "192   FAST  3.261734e+10    33017.93818  1217.400  1388.100       2777.20   \n",
       "212     GE  1.037520e+11    85732.99585  3676.000  6279.000      18017.00   \n",
       "235    HON  1.407690e+11   151172.72990  5696.000  6912.000      10468.00   \n",
       "407    ROP  4.611378e+10    54090.37888  1431.100  2020.400       3543.00   \n",
       "\n",
       "      PE_RATIO  EV_EBIT_ratio  EV_EBITDA_ratio  EV_gross_profit_ratio  \n",
       "0    16.427379      14.727981        11.521283               6.553774  \n",
       "81   18.163200      22.931226        17.922030              13.202491  \n",
       "192  35.372980      27.121684        23.786426              11.888931  \n",
       "212        NaN      23.322360        13.653925               4.758450  \n",
       "235  27.223161      26.540156        21.871055              14.441415  \n",
       "407  42.184733      37.796366        26.772114              15.266830  "
      ]
     },
     "execution_count": 10,
     "metadata": {},
     "output_type": "execute_result"
    }
   ],
   "source": [
    "companies_data"
   ]
  },
  {
   "cell_type": "code",
   "execution_count": 11,
   "metadata": {},
   "outputs": [],
   "source": [
    "companies_data = companies_data.set_index(\"Ticker\")"
   ]
  },
  {
   "cell_type": "code",
   "execution_count": 12,
   "metadata": {},
   "outputs": [
    {
     "data": {
      "image/png": "[encoded data removed]",
      "text/plain": [
       "<Figure size 432x288 with 1 Axes>"
      ]
     },
     "metadata": {
      "needs_background": "light"
     },
     "output_type": "display_data"
    }
   ],
   "source": [
    "#Scatter plot\n",
    "stat = \"EBIT\"\n",
    "ax = companies_data.plot.scatter(stat, \"CURR_ENTP_VAL\", title=f\"Scatter plot of EV and {stat}\")\n",
    "\n",
    "# Annotate each data point\n",
    "for i, txt in enumerate(companies_data.index):\n",
    "   ax.annotate(txt, (companies_data[stat].iat[i]+0.05, companies_data[\"CURR_ENTP_VAL\"].iat[i]))"
   ]
  },
  {
   "cell_type": "code",
   "execution_count": 13,
   "metadata": {},
   "outputs": [
    {
     "name": "stdout",
     "output_type": "stream",
     "text": [
      "\n",
      "Averages :\n",
      "CUR_MKT_CAP              7.208747e+10\n",
      "CURR_ENTP_VAL            7.466390e+04\n",
      "EBIT                     3.343795e+03\n",
      "EBITDA                   4.480158e+03\n",
      "GROSS_PROFIT             8.755765e+03\n",
      "PE_RATIO                 2.787429e+01\n",
      "EV_EBIT_ratio            2.540663e+01\n",
      "EV_EBITDA_ratio          1.925447e+01\n",
      "EV_gross_profit_ratio    1.101865e+01\n",
      "dtype: float64\n"
     ]
    }
   ],
   "source": [
    "#calcul des moyennes\n",
    "print(\"\\nAverages :\")\n",
    "averages = companies_data.mean(axis=0)\n",
    "print(averages)"
   ]
  },
  {
   "cell_type": "markdown",
   "metadata": {},
   "source": [
    "# *** TO DO : CHECK EACH COLUMN'S UNIT, TO MAKE SURE EVERYTHING IS ON SAME SCALE (either thousands or millions of dollars) ***"
   ]
  },
  {
   "cell_type": "markdown",
   "metadata": {},
   "source": [
    "### CCA USING RATIOS"
   ]
  },
  {
   "cell_type": "code",
   "execution_count": 25,
   "metadata": {},
   "outputs": [
    {
     "name": "stdout",
     "output_type": "stream",
     "text": [
      "*** ESTIMATIONS ***\n",
      "(Values are in millions of dollars)\n",
      "\n",
      "Real EV of MMM: 108530.4904\n",
      "Estimated EV of MMM (using avg EV_EBIT_ratio): 187221.4481307776 \n",
      "Real EV / Estimated EV : 0.5796904760836454\n",
      "\n",
      "\n",
      "\n",
      "*** ESTIMATIONS ***\n",
      "(Values are in millions of dollars)\n",
      "\n",
      "Real EV of MMM: 108530.4904\n",
      "Estimated EV of MMM (using avg EV_EBITDA_ratio): 181377.12805515833 \n",
      "Real EV / Estimated EV : 0.5983692186756587\n",
      "\n",
      "\n",
      "\n"
     ]
    },
    {
     "ename": "KeyError",
     "evalue": "'EV_GROSS_PROFIT_ratio'",
     "output_type": "error",
     "traceback": [
      "\u001b[1;31m---------------------------------------------------------------------------\u001b[0m",
      "\u001b[1;31mKeyError\u001b[0m                                  Traceback (most recent call last)",
      "File \u001b[1;32mc:\\Users\\paulm\\OneDrive\\Documents\\ESILV\\PI2\\A2CA\\venv\\lib\\site-packages\\pandas\\core\\indexes\\base.py:3361\u001b[0m, in \u001b[0;36mIndex.get_loc\u001b[1;34m(self, key, method, tolerance)\u001b[0m\n\u001b[0;32m   <a href='file:///c%3A/Users/paulm/OneDrive/Documents/ESILV/PI2/A2CA/venv/lib/site-packages/pandas/core/indexes/base.py?line=3359'>3360</a>\u001b[0m \u001b[39mtry\u001b[39;00m:\n\u001b[1;32m-> <a href='file:///c%3A/Users/paulm/OneDrive/Documents/ESILV/PI2/A2CA/venv/lib/site-packages/pandas/core/indexes/base.py?line=3360'>3361</a>\u001b[0m     \u001b[39mreturn\u001b[39;00m \u001b[39mself\u001b[39;49m\u001b[39m.\u001b[39;49m_engine\u001b[39m.\u001b[39;49mget_loc(casted_key)\n\u001b[0;32m   <a href='file:///c%3A/Users/paulm/OneDrive/Documents/ESILV/PI2/A2CA/venv/lib/site-packages/pandas/core/indexes/base.py?line=3361'>3362</a>\u001b[0m \u001b[39mexcept\u001b[39;00m \u001b[39mKeyError\u001b[39;00m \u001b[39mas\u001b[39;00m err:\n",
      "File \u001b[1;32mc:\\Users\\paulm\\OneDrive\\Documents\\ESILV\\PI2\\A2CA\\venv\\lib\\site-packages\\pandas\\_libs\\index.pyx:76\u001b[0m, in \u001b[0;36mpandas._libs.index.IndexEngine.get_loc\u001b[1;34m()\u001b[0m\n",
      "File \u001b[1;32mc:\\Users\\paulm\\OneDrive\\Documents\\ESILV\\PI2\\A2CA\\venv\\lib\\site-packages\\pandas\\_libs\\index.pyx:108\u001b[0m, in \u001b[0;36mpandas._libs.index.IndexEngine.get_loc\u001b[1;34m()\u001b[0m\n",
      "File \u001b[1;32mpandas\\_libs\\hashtable_class_helper.pxi:5198\u001b[0m, in \u001b[0;36mpandas._libs.hashtable.PyObjectHashTable.get_item\u001b[1;34m()\u001b[0m\n",
      "File \u001b[1;32mpandas\\_libs\\hashtable_class_helper.pxi:5206\u001b[0m, in \u001b[0;36mpandas._libs.hashtable.PyObjectHashTable.get_item\u001b[1;34m()\u001b[0m\n",
      "\u001b[1;31mKeyError\u001b[0m: 'EV_GROSS_PROFIT_ratio'",
      "\nThe above exception was the direct cause of the following exception:\n",
      "\u001b[1;31mKeyError\u001b[0m                                  Traceback (most recent call last)",
      "\u001b[1;32mc:\\Users\\paulm\\OneDrive\\Documents\\ESILV\\PI2\\A2CA\\CCA\\CCA.ipynb Cell 16'\u001b[0m in \u001b[0;36m<module>\u001b[1;34m\u001b[0m\n\u001b[0;32m      <a href='vscode-notebook-cell:/c%3A/Users/paulm/OneDrive/Documents/ESILV/PI2/A2CA/CCA/CCA.ipynb#ch0000026?line=2'>3</a>\u001b[0m \u001b[39mfor\u001b[39;00m i \u001b[39min\u001b[39;00m \u001b[39mrange\u001b[39m(\u001b[39mlen\u001b[39m(denominators)):\n\u001b[0;32m      <a href='vscode-notebook-cell:/c%3A/Users/paulm/OneDrive/Documents/ESILV/PI2/A2CA/CCA/CCA.ipynb#ch0000026?line=3'>4</a>\u001b[0m     ratio_to_be_used \u001b[39m=\u001b[39m \u001b[39mf\u001b[39m\u001b[39m\"\u001b[39m\u001b[39mEV_\u001b[39m\u001b[39m{\u001b[39;00mdenominators[i]\u001b[39m}\u001b[39;00m\u001b[39m_ratio\u001b[39m\u001b[39m\"\u001b[39m\n\u001b[1;32m----> <a href='vscode-notebook-cell:/c%3A/Users/paulm/OneDrive/Documents/ESILV/PI2/A2CA/CCA/CCA.ipynb#ch0000026?line=4'>5</a>\u001b[0m     estimated_EV \u001b[39m=\u001b[39m averages\u001b[39m.\u001b[39;49mloc[ratio_to_be_used] \u001b[39m*\u001b[39m companies_data\u001b[39m.\u001b[39mloc[studied_comp_ticker, denominators[i]]\n\u001b[0;32m      <a href='vscode-notebook-cell:/c%3A/Users/paulm/OneDrive/Documents/ESILV/PI2/A2CA/CCA/CCA.ipynb#ch0000026?line=6'>7</a>\u001b[0m     \u001b[39mprint\u001b[39m(\u001b[39m\"\u001b[39m\u001b[39m*** ESTIMATIONS ***\u001b[39m\u001b[39m\\n\u001b[39;00m\u001b[39m(Values are in millions of dollars)\u001b[39m\u001b[39m\\n\u001b[39;00m\u001b[39m\"\u001b[39m)\n\u001b[0;32m      <a href='vscode-notebook-cell:/c%3A/Users/paulm/OneDrive/Documents/ESILV/PI2/A2CA/CCA/CCA.ipynb#ch0000026?line=7'>8</a>\u001b[0m     \u001b[39mprint\u001b[39m(\u001b[39mf\u001b[39m\u001b[39m\"\u001b[39m\u001b[39mReal EV of \u001b[39m\u001b[39m{\u001b[39;00mstudied_comp_ticker\u001b[39m}\u001b[39;00m\u001b[39m: \u001b[39m\u001b[39m{\u001b[39;00mcompanies_data\u001b[39m.\u001b[39mloc[studied_comp_ticker, \u001b[39m'\u001b[39m\u001b[39mCURR_ENTP_VAL\u001b[39m\u001b[39m'\u001b[39m]\u001b[39m}\u001b[39;00m\u001b[39m\"\u001b[39m)\n",
      "File \u001b[1;32mc:\\Users\\paulm\\OneDrive\\Documents\\ESILV\\PI2\\A2CA\\venv\\lib\\site-packages\\pandas\\core\\indexing.py:931\u001b[0m, in \u001b[0;36m_LocationIndexer.__getitem__\u001b[1;34m(self, key)\u001b[0m\n\u001b[0;32m    <a href='file:///c%3A/Users/paulm/OneDrive/Documents/ESILV/PI2/A2CA/venv/lib/site-packages/pandas/core/indexing.py?line=927'>928</a>\u001b[0m axis \u001b[39m=\u001b[39m \u001b[39mself\u001b[39m\u001b[39m.\u001b[39maxis \u001b[39mor\u001b[39;00m \u001b[39m0\u001b[39m\n\u001b[0;32m    <a href='file:///c%3A/Users/paulm/OneDrive/Documents/ESILV/PI2/A2CA/venv/lib/site-packages/pandas/core/indexing.py?line=929'>930</a>\u001b[0m maybe_callable \u001b[39m=\u001b[39m com\u001b[39m.\u001b[39mapply_if_callable(key, \u001b[39mself\u001b[39m\u001b[39m.\u001b[39mobj)\n\u001b[1;32m--> <a href='file:///c%3A/Users/paulm/OneDrive/Documents/ESILV/PI2/A2CA/venv/lib/site-packages/pandas/core/indexing.py?line=930'>931</a>\u001b[0m \u001b[39mreturn\u001b[39;00m \u001b[39mself\u001b[39;49m\u001b[39m.\u001b[39;49m_getitem_axis(maybe_callable, axis\u001b[39m=\u001b[39;49maxis)\n",
      "File \u001b[1;32mc:\\Users\\paulm\\OneDrive\\Documents\\ESILV\\PI2\\A2CA\\venv\\lib\\site-packages\\pandas\\core\\indexing.py:1164\u001b[0m, in \u001b[0;36m_LocIndexer._getitem_axis\u001b[1;34m(self, key, axis)\u001b[0m\n\u001b[0;32m   <a href='file:///c%3A/Users/paulm/OneDrive/Documents/ESILV/PI2/A2CA/venv/lib/site-packages/pandas/core/indexing.py?line=1161'>1162</a>\u001b[0m \u001b[39m# fall thru to straight lookup\u001b[39;00m\n\u001b[0;32m   <a href='file:///c%3A/Users/paulm/OneDrive/Documents/ESILV/PI2/A2CA/venv/lib/site-packages/pandas/core/indexing.py?line=1162'>1163</a>\u001b[0m \u001b[39mself\u001b[39m\u001b[39m.\u001b[39m_validate_key(key, axis)\n\u001b[1;32m-> <a href='file:///c%3A/Users/paulm/OneDrive/Documents/ESILV/PI2/A2CA/venv/lib/site-packages/pandas/core/indexing.py?line=1163'>1164</a>\u001b[0m \u001b[39mreturn\u001b[39;00m \u001b[39mself\u001b[39;49m\u001b[39m.\u001b[39;49m_get_label(key, axis\u001b[39m=\u001b[39;49maxis)\n",
      "File \u001b[1;32mc:\\Users\\paulm\\OneDrive\\Documents\\ESILV\\PI2\\A2CA\\venv\\lib\\site-packages\\pandas\\core\\indexing.py:1113\u001b[0m, in \u001b[0;36m_LocIndexer._get_label\u001b[1;34m(self, label, axis)\u001b[0m\n\u001b[0;32m   <a href='file:///c%3A/Users/paulm/OneDrive/Documents/ESILV/PI2/A2CA/venv/lib/site-packages/pandas/core/indexing.py?line=1110'>1111</a>\u001b[0m \u001b[39mdef\u001b[39;00m \u001b[39m_get_label\u001b[39m(\u001b[39mself\u001b[39m, label, axis: \u001b[39mint\u001b[39m):\n\u001b[0;32m   <a href='file:///c%3A/Users/paulm/OneDrive/Documents/ESILV/PI2/A2CA/venv/lib/site-packages/pandas/core/indexing.py?line=1111'>1112</a>\u001b[0m     \u001b[39m# GH#5667 this will fail if the label is not present in the axis.\u001b[39;00m\n\u001b[1;32m-> <a href='file:///c%3A/Users/paulm/OneDrive/Documents/ESILV/PI2/A2CA/venv/lib/site-packages/pandas/core/indexing.py?line=1112'>1113</a>\u001b[0m     \u001b[39mreturn\u001b[39;00m \u001b[39mself\u001b[39;49m\u001b[39m.\u001b[39;49mobj\u001b[39m.\u001b[39;49mxs(label, axis\u001b[39m=\u001b[39;49maxis)\n",
      "File \u001b[1;32mc:\\Users\\paulm\\OneDrive\\Documents\\ESILV\\PI2\\A2CA\\venv\\lib\\site-packages\\pandas\\core\\generic.py:3776\u001b[0m, in \u001b[0;36mNDFrame.xs\u001b[1;34m(self, key, axis, level, drop_level)\u001b[0m\n\u001b[0;32m   <a href='file:///c%3A/Users/paulm/OneDrive/Documents/ESILV/PI2/A2CA/venv/lib/site-packages/pandas/core/generic.py?line=3773'>3774</a>\u001b[0m         \u001b[39mraise\u001b[39;00m \u001b[39mTypeError\u001b[39;00m(\u001b[39mf\u001b[39m\u001b[39m\"\u001b[39m\u001b[39mExpected label or tuple of labels, got \u001b[39m\u001b[39m{\u001b[39;00mkey\u001b[39m}\u001b[39;00m\u001b[39m\"\u001b[39m) \u001b[39mfrom\u001b[39;00m \u001b[39me\u001b[39;00m\n\u001b[0;32m   <a href='file:///c%3A/Users/paulm/OneDrive/Documents/ESILV/PI2/A2CA/venv/lib/site-packages/pandas/core/generic.py?line=3774'>3775</a>\u001b[0m \u001b[39melse\u001b[39;00m:\n\u001b[1;32m-> <a href='file:///c%3A/Users/paulm/OneDrive/Documents/ESILV/PI2/A2CA/venv/lib/site-packages/pandas/core/generic.py?line=3775'>3776</a>\u001b[0m     loc \u001b[39m=\u001b[39m index\u001b[39m.\u001b[39;49mget_loc(key)\n\u001b[0;32m   <a href='file:///c%3A/Users/paulm/OneDrive/Documents/ESILV/PI2/A2CA/venv/lib/site-packages/pandas/core/generic.py?line=3777'>3778</a>\u001b[0m     \u001b[39mif\u001b[39;00m \u001b[39misinstance\u001b[39m(loc, np\u001b[39m.\u001b[39mndarray):\n\u001b[0;32m   <a href='file:///c%3A/Users/paulm/OneDrive/Documents/ESILV/PI2/A2CA/venv/lib/site-packages/pandas/core/generic.py?line=3778'>3779</a>\u001b[0m         \u001b[39mif\u001b[39;00m loc\u001b[39m.\u001b[39mdtype \u001b[39m==\u001b[39m np\u001b[39m.\u001b[39mbool_:\n",
      "File \u001b[1;32mc:\\Users\\paulm\\OneDrive\\Documents\\ESILV\\PI2\\A2CA\\venv\\lib\\site-packages\\pandas\\core\\indexes\\base.py:3363\u001b[0m, in \u001b[0;36mIndex.get_loc\u001b[1;34m(self, key, method, tolerance)\u001b[0m\n\u001b[0;32m   <a href='file:///c%3A/Users/paulm/OneDrive/Documents/ESILV/PI2/A2CA/venv/lib/site-packages/pandas/core/indexes/base.py?line=3360'>3361</a>\u001b[0m         \u001b[39mreturn\u001b[39;00m \u001b[39mself\u001b[39m\u001b[39m.\u001b[39m_engine\u001b[39m.\u001b[39mget_loc(casted_key)\n\u001b[0;32m   <a href='file:///c%3A/Users/paulm/OneDrive/Documents/ESILV/PI2/A2CA/venv/lib/site-packages/pandas/core/indexes/base.py?line=3361'>3362</a>\u001b[0m     \u001b[39mexcept\u001b[39;00m \u001b[39mKeyError\u001b[39;00m \u001b[39mas\u001b[39;00m err:\n\u001b[1;32m-> <a href='file:///c%3A/Users/paulm/OneDrive/Documents/ESILV/PI2/A2CA/venv/lib/site-packages/pandas/core/indexes/base.py?line=3362'>3363</a>\u001b[0m         \u001b[39mraise\u001b[39;00m \u001b[39mKeyError\u001b[39;00m(key) \u001b[39mfrom\u001b[39;00m \u001b[39merr\u001b[39;00m\n\u001b[0;32m   <a href='file:///c%3A/Users/paulm/OneDrive/Documents/ESILV/PI2/A2CA/venv/lib/site-packages/pandas/core/indexes/base.py?line=3364'>3365</a>\u001b[0m \u001b[39mif\u001b[39;00m is_scalar(key) \u001b[39mand\u001b[39;00m isna(key) \u001b[39mand\u001b[39;00m \u001b[39mnot\u001b[39;00m \u001b[39mself\u001b[39m\u001b[39m.\u001b[39mhasnans:\n\u001b[0;32m   <a href='file:///c%3A/Users/paulm/OneDrive/Documents/ESILV/PI2/A2CA/venv/lib/site-packages/pandas/core/indexes/base.py?line=3365'>3366</a>\u001b[0m     \u001b[39mraise\u001b[39;00m \u001b[39mKeyError\u001b[39;00m(key)\n",
      "\u001b[1;31mKeyError\u001b[0m: 'EV_GROSS_PROFIT_ratio'"
     ]
    }
   ],
   "source": [
    "denominators = [\"EBIT\", \"EBITDA\", \"GROSS_PROFIT\"]\n",
    "\n",
    "for i in range(len(denominators)):\n",
    "    ratio_to_be_used = f\"EV_{denominators[i]}_ratio\"\n",
    "    estimated_EV = averages.loc[ratio_to_be_used] * companies_data.loc[studied_comp_ticker, denominators[i]]\n",
    "\n",
    "    print(\"*** ESTIMATIONS ***\\n(Values are in millions of dollars)\\n\")\n",
    "    print(f\"Real EV of {studied_comp_ticker}: {companies_data.loc[studied_comp_ticker, 'CURR_ENTP_VAL']}\")\n",
    "    print(f\"Estimated EV of {studied_comp_ticker} (using avg {ratio_to_be_used}): {estimated_EV} \")\n",
    "    print(f\"Real EV / Estimated EV : {companies_data.loc[studied_comp_ticker, 'CURR_ENTP_VAL'] / estimated_EV}\")\n",
    "    print(\"\\n\\n\")"
   ]
  },
  {
   "cell_type": "markdown",
   "metadata": {},
   "source": [
    "Estimation of the studied comp's EV from EV / EBIT ratio"
   ]
  },
  {
   "cell_type": "code",
   "execution_count": 23,
   "metadata": {},
   "outputs": [],
   "source": [
    "# ratio_to_be_used = \"EV_EBIT_ratio\"\n",
    "# denominator_stat = \"EBIT\"\n",
    "# estimated_EV = averages.loc[ratio_to_be_used] * companies_data.loc[studied_comp_ticker, denominator_stat]\n",
    "\n",
    "# print(\"\\n\\n*** ESTIMATIONS ***\\n(Values are in millions of dollars)\\n\")\n",
    "# print(f\"Real EV of {studied_comp_ticker}: {companies_data.loc[studied_comp_ticker, 'CURR_ENTP_VAL']}\")\n",
    "# print(f\"Estimated EV of {studied_comp_ticker} (using avg {ratio_to_be_used}): {estimated_EV} \")\n",
    "# print(f\"Real EV / Estimated EV : {companies_data.loc[studied_comp_ticker, 'CURR_ENTP_VAL'] / estimated_EV}\")"
   ]
  },
  {
   "cell_type": "markdown",
   "metadata": {},
   "source": [
    "Estimation of the studied comp's EV from EV / EBITDA ratio"
   ]
  },
  {
   "cell_type": "code",
   "execution_count": 21,
   "metadata": {},
   "outputs": [],
   "source": [
    "# ratio_to_be_used = \"EV_EBIT_ratio\"\n",
    "# denominator_stat = \"EBITDA\"\n",
    "# estimated_EV = averages.loc[ratio_to_be_used] * companies_data.loc[studied_comp_ticker, denominator_stat]\n",
    "\n",
    "# print(\"\\n\\n*** ESTIMATIONS ***\\n(Values are in millions of dollars)\\n\")\n",
    "# print(f\"Real EV of {studied_comp_ticker}: {companies_data.loc[studied_comp_ticker, 'CURR_ENTP_VAL']}\")\n",
    "# print(f\"Estimated EV of {studied_comp_ticker} (using avg {ratio_to_be_used}): {estimated_EV} \")\n",
    "# print(f\"Real EV / Estimated EV : {companies_data.loc[studied_comp_ticker, 'CURR_ENTP_VAL'] / estimated_EV}\")"
   ]
  },
  {
   "cell_type": "markdown",
   "metadata": {},
   "source": [
    "Estimation of the studied comp's EV from EV / gross_profit ratio"
   ]
  },
  {
   "cell_type": "code",
   "execution_count": 22,
   "metadata": {},
   "outputs": [],
   "source": [
    "# ratio_to_be_used = \"EV_gross_profit_ratio\"\n",
    "# denominator_stat = \"GROSS_PROFIT\"\n",
    "# estimated_EV = averages.loc[ratio_to_be_used] * companies_data.loc[studied_comp_ticker, denominator_stat]\n",
    "\n",
    "# print(f\"\\nReal EV of {studied_comp_ticker}: {companies_data.loc[studied_comp_ticker, 'CURR_ENTP_VAL']}\")\n",
    "# print(f\"Estimated EV of {studied_comp_ticker} (using avg {ratio_to_be_used}): {estimated_EV} \")\n",
    "# print(f\"Real EV / Estimated EV : {companies_data.loc[studied_comp_ticker, 'CURR_ENTP_VAL'] / estimated_EV}\")"
   ]
  },
  {
   "cell_type": "markdown",
   "metadata": {},
   "source": [
    "### CCA USING LINEAR REGRESSION"
   ]
  },
  {
   "cell_type": "markdown",
   "metadata": {},
   "source": [
    "Estimation using simple linear regression"
   ]
  },
  {
   "cell_type": "code",
   "execution_count": 19,
   "metadata": {},
   "outputs": [
    {
     "name": "stdout",
     "output_type": "stream",
     "text": [
      "\n",
      "Coefs ligne de regression :\n",
      "a=5.0063\n",
      "intercept=31870.9145\n",
      "\n",
      "Real EV of MMM: 108530.4904\n",
      "Estimated EV of MMM with regression model (using GROSS_PROFIT): 114774.66313732266\n",
      "Real EV / Estimated EV : 0.9455962442699414\n",
      "\n"
     ]
    },
    {
     "data": {
      "image/png": "[encoded data removed]",
      "text/plain": [
       "<Figure size 432x288 with 1 Axes>"
      ]
     },
     "metadata": {
      "needs_background": "light"
     },
     "output_type": "display_data"
    }
   ],
   "source": [
    "stat_used = \"GROSS_PROFIT\"\n",
    "ax = companies_data.plot.scatter(stat_used, \"CURR_ENTP_VAL\", title=f\"Scatter plot and regression line of EV and {stat_used}\")\n",
    "# Annotate each data point\n",
    "for i, txt in enumerate(companies_data.index):\n",
    "   ax.annotate(txt, (companies_data[stat_used].iat[i]+0.05, companies_data[\"CURR_ENTP_VAL\"].iat[i]))\n",
    "\n",
    "X = companies_data[companies_data.index != studied_comp_ticker][[stat_used]].reset_index(drop=True)\n",
    "Y = companies_data[companies_data.index != studied_comp_ticker][\"CURR_ENTP_VAL\"].reset_index(drop=True)\n",
    "\n",
    "linear_regressor = LinearRegression()\n",
    "linear_regressor.fit(X, Y)\n",
    "print(f\"\\nCoefs ligne de regression :\\na={round(linear_regressor.coef_[0], 4)}\\nintercept={round(linear_regressor.intercept_, 4)}\\n\")\n",
    "\n",
    "#EV estimation\n",
    "studied_comp_row_single_var = companies_data[companies_data.index == studied_comp_ticker][[stat_used]].reset_index(drop=True)\n",
    "estimated_EV = linear_regressor.predict(studied_comp_row_single_var)[0]\n",
    "\n",
    "print(f\"Real EV of {studied_comp_ticker}: {companies_data.loc[studied_comp_ticker, 'CURR_ENTP_VAL']}\")\n",
    "print(f\"Estimated EV of {studied_comp_ticker} with regression model (using {stat_used}): {estimated_EV}\")\n",
    "print(f\"Real EV / Estimated EV : {companies_data.loc[studied_comp_ticker, 'CURR_ENTP_VAL'] / estimated_EV}\\n\")\n",
    "\n",
    "plt.plot(X, X*linear_regressor.coef_ + linear_regressor.intercept_, color='red')\n",
    "plt.show()"
   ]
  },
  {
   "cell_type": "markdown",
   "metadata": {},
   "source": [
    "Estimation using multiple linear regression"
   ]
  },
  {
   "cell_type": "code",
   "execution_count": 27,
   "metadata": {},
   "outputs": [
    {
     "name": "stdout",
     "output_type": "stream",
     "text": [
      "\n",
      "Coefs ligne de regression :\n",
      "coefs=[-4.9919262  35.97867415 -7.01193884]\n",
      "intercept=5369.8391\n",
      "\n",
      "Real EV of MMM: 108530.4904\n",
      "Estimated EV of MMM with regression model (using all stats): 191385.73812305802\n",
      "Real EV / Estimated EV : 0.5670772099549894\n",
      "\n"
     ]
    }
   ],
   "source": [
    "X = companies_data[companies_data.index != studied_comp_ticker][[\"EBIT\", \"EBITDA\", \"GROSS_PROFIT\"]].reset_index(drop=True)\n",
    "Y = companies_data[companies_data.index != studied_comp_ticker][\"CURR_ENTP_VAL\"].reset_index(drop=True)\n",
    "\n",
    "linear_regressor2 = LinearRegression()\n",
    "linear_regressor2.fit(X, Y)\n",
    "print(f\"\\nCoefs ligne de regression :\\ncoefs={linear_regressor2.coef_}\\nintercept={round(linear_regressor2.intercept_, 4)}\\n\")\n",
    "\n",
    "#EV estimation\n",
    "studied_comp_row_multi_var = companies_data[companies_data.index == studied_comp_ticker][[\"EBIT\", \"EBITDA\", \"GROSS_PROFIT\"]].reset_index(drop=True)\n",
    "estimated_EV = linear_regressor2.predict(studied_comp_row_multi_var)[0]\n",
    "\n",
    "print(f\"Real EV of {studied_comp_ticker}: {companies_data.loc[studied_comp_ticker, 'CURR_ENTP_VAL']}\")\n",
    "print(f\"Estimated EV of {studied_comp_ticker} with regression model (using all stats): {estimated_EV}\")\n",
    "print(f\"Real EV / Estimated EV : {companies_data.loc[studied_comp_ticker, 'CURR_ENTP_VAL'] / estimated_EV}\\n\")"
   ]
  }
 ],
 "metadata": {
  "interpreter": {
   "hash": "07163781c87d2292492dc7833bd1f978937dac3e45b250592baf2d273b3ab11b"
  },
  "kernelspec": {
   "display_name": "Python 3.9.6 ('venv': venv)",
   "language": "python",
   "name": "python3"
  },
  "language_info": {
   "codemirror_mode": {
    "name": "ipython",
    "version": 3
   },
   "file_extension": ".py",
   "mimetype": "text/x-python",
   "name": "python",
   "nbconvert_exporter": "python",
   "pygments_lexer": "ipython3",
   "version": "3.9.6"
  },
  "orig_nbformat": 4
 },
 "nbformat": 4,
 "nbformat_minor": 2
}
