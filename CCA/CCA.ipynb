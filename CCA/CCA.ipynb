{
 "cells": [
  {
   "cell_type": "code",
   "execution_count": 91,
   "metadata": {},
   "outputs": [],
   "source": [
    "import os\n",
    "import sys\n",
    "import pandas as pd\n",
    "import numpy as np\n",
    "# import random\n",
    "import matplotlib.pyplot as plt\n",
    "from similar_companies_choice import get_similar_comp_ranking\n",
    "from data_preparation import get_financial_data\n",
    "from data_preparation import compute_ratios\n",
    "from sklearn.linear_model import LinearRegression\n",
    "\n",
    "os.chdir(sys.path[0])"
   ]
  },
  {
   "cell_type": "code",
   "execution_count": 92,
   "metadata": {},
   "outputs": [
    {
     "name": "stdout",
     "output_type": "stream",
     "text": [
      "Number of missing values per column in the dataset:\n",
      "\n",
      "Ticker                  0\n",
      "IND_GICS                3\n",
      "SUB_IND_GICS            3\n",
      "CUR_MKT_CAP             1\n",
      "REGION_NAME             0\n",
      "NUM_OF_EMPLOYEES      353\n",
      "SUSTAIN_GROWTH_RT    1217\n",
      "dtype: int64\n"
     ]
    }
   ],
   "source": [
    "studied_comp_ticker = \"XBIT\"\n",
    "similarity_ranking = get_similar_comp_ranking(studied_comp_ticker)"
   ]
  },
  {
   "cell_type": "code",
   "execution_count": 93,
   "metadata": {},
   "outputs": [
    {
     "name": "stdout",
     "output_type": "stream",
     "text": [
      "Studied company's data for columns used for similarity comparison :\n"
     ]
    },
    {
     "data": {
      "text/html": [
       "<div>\n",
       "<style scoped>\n",
       "    .dataframe tbody tr th:only-of-type {\n",
       "        vertical-align: middle;\n",
       "    }\n",
       "\n",
       "    .dataframe tbody tr th {\n",
       "        vertical-align: top;\n",
       "    }\n",
       "\n",
       "    .dataframe thead th {\n",
       "        text-align: right;\n",
       "    }\n",
       "</style>\n",
       "<table border=\"1\" class=\"dataframe\">\n",
       "  <thead>\n",
       "    <tr style=\"text-align: right;\">\n",
       "      <th></th>\n",
       "      <th>IND_GICS</th>\n",
       "      <th>SUB_IND_GICS</th>\n",
       "      <th>CUR_MKT_CAP</th>\n",
       "      <th>REGION_NAME</th>\n",
       "      <th>NUM_OF_EMPLOYEES</th>\n",
       "      <th>SUSTAIN_GROWTH_RT</th>\n",
       "      <th>similarity_score</th>\n",
       "    </tr>\n",
       "    <tr>\n",
       "      <th>Ticker</th>\n",
       "      <th></th>\n",
       "      <th></th>\n",
       "      <th></th>\n",
       "      <th></th>\n",
       "      <th></th>\n",
       "      <th></th>\n",
       "      <th></th>\n",
       "    </tr>\n",
       "  </thead>\n",
       "  <tbody>\n",
       "    <tr>\n",
       "      <th>XBIT</th>\n",
       "      <td>Health Care</td>\n",
       "      <td>Biotechnology</td>\n",
       "      <td>269337877.7</td>\n",
       "      <td>United States</td>\n",
       "      <td>91.0</td>\n",
       "      <td>NaN</td>\n",
       "      <td>0.0</td>\n",
       "    </tr>\n",
       "  </tbody>\n",
       "</table>\n",
       "</div>"
      ],
      "text/plain": [
       "           IND_GICS   SUB_IND_GICS  CUR_MKT_CAP    REGION_NAME  \\\n",
       "Ticker                                                           \n",
       "XBIT    Health Care  Biotechnology  269337877.7  United States   \n",
       "\n",
       "        NUM_OF_EMPLOYEES  SUSTAIN_GROWTH_RT  similarity_score  \n",
       "Ticker                                                         \n",
       "XBIT                91.0                NaN               0.0  "
      ]
     },
     "execution_count": 93,
     "metadata": {},
     "output_type": "execute_result"
    }
   ],
   "source": [
    "studied_comp_similarity_data = similarity_ranking.iloc[:1]\n",
    "similarity_ranking = similarity_ranking.iloc[1:]\n",
    "print(\"Studied company's data for columns used for similarity comparison :\")\n",
    "studied_comp_similarity_data"
   ]
  },
  {
   "cell_type": "code",
   "execution_count": 94,
   "metadata": {},
   "outputs": [
    {
     "name": "stdout",
     "output_type": "stream",
     "text": [
      "List of companies ranked similarity of sector/sub-industry, geography, market cap, number of employees and sustainable growth rate:\n"
     ]
    },
    {
     "data": {
      "text/html": [
       "<div>\n",
       "<style scoped>\n",
       "    .dataframe tbody tr th:only-of-type {\n",
       "        vertical-align: middle;\n",
       "    }\n",
       "\n",
       "    .dataframe tbody tr th {\n",
       "        vertical-align: top;\n",
       "    }\n",
       "\n",
       "    .dataframe thead th {\n",
       "        text-align: right;\n",
       "    }\n",
       "</style>\n",
       "<table border=\"1\" class=\"dataframe\">\n",
       "  <thead>\n",
       "    <tr style=\"text-align: right;\">\n",
       "      <th></th>\n",
       "      <th>IND_GICS</th>\n",
       "      <th>SUB_IND_GICS</th>\n",
       "      <th>CUR_MKT_CAP</th>\n",
       "      <th>REGION_NAME</th>\n",
       "      <th>NUM_OF_EMPLOYEES</th>\n",
       "      <th>SUSTAIN_GROWTH_RT</th>\n",
       "      <th>similarity_score</th>\n",
       "    </tr>\n",
       "    <tr>\n",
       "      <th>Ticker</th>\n",
       "      <th></th>\n",
       "      <th></th>\n",
       "      <th></th>\n",
       "      <th></th>\n",
       "      <th></th>\n",
       "      <th></th>\n",
       "      <th></th>\n",
       "    </tr>\n",
       "  </thead>\n",
       "  <tbody>\n",
       "    <tr>\n",
       "      <th>SPRO</th>\n",
       "      <td>Health Care</td>\n",
       "      <td>Biotechnology</td>\n",
       "      <td>258588936.0</td>\n",
       "      <td>United States</td>\n",
       "      <td>89.0</td>\n",
       "      <td>NaN</td>\n",
       "      <td>0.004982</td>\n",
       "    </tr>\n",
       "    <tr>\n",
       "      <th>LXRX</th>\n",
       "      <td>Health Care</td>\n",
       "      <td>Biotechnology</td>\n",
       "      <td>306666779.6</td>\n",
       "      <td>United States</td>\n",
       "      <td>87.0</td>\n",
       "      <td>NaN</td>\n",
       "      <td>0.014112</td>\n",
       "    </tr>\n",
       "    <tr>\n",
       "      <th>NKTX</th>\n",
       "      <td>Health Care</td>\n",
       "      <td>Biotechnology</td>\n",
       "      <td>314666913.3</td>\n",
       "      <td>United States</td>\n",
       "      <td>95.0</td>\n",
       "      <td>NaN</td>\n",
       "      <td>0.016171</td>\n",
       "    </tr>\n",
       "    <tr>\n",
       "      <th>TALS</th>\n",
       "      <td>Health Care</td>\n",
       "      <td>Biotechnology</td>\n",
       "      <td>316659590.4</td>\n",
       "      <td>United States</td>\n",
       "      <td>82.0</td>\n",
       "      <td>NaN</td>\n",
       "      <td>0.020881</td>\n",
       "    </tr>\n",
       "    <tr>\n",
       "      <th>MEIP</th>\n",
       "      <td>Health Care</td>\n",
       "      <td>Biotechnology</td>\n",
       "      <td>230729920.6</td>\n",
       "      <td>United States</td>\n",
       "      <td>76.0</td>\n",
       "      <td>NaN</td>\n",
       "      <td>0.025461</td>\n",
       "    </tr>\n",
       "    <tr>\n",
       "      <th>KOD</th>\n",
       "      <td>Health Care</td>\n",
       "      <td>Biotechnology</td>\n",
       "      <td>373409055.0</td>\n",
       "      <td>United States</td>\n",
       "      <td>93.0</td>\n",
       "      <td>NaN</td>\n",
       "      <td>0.029281</td>\n",
       "    </tr>\n",
       "    <tr>\n",
       "      <th>MRSN</th>\n",
       "      <td>Health Care</td>\n",
       "      <td>Biotechnology</td>\n",
       "      <td>327304988.6</td>\n",
       "      <td>United States</td>\n",
       "      <td>110.0</td>\n",
       "      <td>NaN</td>\n",
       "      <td>0.029530</td>\n",
       "    </tr>\n",
       "    <tr>\n",
       "      <th>ORIC</th>\n",
       "      <td>Health Care</td>\n",
       "      <td>Biotechnology</td>\n",
       "      <td>254013035.7</td>\n",
       "      <td>United States</td>\n",
       "      <td>61.0</td>\n",
       "      <td>NaN</td>\n",
       "      <td>0.032290</td>\n",
       "    </tr>\n",
       "    <tr>\n",
       "      <th>KRON</th>\n",
       "      <td>Health Care</td>\n",
       "      <td>Biotechnology</td>\n",
       "      <td>391685597.8</td>\n",
       "      <td>United States</td>\n",
       "      <td>96.0</td>\n",
       "      <td>NaN</td>\n",
       "      <td>0.035515</td>\n",
       "    </tr>\n",
       "    <tr>\n",
       "      <th>CRIS</th>\n",
       "      <td>Health Care</td>\n",
       "      <td>Biotechnology</td>\n",
       "      <td>247442496.3</td>\n",
       "      <td>United States</td>\n",
       "      <td>60.0</td>\n",
       "      <td>NaN</td>\n",
       "      <td>0.035648</td>\n",
       "    </tr>\n",
       "  </tbody>\n",
       "</table>\n",
       "</div>"
      ],
      "text/plain": [
       "           IND_GICS   SUB_IND_GICS  CUR_MKT_CAP    REGION_NAME  \\\n",
       "Ticker                                                           \n",
       "SPRO    Health Care  Biotechnology  258588936.0  United States   \n",
       "LXRX    Health Care  Biotechnology  306666779.6  United States   \n",
       "NKTX    Health Care  Biotechnology  314666913.3  United States   \n",
       "TALS    Health Care  Biotechnology  316659590.4  United States   \n",
       "MEIP    Health Care  Biotechnology  230729920.6  United States   \n",
       "KOD     Health Care  Biotechnology  373409055.0  United States   \n",
       "MRSN    Health Care  Biotechnology  327304988.6  United States   \n",
       "ORIC    Health Care  Biotechnology  254013035.7  United States   \n",
       "KRON    Health Care  Biotechnology  391685597.8  United States   \n",
       "CRIS    Health Care  Biotechnology  247442496.3  United States   \n",
       "\n",
       "        NUM_OF_EMPLOYEES  SUSTAIN_GROWTH_RT  similarity_score  \n",
       "Ticker                                                         \n",
       "SPRO                89.0                NaN          0.004982  \n",
       "LXRX                87.0                NaN          0.014112  \n",
       "NKTX                95.0                NaN          0.016171  \n",
       "TALS                82.0                NaN          0.020881  \n",
       "MEIP                76.0                NaN          0.025461  \n",
       "KOD                 93.0                NaN          0.029281  \n",
       "MRSN               110.0                NaN          0.029530  \n",
       "ORIC                61.0                NaN          0.032290  \n",
       "KRON                96.0                NaN          0.035515  \n",
       "CRIS                60.0                NaN          0.035648  "
      ]
     },
     "execution_count": 94,
     "metadata": {},
     "output_type": "execute_result"
    }
   ],
   "source": [
    "print(\"List of companies ranked similarity of sector/sub-industry, geography, market cap, number of employees and sustainable growth rate:\")\n",
    "similarity_ranking.head(10)"
   ]
  },
  {
   "cell_type": "code",
   "execution_count": 95,
   "metadata": {},
   "outputs": [
    {
     "name": "stdout",
     "output_type": "stream",
     "text": [
      "\n",
      "These 5 companies will be chosen to form the group to compare with, based on similarity :\n",
      "['SPRO', 'LXRX', 'NKTX', 'TALS', 'MEIP']\n"
     ]
    }
   ],
   "source": [
    "group_size = 5\n",
    "print(f\"\\nThese {group_size} companies will be chosen to form the group to compare with, based on similarity :\")\n",
    "symbols_comp_group = similarity_ranking[:group_size].index.tolist()\n",
    "print(symbols_comp_group)"
   ]
  },
  {
   "cell_type": "code",
   "execution_count": 96,
   "metadata": {},
   "outputs": [],
   "source": [
    "studied_com_fin_data = get_financial_data([studied_comp_ticker])\n",
    "companies_data = get_financial_data(symbols_comp_group)"
   ]
  },
  {
   "cell_type": "code",
   "execution_count": 97,
   "metadata": {},
   "outputs": [
    {
     "data": {
      "text/html": [
       "<div>\n",
       "<style scoped>\n",
       "    .dataframe tbody tr th:only-of-type {\n",
       "        vertical-align: middle;\n",
       "    }\n",
       "\n",
       "    .dataframe tbody tr th {\n",
       "        vertical-align: top;\n",
       "    }\n",
       "\n",
       "    .dataframe thead th {\n",
       "        text-align: right;\n",
       "    }\n",
       "</style>\n",
       "<table border=\"1\" class=\"dataframe\">\n",
       "  <thead>\n",
       "    <tr style=\"text-align: right;\">\n",
       "      <th></th>\n",
       "      <th>Ticker</th>\n",
       "      <th>CUR_MKT_CAP</th>\n",
       "      <th>CURR_ENTP_VAL</th>\n",
       "      <th>EBIT</th>\n",
       "      <th>EBITDA</th>\n",
       "      <th>GROSS_PROFIT</th>\n",
       "      <th>PE_RATIO</th>\n",
       "    </tr>\n",
       "  </thead>\n",
       "  <tbody>\n",
       "    <tr>\n",
       "      <th>206</th>\n",
       "      <td>XBIT</td>\n",
       "      <td>269337877.7</td>\n",
       "      <td>30.460878</td>\n",
       "      <td>-18.276</td>\n",
       "      <td>-16.038</td>\n",
       "      <td>9.449</td>\n",
       "      <td>NaN</td>\n",
       "    </tr>\n",
       "  </tbody>\n",
       "</table>\n",
       "</div>"
      ],
      "text/plain": [
       "    Ticker  CUR_MKT_CAP  CURR_ENTP_VAL    EBIT  EBITDA  GROSS_PROFIT  PE_RATIO\n",
       "206   XBIT  269337877.7      30.460878 -18.276 -16.038         9.449       NaN"
      ]
     },
     "execution_count": 97,
     "metadata": {},
     "output_type": "execute_result"
    }
   ],
   "source": [
    "studied_com_fin_data"
   ]
  },
  {
   "cell_type": "code",
   "execution_count": 98,
   "metadata": {},
   "outputs": [
    {
     "data": {
      "text/html": [
       "<div>\n",
       "<style scoped>\n",
       "    .dataframe tbody tr th:only-of-type {\n",
       "        vertical-align: middle;\n",
       "    }\n",
       "\n",
       "    .dataframe tbody tr th {\n",
       "        vertical-align: top;\n",
       "    }\n",
       "\n",
       "    .dataframe thead th {\n",
       "        text-align: right;\n",
       "    }\n",
       "</style>\n",
       "<table border=\"1\" class=\"dataframe\">\n",
       "  <thead>\n",
       "    <tr style=\"text-align: right;\">\n",
       "      <th></th>\n",
       "      <th>Ticker</th>\n",
       "      <th>CUR_MKT_CAP</th>\n",
       "      <th>CURR_ENTP_VAL</th>\n",
       "      <th>EBIT</th>\n",
       "      <th>EBITDA</th>\n",
       "      <th>GROSS_PROFIT</th>\n",
       "      <th>PE_RATIO</th>\n",
       "    </tr>\n",
       "  </thead>\n",
       "  <tbody>\n",
       "    <tr>\n",
       "      <th>58</th>\n",
       "      <td>NKTX</td>\n",
       "      <td>314666913.3</td>\n",
       "      <td>69.779913</td>\n",
       "      <td>-51.508</td>\n",
       "      <td>-48.866</td>\n",
       "      <td>0.000</td>\n",
       "      <td>NaN</td>\n",
       "    </tr>\n",
       "    <tr>\n",
       "      <th>937</th>\n",
       "      <td>SPRO</td>\n",
       "      <td>258588936.0</td>\n",
       "      <td>142.407936</td>\n",
       "      <td>-79.113</td>\n",
       "      <td>-77.126</td>\n",
       "      <td>NaN</td>\n",
       "      <td>NaN</td>\n",
       "    </tr>\n",
       "    <tr>\n",
       "      <th>1506</th>\n",
       "      <td>TALS</td>\n",
       "      <td>316659590.4</td>\n",
       "      <td>61.925590</td>\n",
       "      <td>-22.684</td>\n",
       "      <td>-22.237</td>\n",
       "      <td>NaN</td>\n",
       "      <td>NaN</td>\n",
       "    </tr>\n",
       "    <tr>\n",
       "      <th>1512</th>\n",
       "      <td>LXRX</td>\n",
       "      <td>306666779.6</td>\n",
       "      <td>221.012780</td>\n",
       "      <td>-87.090</td>\n",
       "      <td>-86.798</td>\n",
       "      <td>0.298</td>\n",
       "      <td>NaN</td>\n",
       "    </tr>\n",
       "    <tr>\n",
       "      <th>1569</th>\n",
       "      <td>MEIP</td>\n",
       "      <td>230729920.6</td>\n",
       "      <td>52.820921</td>\n",
       "      <td>-69.685</td>\n",
       "      <td>-67.893</td>\n",
       "      <td>24.127</td>\n",
       "      <td>NaN</td>\n",
       "    </tr>\n",
       "  </tbody>\n",
       "</table>\n",
       "</div>"
      ],
      "text/plain": [
       "     Ticker  CUR_MKT_CAP  CURR_ENTP_VAL    EBIT  EBITDA  GROSS_PROFIT  \\\n",
       "58     NKTX  314666913.3      69.779913 -51.508 -48.866         0.000   \n",
       "937    SPRO  258588936.0     142.407936 -79.113 -77.126           NaN   \n",
       "1506   TALS  316659590.4      61.925590 -22.684 -22.237           NaN   \n",
       "1512   LXRX  306666779.6     221.012780 -87.090 -86.798         0.298   \n",
       "1569   MEIP  230729920.6      52.820921 -69.685 -67.893        24.127   \n",
       "\n",
       "      PE_RATIO  \n",
       "58         NaN  \n",
       "937        NaN  \n",
       "1506       NaN  \n",
       "1512       NaN  \n",
       "1569       NaN  "
      ]
     },
     "execution_count": 98,
     "metadata": {},
     "output_type": "execute_result"
    }
   ],
   "source": [
    "companies_data"
   ]
  },
  {
   "cell_type": "code",
   "execution_count": 99,
   "metadata": {},
   "outputs": [
    {
     "name": "stdout",
     "output_type": "stream",
     "text": [
      "Number of missing values per column :\n",
      "\n",
      "Ticker           0\n",
      "CUR_MKT_CAP      0\n",
      "CURR_ENTP_VAL    0\n",
      "EBIT             0\n",
      "EBITDA           0\n",
      "GROSS_PROFIT     2\n",
      "PE_RATIO         5\n",
      "dtype: int64\n"
     ]
    }
   ],
   "source": [
    "print(\"Number of missing values per column :\\n\")\n",
    "print(companies_data.isnull().sum())"
   ]
  },
  {
   "cell_type": "code",
   "execution_count": 100,
   "metadata": {},
   "outputs": [],
   "source": [
    "# droping rows with NaN\n",
    "# nbr_of_na = companies_data.isna().sum().sum()\n",
    "# if (nbr_of_na > 0):\n",
    "#     print(f\"{nbr_of_na} missing values. Rows with NaN will be dropped.\")\n",
    "#     companies_data = companies_data.dropna(axis='rows')"
   ]
  },
  {
   "cell_type": "code",
   "execution_count": 101,
   "metadata": {},
   "outputs": [],
   "source": [
    "studied_com_fin_data = compute_ratios(studied_com_fin_data)\n",
    "companies_data = compute_ratios(companies_data)"
   ]
  },
  {
   "cell_type": "code",
   "execution_count": 102,
   "metadata": {},
   "outputs": [
    {
     "data": {
      "text/html": [
       "<div>\n",
       "<style scoped>\n",
       "    .dataframe tbody tr th:only-of-type {\n",
       "        vertical-align: middle;\n",
       "    }\n",
       "\n",
       "    .dataframe tbody tr th {\n",
       "        vertical-align: top;\n",
       "    }\n",
       "\n",
       "    .dataframe thead th {\n",
       "        text-align: right;\n",
       "    }\n",
       "</style>\n",
       "<table border=\"1\" class=\"dataframe\">\n",
       "  <thead>\n",
       "    <tr style=\"text-align: right;\">\n",
       "      <th></th>\n",
       "      <th>Ticker</th>\n",
       "      <th>CUR_MKT_CAP</th>\n",
       "      <th>CURR_ENTP_VAL</th>\n",
       "      <th>EBIT</th>\n",
       "      <th>EBITDA</th>\n",
       "      <th>GROSS_PROFIT</th>\n",
       "      <th>PE_RATIO</th>\n",
       "      <th>EV_EBIT_ratio</th>\n",
       "      <th>EV_EBITDA_ratio</th>\n",
       "      <th>EV_GROSS_PROFIT_ratio</th>\n",
       "    </tr>\n",
       "  </thead>\n",
       "  <tbody>\n",
       "    <tr>\n",
       "      <th>206</th>\n",
       "      <td>XBIT</td>\n",
       "      <td>269337877.7</td>\n",
       "      <td>30.460878</td>\n",
       "      <td>-18.276</td>\n",
       "      <td>-16.038</td>\n",
       "      <td>9.449</td>\n",
       "      <td>NaN</td>\n",
       "      <td>-1.666715</td>\n",
       "      <td>-1.899294</td>\n",
       "      <td>3.223714</td>\n",
       "    </tr>\n",
       "  </tbody>\n",
       "</table>\n",
       "</div>"
      ],
      "text/plain": [
       "    Ticker  CUR_MKT_CAP  CURR_ENTP_VAL    EBIT  EBITDA  GROSS_PROFIT  \\\n",
       "206   XBIT  269337877.7      30.460878 -18.276 -16.038         9.449   \n",
       "\n",
       "     PE_RATIO  EV_EBIT_ratio  EV_EBITDA_ratio  EV_GROSS_PROFIT_ratio  \n",
       "206       NaN      -1.666715        -1.899294               3.223714  "
      ]
     },
     "execution_count": 102,
     "metadata": {},
     "output_type": "execute_result"
    }
   ],
   "source": [
    "studied_com_fin_data"
   ]
  },
  {
   "cell_type": "code",
   "execution_count": 104,
   "metadata": {},
   "outputs": [],
   "source": [
    "studied_com_fin_data = studied_com_fin_data.set_index(\"Ticker\")\n",
    "companies_data = companies_data.set_index(\"Ticker\")"
   ]
  },
  {
   "cell_type": "code",
   "execution_count": 103,
   "metadata": {},
   "outputs": [
    {
     "data": {
      "text/html": [
       "<div>\n",
       "<style scoped>\n",
       "    .dataframe tbody tr th:only-of-type {\n",
       "        vertical-align: middle;\n",
       "    }\n",
       "\n",
       "    .dataframe tbody tr th {\n",
       "        vertical-align: top;\n",
       "    }\n",
       "\n",
       "    .dataframe thead th {\n",
       "        text-align: right;\n",
       "    }\n",
       "</style>\n",
       "<table border=\"1\" class=\"dataframe\">\n",
       "  <thead>\n",
       "    <tr style=\"text-align: right;\">\n",
       "      <th></th>\n",
       "      <th>Ticker</th>\n",
       "      <th>CUR_MKT_CAP</th>\n",
       "      <th>CURR_ENTP_VAL</th>\n",
       "      <th>EBIT</th>\n",
       "      <th>EBITDA</th>\n",
       "      <th>GROSS_PROFIT</th>\n",
       "      <th>PE_RATIO</th>\n",
       "      <th>EV_EBIT_ratio</th>\n",
       "      <th>EV_EBITDA_ratio</th>\n",
       "      <th>EV_GROSS_PROFIT_ratio</th>\n",
       "    </tr>\n",
       "  </thead>\n",
       "  <tbody>\n",
       "    <tr>\n",
       "      <th>58</th>\n",
       "      <td>NKTX</td>\n",
       "      <td>314666913.3</td>\n",
       "      <td>69.779913</td>\n",
       "      <td>-51.508</td>\n",
       "      <td>-48.866</td>\n",
       "      <td>0.000</td>\n",
       "      <td>NaN</td>\n",
       "      <td>-1.354739</td>\n",
       "      <td>-1.427985</td>\n",
       "      <td>inf</td>\n",
       "    </tr>\n",
       "    <tr>\n",
       "      <th>937</th>\n",
       "      <td>SPRO</td>\n",
       "      <td>258588936.0</td>\n",
       "      <td>142.407936</td>\n",
       "      <td>-79.113</td>\n",
       "      <td>-77.126</td>\n",
       "      <td>NaN</td>\n",
       "      <td>NaN</td>\n",
       "      <td>-1.800057</td>\n",
       "      <td>-1.846432</td>\n",
       "      <td>NaN</td>\n",
       "    </tr>\n",
       "    <tr>\n",
       "      <th>1506</th>\n",
       "      <td>TALS</td>\n",
       "      <td>316659590.4</td>\n",
       "      <td>61.925590</td>\n",
       "      <td>-22.684</td>\n",
       "      <td>-22.237</td>\n",
       "      <td>NaN</td>\n",
       "      <td>NaN</td>\n",
       "      <td>-2.729924</td>\n",
       "      <td>-2.784800</td>\n",
       "      <td>NaN</td>\n",
       "    </tr>\n",
       "    <tr>\n",
       "      <th>1512</th>\n",
       "      <td>LXRX</td>\n",
       "      <td>306666779.6</td>\n",
       "      <td>221.012780</td>\n",
       "      <td>-87.090</td>\n",
       "      <td>-86.798</td>\n",
       "      <td>0.298</td>\n",
       "      <td>NaN</td>\n",
       "      <td>-2.537752</td>\n",
       "      <td>-2.546289</td>\n",
       "      <td>741.653623</td>\n",
       "    </tr>\n",
       "    <tr>\n",
       "      <th>1569</th>\n",
       "      <td>MEIP</td>\n",
       "      <td>230729920.6</td>\n",
       "      <td>52.820921</td>\n",
       "      <td>-69.685</td>\n",
       "      <td>-67.893</td>\n",
       "      <td>24.127</td>\n",
       "      <td>NaN</td>\n",
       "      <td>-0.757996</td>\n",
       "      <td>-0.778002</td>\n",
       "      <td>2.189287</td>\n",
       "    </tr>\n",
       "  </tbody>\n",
       "</table>\n",
       "</div>"
      ],
      "text/plain": [
       "     Ticker  CUR_MKT_CAP  CURR_ENTP_VAL    EBIT  EBITDA  GROSS_PROFIT  \\\n",
       "58     NKTX  314666913.3      69.779913 -51.508 -48.866         0.000   \n",
       "937    SPRO  258588936.0     142.407936 -79.113 -77.126           NaN   \n",
       "1506   TALS  316659590.4      61.925590 -22.684 -22.237           NaN   \n",
       "1512   LXRX  306666779.6     221.012780 -87.090 -86.798         0.298   \n",
       "1569   MEIP  230729920.6      52.820921 -69.685 -67.893        24.127   \n",
       "\n",
       "      PE_RATIO  EV_EBIT_ratio  EV_EBITDA_ratio  EV_GROSS_PROFIT_ratio  \n",
       "58         NaN      -1.354739        -1.427985                    inf  \n",
       "937        NaN      -1.800057        -1.846432                    NaN  \n",
       "1506       NaN      -2.729924        -2.784800                    NaN  \n",
       "1512       NaN      -2.537752        -2.546289             741.653623  \n",
       "1569       NaN      -0.757996        -0.778002               2.189287  "
      ]
     },
     "execution_count": 103,
     "metadata": {},
     "output_type": "execute_result"
    }
   ],
   "source": [
    "companies_data"
   ]
  },
  {
   "cell_type": "code",
   "execution_count": 105,
   "metadata": {},
   "outputs": [
    {
     "data": {
      "image/png": "[encoded data removed]",
      "text/plain": [
       "<Figure size 432x288 with 1 Axes>"
      ]
     },
     "metadata": {
      "needs_background": "light"
     },
     "output_type": "display_data"
    }
   ],
   "source": [
    "#Scatter plot\n",
    "stat = \"EBIT\"\n",
    "ax = companies_data.plot.scatter(stat, \"CURR_ENTP_VAL\", title=f\"Scatter plot of EV and {stat}\")\n",
    "plt.scatter(studied_com_fin_data[stat], studied_com_fin_data['CURR_ENTP_VAL'], color='red')\n",
    "plt.grid()\n",
    "# Annotate each data point\n",
    "for i, txt in enumerate(companies_data.index):\n",
    "   ax.annotate(txt, (companies_data[stat].iat[i]+0.05, companies_data[\"CURR_ENTP_VAL\"].iat[i]))\n",
    "for i, txt in enumerate(studied_com_fin_data.index):\n",
    "   ax.annotate(txt, (studied_com_fin_data[stat].iat[i]+0.05, studied_com_fin_data[\"CURR_ENTP_VAL\"].iat[i]))"
   ]
  },
  {
   "cell_type": "code",
   "execution_count": 106,
   "metadata": {},
   "outputs": [
    {
     "name": "stdout",
     "output_type": "stream",
     "text": [
      "\n",
      "Averages :\n",
      "CUR_MKT_CAP              2.854624e+08\n",
      "CURR_ENTP_VAL            1.095894e+02\n",
      "EBIT                    -6.201600e+01\n",
      "EBITDA                  -6.058400e+01\n",
      "GROSS_PROFIT             8.141667e+00\n",
      "PE_RATIO                          NaN\n",
      "EV_EBIT_ratio           -1.836093e+00\n",
      "EV_EBITDA_ratio         -1.876702e+00\n",
      "EV_GROSS_PROFIT_ratio             inf\n",
      "dtype: float64\n"
     ]
    }
   ],
   "source": [
    "#calcul des moyennes\n",
    "print(\"\\nAverages :\")\n",
    "# averages = companies_data.drop()\n",
    "averages = companies_data.mean(axis=0)\n",
    "print(averages)"
   ]
  },
  {
   "cell_type": "markdown",
   "metadata": {},
   "source": [
    "### CCA USING RATIOS"
   ]
  },
  {
   "cell_type": "code",
   "execution_count": 107,
   "metadata": {},
   "outputs": [],
   "source": [
    "def print_results(studied_comp_ticker, real_EV, estimated_EV, stat_used, method):\n",
    "    print(f\"*** ESTIMATIONS (with {method} using {stat_used}) ***\\n(Values are in millions of dollars)\\n\")#to do: double check if it's really in millions\n",
    "    print(f\"Real EV of {studied_comp_ticker}: {real_EV}\")\n",
    "    print(f\"Estimated EV of {studied_comp_ticker} : {estimated_EV} \")\n",
    "    print(f\"Estimated EV / Real EV : {estimated_EV / real_EV}\")\n",
    "    print(f\"Estimated EV - Real EV : {estimated_EV - real_EV}\")\n",
    "    print(\"\\n-----------------------------------------------\\n\")"
   ]
  },
  {
   "cell_type": "code",
   "execution_count": 108,
   "metadata": {},
   "outputs": [
    {
     "name": "stdout",
     "output_type": "stream",
     "text": [
      "*** ESTIMATIONS (with average method using EV_EBIT_ratio) ***\n",
      "(Values are in millions of dollars)\n",
      "\n",
      "Real EV of XBIT: 30.46087774\n",
      "Estimated EV of XBIT : 33.556444767202024 \n",
      "Estimated EV / Real EV : 1.101624354151064\n",
      "Estimated EV - Real EV : 3.095567027202023\n",
      "\n",
      "-----------------------------------------------\n",
      "\n",
      "*** ESTIMATIONS (with average method using EV_EBITDA_ratio) ***\n",
      "(Values are in millions of dollars)\n",
      "\n",
      "Real EV of XBIT: 30.46087774\n",
      "Estimated EV of XBIT : 30.098540970117075 \n",
      "Estimated EV / Real EV : 0.9881048480291452\n",
      "Estimated EV - Real EV : -0.3623367698829263\n",
      "\n",
      "-----------------------------------------------\n",
      "\n",
      "*** ESTIMATIONS (with average method using EV_GROSS_PROFIT_ratio) ***\n",
      "(Values are in millions of dollars)\n",
      "\n",
      "Real EV of XBIT: 30.46087774\n",
      "Estimated EV of XBIT : inf \n",
      "Estimated EV / Real EV : inf\n",
      "Estimated EV - Real EV : inf\n",
      "\n",
      "-----------------------------------------------\n",
      "\n"
     ]
    }
   ],
   "source": [
    "denominators = [\"EBIT\", \"EBITDA\", \"GROSS_PROFIT\"]\n",
    "\n",
    "for i in range(len(denominators)):\n",
    "    ratio_to_be_used = f\"EV_{denominators[i]}_ratio\"\n",
    "    estimated_EV = averages.loc[ratio_to_be_used] * studied_com_fin_data.loc[studied_comp_ticker, denominators[i]]\n",
    "\n",
    "    print_results(studied_comp_ticker, studied_com_fin_data.loc[studied_comp_ticker, 'CURR_ENTP_VAL'], estimated_EV, ratio_to_be_used, \"average method\")"
   ]
  },
  {
   "cell_type": "markdown",
   "metadata": {},
   "source": [
    "### CCA USING LINEAR REGRESSION"
   ]
  },
  {
   "cell_type": "markdown",
   "metadata": {},
   "source": [
    "Estimation using simple linear regression"
   ]
  },
  {
   "cell_type": "code",
   "execution_count": 109,
   "metadata": {},
   "outputs": [
    {
     "name": "stdout",
     "output_type": "stream",
     "text": [
      "\n",
      "Coefs ligne de regression :\n",
      "a=-1.9765\n",
      "intercept=-12.987\n",
      "\n",
      "*** ESTIMATIONS (with regression model using EBIT) ***\n",
      "(Values are in millions of dollars)\n",
      "\n",
      "Real EV of XBIT: 30.46087774\n",
      "Estimated EV of XBIT : 23.13606022163156 \n",
      "Estimated EV / Real EV : 0.7595336030402766\n",
      "Estimated EV - Real EV : -7.324817518368441\n",
      "\n",
      "-----------------------------------------------\n",
      "\n"
     ]
    },
    {
     "data": {
      "image/png": "[encoded data removed]",
      "text/plain": [
       "<Figure size 432x288 with 1 Axes>"
      ]
     },
     "metadata": {
      "needs_background": "light"
     },
     "output_type": "display_data"
    }
   ],
   "source": [
    "stat_used = \"EBIT\"\n",
    "ax = companies_data.plot.scatter(stat_used, \"CURR_ENTP_VAL\", title=f\"Scatter plot and regression line of EV and {stat_used}\")\n",
    "plt.scatter(studied_com_fin_data[stat], studied_com_fin_data['CURR_ENTP_VAL'], color='red')\n",
    "# Annotate each data point\n",
    "for i, txt in enumerate(companies_data.index):\n",
    "   ax.annotate(txt, (companies_data[stat_used].iat[i]+0.05, companies_data[\"CURR_ENTP_VAL\"].iat[i]))\n",
    "for i, txt in enumerate(studied_com_fin_data.index):\n",
    "   ax.annotate(txt, (studied_com_fin_data[stat_used].iat[i]+0.05, studied_com_fin_data[\"CURR_ENTP_VAL\"].iat[i]))\n",
    "\n",
    "X = companies_data[companies_data.index != studied_comp_ticker][[stat_used]].reset_index(drop=True)\n",
    "Y = companies_data[companies_data.index != studied_comp_ticker][\"CURR_ENTP_VAL\"].reset_index(drop=True)\n",
    "\n",
    "linear_regressor = LinearRegression()\n",
    "linear_regressor.fit(X, Y)\n",
    "print(f\"\\nCoefs ligne de regression :\\na={round(linear_regressor.coef_[0], 4)}\\nintercept={round(linear_regressor.intercept_, 4)}\\n\")\n",
    "\n",
    "#EV estimation\n",
    "studied_comp_row_single_var = studied_com_fin_data[studied_com_fin_data.index == studied_comp_ticker][[stat_used]].reset_index(drop=True)\n",
    "estimated_EV = linear_regressor.predict(studied_comp_row_single_var)[0]\n",
    "\n",
    "print_results(studied_comp_ticker, studied_com_fin_data.loc[studied_comp_ticker, 'CURR_ENTP_VAL'], estimated_EV, stat_used, \"regression model\")\n",
    "# print(f\"Real EV of {studied_comp_ticker}: {studied_com_fin_data.loc[studied_comp_ticker, 'CURR_ENTP_VAL']}\")\n",
    "# print(f\"Estimated EV of {studied_comp_ticker} with regression model (using {stat_used}): {estimated_EV}\")\n",
    "# print(f\"Real EV / Estimated EV : {studied_com_fin_data.loc[studied_comp_ticker, 'CURR_ENTP_VAL'] / estimated_EV}\\n\")\n",
    "\n",
    "plt.plot(X, X*linear_regressor.coef_ + linear_regressor.intercept_, color='red')\n",
    "plt.grid()\n",
    "plt.show()"
   ]
  },
  {
   "cell_type": "markdown",
   "metadata": {},
   "source": [
    "Estimation using multiple linear regression"
   ]
  },
  {
   "cell_type": "code",
   "execution_count": 110,
   "metadata": {},
   "outputs": [
    {
     "name": "stdout",
     "output_type": "stream",
     "text": [
      "Dropped following columns because of NaN's in their rows : ['GROSS_PROFIT']\n",
      "\n",
      "Coefs ligne de regression :\n",
      "coefs=[ 34.06703706 -36.17652495]\n",
      "intercept=30.5722\n",
      "\n",
      "*** ESTIMATIONS (with multiple linear regression model using ['EBIT' 'EBITDA']) ***\n",
      "(Values are in millions of dollars)\n",
      "\n",
      "Real EV of XBIT: 30.46087774\n",
      "Estimated EV of XBIT : -11.837851437806563 \n",
      "Estimated EV / Real EV : -0.38862476448804273\n",
      "Estimated EV - Real EV : -42.298729177806564\n",
      "\n",
      "-----------------------------------------------\n",
      "\n"
     ]
    }
   ],
   "source": [
    "stats_to_use = [\"EBIT\", \"EBITDA\", \"GROSS_PROFIT\"]\n",
    "X = companies_data[companies_data.index != studied_comp_ticker][stats_to_use].reset_index(drop=True)\n",
    "X = X.dropna(axis='columns')\n",
    "dropped_col = list(set(stats_to_use) - set(X.columns.values))\n",
    "if(len(dropped_col) != 0):\n",
    "    print(\"Dropped following columns because of NaN's in their rows : \" + str(dropped_col))\n",
    "stats_to_use = X.columns.values\n",
    "Y = companies_data[companies_data.index != studied_comp_ticker][\"CURR_ENTP_VAL\"].reset_index(drop=True)\n",
    "\n",
    "linear_regressor2 = LinearRegression()\n",
    "linear_regressor2.fit(X, Y)\n",
    "print(f\"\\nCoefs ligne de regression :\\ncoefs={linear_regressor2.coef_}\\nintercept={round(linear_regressor2.intercept_, 4)}\\n\")\n",
    "\n",
    "#EV estimation\n",
    "studied_comp_row_multi_var = studied_com_fin_data[studied_com_fin_data.index == studied_comp_ticker][stats_to_use].reset_index(drop=True)\n",
    "estimated_EV = linear_regressor2.predict(studied_comp_row_multi_var)[0]\n",
    "\n",
    "print_results(studied_comp_ticker, studied_com_fin_data.loc[studied_comp_ticker, 'CURR_ENTP_VAL'], estimated_EV, str(stats_to_use), \"multiple linear regression model\")\n",
    "# print(f\"Real EV of {studied_comp_ticker}: {companies_data.loc[studied_comp_ticker, 'CURR_ENTP_VAL']}\")\n",
    "# print(f\"Estimated EV of {studied_comp_ticker} with regression model (using all stats): {estimated_EV}\")\n",
    "# print(f\"Real EV / Estimated EV : {companies_data.loc[studied_comp_ticker, 'CURR_ENTP_VAL'] / estimated_EV}\\n\")"
   ]
  }
 ],
 "metadata": {
  "interpreter": {
   "hash": "07163781c87d2292492dc7833bd1f978937dac3e45b250592baf2d273b3ab11b"
  },
  "kernelspec": {
   "display_name": "Python 3.9.6 ('venv': venv)",
   "language": "python",
   "name": "python3"
  },
  "language_info": {
   "codemirror_mode": {
    "name": "ipython",
    "version": 3
   },
   "file_extension": ".py",
   "mimetype": "text/x-python",
   "name": "python",
   "nbconvert_exporter": "python",
   "pygments_lexer": "ipython3",
   "version": "3.9.6"
  },
  "orig_nbformat": 4
 },
 "nbformat": 4,
 "nbformat_minor": 2
}
