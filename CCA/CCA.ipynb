{
 "cells": [
  {
   "cell_type": "code",
   "execution_count": 20,
   "metadata": {},
   "outputs": [],
   "source": [
    "import os\n",
    "import sys\n",
    "import pandas as pd\n",
    "import numpy as np\n",
    "# import random\n",
    "import matplotlib.pyplot as plt\n",
    "from similar_companies_choice import get_similar_comp_ranking\n",
    "from data_preparation import get_financial_data\n",
    "from data_preparation import compute_ratios\n",
    "from sklearn.linear_model import LinearRegression\n",
    "\n",
    "os.chdir(sys.path[0])"
   ]
  },
  {
   "cell_type": "code",
   "execution_count": 21,
   "metadata": {},
   "outputs": [
    {
     "name": "stdout",
     "output_type": "stream",
     "text": [
      "Number of missing values per column in the dataset:\n",
      "\n",
      "Ticker                   0\n",
      "GICS Sector              0\n",
      "GICS Sub-Industry        0\n",
      "CUR_MKT_CAP              5\n",
      "Headquarters Location    0\n",
      "dtype: int64\n"
     ]
    }
   ],
   "source": [
    "# studied_comp_ticker = \"MMM\" # for demo\n",
    "studied_comp_ticker = \"FB\"\n",
    "similarity_ranking = get_similar_comp_ranking(studied_comp_ticker) "
   ]
  },
  {
   "cell_type": "code",
   "execution_count": 39,
   "metadata": {},
   "outputs": [
    {
     "name": "stdout",
     "output_type": "stream",
     "text": [
      "List of companies ranked similarity of sector/sub-industry, geography, and market cap :\n"
     ]
    },
    {
     "data": {
      "text/plain": [
       "Ticker\n",
       "GOOGL    0.119575\n",
       "GOOG     0.119575\n",
       "TWTR     0.555828\n",
       "MTCH     1.145641\n",
       "DIS      1.199356\n",
       "NFLX     1.251592\n",
       "ATVI     1.437222\n",
       "EA       1.518902\n",
       "LYV      1.588514\n",
       "CMCSA    1.820906\n",
       "Name: similarity_score, dtype: float64"
      ]
     },
     "execution_count": 39,
     "metadata": {},
     "output_type": "execute_result"
    }
   ],
   "source": [
    "print(\"List of companies ranked similarity of sector/sub-industry, geography, and market cap :\")\n",
    "similarity_ranking.head(10)"
   ]
  },
  {
   "cell_type": "code",
   "execution_count": 23,
   "metadata": {},
   "outputs": [
    {
     "name": "stdout",
     "output_type": "stream",
     "text": [
      "\n",
      "These 5 companies will be chosen to form the group to compare with, based on similarity :\n",
      "['GOOGL', 'GOOG', 'TWTR', 'MTCH', 'DIS']\n"
     ]
    }
   ],
   "source": [
    "group_size = 5\n",
    "print(f\"\\nThese {group_size} companies will be chosen to form the group to compare with, based on similarity :\")\n",
    "symbols_comp_group = similarity_ranking[:group_size].index.tolist()\n",
    "print(symbols_comp_group)"
   ]
  },
  {
   "cell_type": "code",
   "execution_count": 24,
   "metadata": {},
   "outputs": [],
   "source": [
    "companies_data = get_financial_data(symbols_comp_group + [studied_comp_ticker])"
   ]
  },
  {
   "cell_type": "code",
   "execution_count": 25,
   "metadata": {},
   "outputs": [
    {
     "data": {
      "text/html": [
       "<div>\n",
       "<style scoped>\n",
       "    .dataframe tbody tr th:only-of-type {\n",
       "        vertical-align: middle;\n",
       "    }\n",
       "\n",
       "    .dataframe tbody tr th {\n",
       "        vertical-align: top;\n",
       "    }\n",
       "\n",
       "    .dataframe thead th {\n",
       "        text-align: right;\n",
       "    }\n",
       "</style>\n",
       "<table border=\"1\" class=\"dataframe\">\n",
       "  <thead>\n",
       "    <tr style=\"text-align: right;\">\n",
       "      <th></th>\n",
       "      <th>Ticker</th>\n",
       "      <th>CUR_MKT_CAP</th>\n",
       "      <th>CURR_ENTP_VAL</th>\n",
       "      <th>EBIT</th>\n",
       "      <th>EBITDA</th>\n",
       "      <th>GROSS_PROFIT</th>\n",
       "      <th>PE_RATIO</th>\n",
       "    </tr>\n",
       "  </thead>\n",
       "  <tbody>\n",
       "    <tr>\n",
       "      <th>24</th>\n",
       "      <td>GOOGL</td>\n",
       "      <td>1.798880e+12</td>\n",
       "      <td>1.684738e+06</td>\n",
       "      <td>41224.000</td>\n",
       "      <td>57188.000</td>\n",
       "      <td>97795.000</td>\n",
       "      <td>30.786899</td>\n",
       "    </tr>\n",
       "    <tr>\n",
       "      <th>25</th>\n",
       "      <td>GOOG</td>\n",
       "      <td>1.798880e+12</td>\n",
       "      <td>1.684738e+06</td>\n",
       "      <td>41224.000</td>\n",
       "      <td>57188.000</td>\n",
       "      <td>97795.000</td>\n",
       "      <td>NaN</td>\n",
       "    </tr>\n",
       "    <tr>\n",
       "      <th>305</th>\n",
       "      <td>MTCH</td>\n",
       "      <td>3.190371e+10</td>\n",
       "      <td>3.523730e+04</td>\n",
       "      <td>745.715</td>\n",
       "      <td>815.974</td>\n",
       "      <td>1755.436</td>\n",
       "      <td>57.789714</td>\n",
       "    </tr>\n",
       "    <tr>\n",
       "      <th>311</th>\n",
       "      <td>FB</td>\n",
       "      <td>8.714140e+11</td>\n",
       "      <td>8.265580e+05</td>\n",
       "      <td>32671.000</td>\n",
       "      <td>40924.000</td>\n",
       "      <td>69273.000</td>\n",
       "      <td>22.359744</td>\n",
       "    </tr>\n",
       "    <tr>\n",
       "      <th>455</th>\n",
       "      <td>TWTR</td>\n",
       "      <td>2.999337e+10</td>\n",
       "      <td>2.803180e+04</td>\n",
       "      <td>26.658</td>\n",
       "      <td>713.595</td>\n",
       "      <td>2349.961</td>\n",
       "      <td>84.258995</td>\n",
       "    </tr>\n",
       "    <tr>\n",
       "      <th>485</th>\n",
       "      <td>DIS</td>\n",
       "      <td>2.602720e+11</td>\n",
       "      <td>3.162972e+05</td>\n",
       "      <td>3005.000</td>\n",
       "      <td>8969.000</td>\n",
       "      <td>22287.000</td>\n",
       "      <td>90.276507</td>\n",
       "    </tr>\n",
       "  </tbody>\n",
       "</table>\n",
       "</div>"
      ],
      "text/plain": [
       "    Ticker   CUR_MKT_CAP  CURR_ENTP_VAL       EBIT     EBITDA  GROSS_PROFIT  \\\n",
       "24   GOOGL  1.798880e+12   1.684738e+06  41224.000  57188.000     97795.000   \n",
       "25    GOOG  1.798880e+12   1.684738e+06  41224.000  57188.000     97795.000   \n",
       "305   MTCH  3.190371e+10   3.523730e+04    745.715    815.974      1755.436   \n",
       "311     FB  8.714140e+11   8.265580e+05  32671.000  40924.000     69273.000   \n",
       "455   TWTR  2.999337e+10   2.803180e+04     26.658    713.595      2349.961   \n",
       "485    DIS  2.602720e+11   3.162972e+05   3005.000   8969.000     22287.000   \n",
       "\n",
       "      PE_RATIO  \n",
       "24   30.786899  \n",
       "25         NaN  \n",
       "305  57.789714  \n",
       "311  22.359744  \n",
       "455  84.258995  \n",
       "485  90.276507  "
      ]
     },
     "execution_count": 25,
     "metadata": {},
     "output_type": "execute_result"
    }
   ],
   "source": [
    "companies_data"
   ]
  },
  {
   "cell_type": "code",
   "execution_count": 26,
   "metadata": {},
   "outputs": [
    {
     "name": "stdout",
     "output_type": "stream",
     "text": [
      "Number of missing values per column :\n",
      "\n",
      "Ticker           0\n",
      "CUR_MKT_CAP      0\n",
      "CURR_ENTP_VAL    0\n",
      "EBIT             0\n",
      "EBITDA           0\n",
      "GROSS_PROFIT     0\n",
      "PE_RATIO         1\n",
      "dtype: int64\n"
     ]
    }
   ],
   "source": [
    "print(\"Number of missing values per column :\\n\")\n",
    "print(companies_data.isnull().sum())"
   ]
  },
  {
   "cell_type": "code",
   "execution_count": 27,
   "metadata": {},
   "outputs": [],
   "source": [
    "# droping rows with NaN\n",
    "# nbr_of_na = companies_data.isna().sum().sum()\n",
    "# if (nbr_of_na > 0):\n",
    "#     print(f\"{nbr_of_na} missing values. Rows with NaN will be dropped.\")\n",
    "#     companies_data = companies_data.dropna(axis='rows')"
   ]
  },
  {
   "cell_type": "code",
   "execution_count": 28,
   "metadata": {},
   "outputs": [],
   "source": [
    "companies_data = compute_ratios(companies_data)"
   ]
  },
  {
   "cell_type": "code",
   "execution_count": 29,
   "metadata": {},
   "outputs": [
    {
     "data": {
      "text/html": [
       "<div>\n",
       "<style scoped>\n",
       "    .dataframe tbody tr th:only-of-type {\n",
       "        vertical-align: middle;\n",
       "    }\n",
       "\n",
       "    .dataframe tbody tr th {\n",
       "        vertical-align: top;\n",
       "    }\n",
       "\n",
       "    .dataframe thead th {\n",
       "        text-align: right;\n",
       "    }\n",
       "</style>\n",
       "<table border=\"1\" class=\"dataframe\">\n",
       "  <thead>\n",
       "    <tr style=\"text-align: right;\">\n",
       "      <th></th>\n",
       "      <th>Ticker</th>\n",
       "      <th>CUR_MKT_CAP</th>\n",
       "      <th>CURR_ENTP_VAL</th>\n",
       "      <th>EBIT</th>\n",
       "      <th>EBITDA</th>\n",
       "      <th>GROSS_PROFIT</th>\n",
       "      <th>PE_RATIO</th>\n",
       "      <th>EV_EBIT_ratio</th>\n",
       "      <th>EV_EBITDA_ratio</th>\n",
       "      <th>EV_GROSS_PROFIT_ratio</th>\n",
       "    </tr>\n",
       "  </thead>\n",
       "  <tbody>\n",
       "    <tr>\n",
       "      <th>24</th>\n",
       "      <td>GOOGL</td>\n",
       "      <td>1.798880e+12</td>\n",
       "      <td>1.684738e+06</td>\n",
       "      <td>41224.000</td>\n",
       "      <td>57188.000</td>\n",
       "      <td>97795.000</td>\n",
       "      <td>30.786899</td>\n",
       "      <td>40.867882</td>\n",
       "      <td>29.459634</td>\n",
       "      <td>17.227236</td>\n",
       "    </tr>\n",
       "    <tr>\n",
       "      <th>25</th>\n",
       "      <td>GOOG</td>\n",
       "      <td>1.798880e+12</td>\n",
       "      <td>1.684738e+06</td>\n",
       "      <td>41224.000</td>\n",
       "      <td>57188.000</td>\n",
       "      <td>97795.000</td>\n",
       "      <td>NaN</td>\n",
       "      <td>40.867882</td>\n",
       "      <td>29.459634</td>\n",
       "      <td>17.227236</td>\n",
       "    </tr>\n",
       "    <tr>\n",
       "      <th>305</th>\n",
       "      <td>MTCH</td>\n",
       "      <td>3.190371e+10</td>\n",
       "      <td>3.523730e+04</td>\n",
       "      <td>745.715</td>\n",
       "      <td>815.974</td>\n",
       "      <td>1755.436</td>\n",
       "      <td>57.789714</td>\n",
       "      <td>47.253041</td>\n",
       "      <td>43.184344</td>\n",
       "      <td>20.073248</td>\n",
       "    </tr>\n",
       "    <tr>\n",
       "      <th>311</th>\n",
       "      <td>FB</td>\n",
       "      <td>8.714140e+11</td>\n",
       "      <td>8.265580e+05</td>\n",
       "      <td>32671.000</td>\n",
       "      <td>40924.000</td>\n",
       "      <td>69273.000</td>\n",
       "      <td>22.359744</td>\n",
       "      <td>25.299439</td>\n",
       "      <td>20.197390</td>\n",
       "      <td>11.931892</td>\n",
       "    </tr>\n",
       "    <tr>\n",
       "      <th>455</th>\n",
       "      <td>TWTR</td>\n",
       "      <td>2.999337e+10</td>\n",
       "      <td>2.803180e+04</td>\n",
       "      <td>26.658</td>\n",
       "      <td>713.595</td>\n",
       "      <td>2349.961</td>\n",
       "      <td>84.258995</td>\n",
       "      <td>1051.534143</td>\n",
       "      <td>39.282502</td>\n",
       "      <td>11.928622</td>\n",
       "    </tr>\n",
       "    <tr>\n",
       "      <th>485</th>\n",
       "      <td>DIS</td>\n",
       "      <td>2.602720e+11</td>\n",
       "      <td>3.162972e+05</td>\n",
       "      <td>3005.000</td>\n",
       "      <td>8969.000</td>\n",
       "      <td>22287.000</td>\n",
       "      <td>90.276507</td>\n",
       "      <td>105.256975</td>\n",
       "      <td>35.265605</td>\n",
       "      <td>14.192005</td>\n",
       "    </tr>\n",
       "  </tbody>\n",
       "</table>\n",
       "</div>"
      ],
      "text/plain": [
       "    Ticker   CUR_MKT_CAP  CURR_ENTP_VAL       EBIT     EBITDA  GROSS_PROFIT  \\\n",
       "24   GOOGL  1.798880e+12   1.684738e+06  41224.000  57188.000     97795.000   \n",
       "25    GOOG  1.798880e+12   1.684738e+06  41224.000  57188.000     97795.000   \n",
       "305   MTCH  3.190371e+10   3.523730e+04    745.715    815.974      1755.436   \n",
       "311     FB  8.714140e+11   8.265580e+05  32671.000  40924.000     69273.000   \n",
       "455   TWTR  2.999337e+10   2.803180e+04     26.658    713.595      2349.961   \n",
       "485    DIS  2.602720e+11   3.162972e+05   3005.000   8969.000     22287.000   \n",
       "\n",
       "      PE_RATIO  EV_EBIT_ratio  EV_EBITDA_ratio  EV_GROSS_PROFIT_ratio  \n",
       "24   30.786899      40.867882        29.459634              17.227236  \n",
       "25         NaN      40.867882        29.459634              17.227236  \n",
       "305  57.789714      47.253041        43.184344              20.073248  \n",
       "311  22.359744      25.299439        20.197390              11.931892  \n",
       "455  84.258995    1051.534143        39.282502              11.928622  \n",
       "485  90.276507     105.256975        35.265605              14.192005  "
      ]
     },
     "execution_count": 29,
     "metadata": {},
     "output_type": "execute_result"
    }
   ],
   "source": [
    "companies_data"
   ]
  },
  {
   "cell_type": "code",
   "execution_count": 30,
   "metadata": {},
   "outputs": [],
   "source": [
    "companies_data = companies_data.set_index(\"Ticker\")"
   ]
  },
  {
   "cell_type": "code",
   "execution_count": 31,
   "metadata": {},
   "outputs": [
    {
     "data": {
      "image/png": "[encoded data removed]",
      "text/plain": [
       "<Figure size 432x288 with 1 Axes>"
      ]
     },
     "metadata": {
      "needs_background": "light"
     },
     "output_type": "display_data"
    }
   ],
   "source": [
    "#Scatter plot\n",
    "stat = \"EBIT\"\n",
    "ax = companies_data.plot.scatter(stat, \"CURR_ENTP_VAL\", title=f\"Scatter plot of EV and {stat}\")\n",
    "\n",
    "# Annotate each data point\n",
    "for i, txt in enumerate(companies_data.index):\n",
    "   ax.annotate(txt, (companies_data[stat].iat[i]+0.05, companies_data[\"CURR_ENTP_VAL\"].iat[i]))"
   ]
  },
  {
   "cell_type": "code",
   "execution_count": 32,
   "metadata": {},
   "outputs": [
    {
     "name": "stdout",
     "output_type": "stream",
     "text": [
      "\n",
      "Averages :\n",
      "CUR_MKT_CAP              7.985572e+11\n",
      "CURR_ENTP_VAL            7.625999e+05\n",
      "EBIT                     1.981606e+04\n",
      "EBITDA                   2.763309e+04\n",
      "GROSS_PROFIT             4.854257e+04\n",
      "PE_RATIO                 5.709437e+01\n",
      "EV_EBIT_ratio            2.185132e+02\n",
      "EV_EBITDA_ratio          3.280818e+01\n",
      "EV_GROSS_PROFIT_ratio    1.543004e+01\n",
      "dtype: float64\n"
     ]
    }
   ],
   "source": [
    "#calcul des moyennes\n",
    "print(\"\\nAverages :\")\n",
    "# averages = companies_data.drop()\n",
    "averages = companies_data.mean(axis=0)\n",
    "print(averages)"
   ]
  },
  {
   "cell_type": "markdown",
   "metadata": {},
   "source": [
    "# *** TO DO : CHECK EACH COLUMN'S UNIT, TO MAKE SURE EVERYTHING IS ON SAME SCALE (either thousands or millions of dollars) ***"
   ]
  },
  {
   "cell_type": "markdown",
   "metadata": {},
   "source": [
    "### CCA USING RATIOS"
   ]
  },
  {
   "cell_type": "code",
   "execution_count": 33,
   "metadata": {},
   "outputs": [
    {
     "name": "stdout",
     "output_type": "stream",
     "text": [
      "*** ESTIMATIONS ***\n",
      "(Values are in millions of dollars)\n",
      "\n",
      "Real EV of FB: 826557.986\n",
      "Estimated EV of FB (using avg EV_EBIT_ratio): 7139045.644956224 \n",
      "Real EV / Estimated EV : 0.11577989931805072\n",
      "\n",
      "\n",
      "\n",
      "*** ESTIMATIONS ***\n",
      "(Values are in millions of dollars)\n",
      "\n",
      "Real EV of FB: 826557.986\n",
      "Estimated EV of FB (using avg EV_EBITDA_ratio): 1342642.1585833407 \n",
      "Real EV / Estimated EV : 0.6156204620240172\n",
      "\n",
      "\n",
      "\n",
      "*** ESTIMATIONS ***\n",
      "(Values are in millions of dollars)\n",
      "\n",
      "Real EV of FB: 826557.986\n",
      "Estimated EV of FB (using avg EV_GROSS_PROFIT_ratio): 1068885.157004489 \n",
      "Real EV / Estimated EV : 0.7732897969286037\n",
      "\n",
      "\n",
      "\n"
     ]
    }
   ],
   "source": [
    "denominators = [\"EBIT\", \"EBITDA\", \"GROSS_PROFIT\"]\n",
    "\n",
    "for i in range(len(denominators)):\n",
    "    ratio_to_be_used = f\"EV_{denominators[i]}_ratio\"\n",
    "    estimated_EV = averages.loc[ratio_to_be_used] * companies_data.loc[studied_comp_ticker, denominators[i]]\n",
    "\n",
    "    print(\"*** ESTIMATIONS ***\\n(Values are in millions of dollars)\\n\")\n",
    "    print(f\"Real EV of {studied_comp_ticker}: {companies_data.loc[studied_comp_ticker, 'CURR_ENTP_VAL']}\")\n",
    "    print(f\"Estimated EV of {studied_comp_ticker} (using avg {ratio_to_be_used}): {estimated_EV} \")\n",
    "    print(f\"Real EV / Estimated EV : {companies_data.loc[studied_comp_ticker, 'CURR_ENTP_VAL'] / estimated_EV}\")\n",
    "    print(\"\\n\\n\")"
   ]
  },
  {
   "cell_type": "markdown",
   "metadata": {},
   "source": [
    "### CCA USING LINEAR REGRESSION"
   ]
  },
  {
   "cell_type": "markdown",
   "metadata": {},
   "source": [
    "Estimation using simple linear regression"
   ]
  },
  {
   "cell_type": "code",
   "execution_count": 34,
   "metadata": {},
   "outputs": [
    {
     "name": "stdout",
     "output_type": "stream",
     "text": [
      "\n",
      "Coefs ligne de regression :\n",
      "a=17.412\n",
      "intercept=-23221.1597\n",
      "\n",
      "Real EV of FB: 826557.986\n",
      "Estimated EV of FB with regression model (using GROSS_PROFIT): 1182957.1149609913\n",
      "Real EV / Estimated EV : 0.6987218518291395\n",
      "\n"
     ]
    },
    {
     "data": {
      "image/png": "[encoded data removed]",
      "text/plain": [
       "<Figure size 432x288 with 1 Axes>"
      ]
     },
     "metadata": {
      "needs_background": "light"
     },
     "output_type": "display_data"
    }
   ],
   "source": [
    "stat_used = \"GROSS_PROFIT\"\n",
    "ax = companies_data.plot.scatter(stat_used, \"CURR_ENTP_VAL\", title=f\"Scatter plot and regression line of EV and {stat_used}\")\n",
    "# Annotate each data point\n",
    "for i, txt in enumerate(companies_data.index):\n",
    "   ax.annotate(txt, (companies_data[stat_used].iat[i]+0.05, companies_data[\"CURR_ENTP_VAL\"].iat[i]))\n",
    "\n",
    "X = companies_data[companies_data.index != studied_comp_ticker][[stat_used]].reset_index(drop=True)\n",
    "Y = companies_data[companies_data.index != studied_comp_ticker][\"CURR_ENTP_VAL\"].reset_index(drop=True)\n",
    "\n",
    "linear_regressor = LinearRegression()\n",
    "linear_regressor.fit(X, Y)\n",
    "print(f\"\\nCoefs ligne de regression :\\na={round(linear_regressor.coef_[0], 4)}\\nintercept={round(linear_regressor.intercept_, 4)}\\n\")\n",
    "\n",
    "#EV estimation\n",
    "studied_comp_row_single_var = companies_data[companies_data.index == studied_comp_ticker][[stat_used]].reset_index(drop=True)\n",
    "estimated_EV = linear_regressor.predict(studied_comp_row_single_var)[0]\n",
    "\n",
    "print(f\"Real EV of {studied_comp_ticker}: {companies_data.loc[studied_comp_ticker, 'CURR_ENTP_VAL']}\")\n",
    "print(f\"Estimated EV of {studied_comp_ticker} with regression model (using {stat_used}): {estimated_EV}\")\n",
    "print(f\"Real EV / Estimated EV : {companies_data.loc[studied_comp_ticker, 'CURR_ENTP_VAL'] / estimated_EV}\\n\")\n",
    "\n",
    "plt.plot(X, X*linear_regressor.coef_ + linear_regressor.intercept_, color='red')\n",
    "plt.show()"
   ]
  },
  {
   "cell_type": "markdown",
   "metadata": {},
   "source": [
    "Estimation using multiple linear regression"
   ]
  },
  {
   "cell_type": "code",
   "execution_count": 35,
   "metadata": {},
   "outputs": [
    {
     "name": "stdout",
     "output_type": "stream",
     "text": [
      "\n",
      "Coefs ligne de regression :\n",
      "coefs=[ 39.81406619 -46.9451839   27.94983818]\n",
      "intercept=-5210.7474\n",
      "\n",
      "Real EV of FB: 826557.986\n",
      "Estimated EV of FB with regression model (using all stats): 1310539.043324318\n",
      "Real EV / Estimated EV : 0.630700771724702\n",
      "\n"
     ]
    }
   ],
   "source": [
    "X = companies_data[companies_data.index != studied_comp_ticker][[\"EBIT\", \"EBITDA\", \"GROSS_PROFIT\"]].reset_index(drop=True)\n",
    "Y = companies_data[companies_data.index != studied_comp_ticker][\"CURR_ENTP_VAL\"].reset_index(drop=True)\n",
    "\n",
    "linear_regressor2 = LinearRegression()\n",
    "linear_regressor2.fit(X, Y)\n",
    "print(f\"\\nCoefs ligne de regression :\\ncoefs={linear_regressor2.coef_}\\nintercept={round(linear_regressor2.intercept_, 4)}\\n\")\n",
    "\n",
    "#EV estimation\n",
    "studied_comp_row_multi_var = companies_data[companies_data.index == studied_comp_ticker][[\"EBIT\", \"EBITDA\", \"GROSS_PROFIT\"]].reset_index(drop=True)\n",
    "estimated_EV = linear_regressor2.predict(studied_comp_row_multi_var)[0]\n",
    "\n",
    "print(f\"Real EV of {studied_comp_ticker}: {companies_data.loc[studied_comp_ticker, 'CURR_ENTP_VAL']}\")\n",
    "print(f\"Estimated EV of {studied_comp_ticker} with regression model (using all stats): {estimated_EV}\")\n",
    "print(f\"Real EV / Estimated EV : {companies_data.loc[studied_comp_ticker, 'CURR_ENTP_VAL'] / estimated_EV}\\n\")"
   ]
  }
 ],
 "metadata": {
  "interpreter": {
   "hash": "07163781c87d2292492dc7833bd1f978937dac3e45b250592baf2d273b3ab11b"
  },
  "kernelspec": {
   "display_name": "Python 3.9.6 ('venv': venv)",
   "language": "python",
   "name": "python3"
  },
  "language_info": {
   "codemirror_mode": {
    "name": "ipython",
    "version": 3
   },
   "file_extension": ".py",
   "mimetype": "text/x-python",
   "name": "python",
   "nbconvert_exporter": "python",
   "pygments_lexer": "ipython3",
   "version": "3.9.6"
  },
  "orig_nbformat": 4
 },
 "nbformat": 4,
 "nbformat_minor": 2
}
